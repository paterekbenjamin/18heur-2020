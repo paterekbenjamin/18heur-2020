{
 "cells": [
  {
   "cell_type": "markdown",
   "metadata": {},
   "source": [
    "# Genetická optimalizácia (GO) problému obchodného cestujúceho (TSP)"
   ]
  },
  {
   "cell_type": "markdown",
   "metadata": {},
   "source": [
    "Tento notebook sa zaoberá GO (Genetic optimization) na TSP (Travelling salesman problem). Špeciálna pozornosť je venovaná skúmaniu crossover metód a ich porovnaniu. Súčasťou práce je zavedenie 4 nových crossover metód a ich porovnanie s metódami implementovanými v rámci kurzu."
   ]
  },
  {
   "cell_type": "markdown",
   "metadata": {},
   "source": [
    "## Ciele práce "
   ]
  },
  {
   "cell_type": "markdown",
   "metadata": {},
   "source": [
    "1. Definovanie nových crossover metód.\n",
    "2. Hľadanie optimálnych kombinácii crossover, mutation a correction metód pri GO na TSPGrid(3, 3).\n",
    "3. Tuning hyper-parametrov N, M, T_{1}, T_{2}.\n",
    "4. Zhodnotenie vplyvu náhodného generovania počiatočných riešení vs. žravej heuristiky.\n",
    "5. Záverečné zhodnotenie dosiahnutých výsledkov."
   ]
  },
  {
   "cell_type": "markdown",
   "metadata": {},
   "source": [
    "## 1. Nové crossover metódy"
   ]
  },
  {
   "cell_type": "markdown",
   "metadata": {},
   "source": [
    "<b>MatchCrossoverMax() </b>\n",
    "\n",
    "Pokiaľ sú rodičia (teda riešenia problému) vyjadrené ako vektory: $[x_{0},...,x_{n} ] $ a $[y_{0},...,y_{n} ] $, potom dieťa vyjadrené ako: $[z_{0},...,z_{n} ] $ vznikne nasledovne. "
   ]
  },
  {
   "cell_type": "code",
   "execution_count": null,
   "metadata": {},
   "outputs": [],
   "source": []
  },
  {
   "cell_type": "code",
   "execution_count": null,
   "metadata": {},
   "outputs": [],
   "source": []
  },
  {
   "cell_type": "code",
   "execution_count": null,
   "metadata": {},
   "outputs": [],
   "source": []
  },
  {
   "cell_type": "code",
   "execution_count": 1,
   "metadata": {},
   "outputs": [],
   "source": [
    "# Import path to source directory (bit of a hack in Jupyter)\n",
    "import sys\n",
    "import os\n",
    "pwd = %pwd\n",
    "sys.path.append(os.path.join(pwd, os.path.join('..', 'src')))\n",
    "\n",
    "# Ensure modules are reloaded on any change (very useful when developing code on the fly)\n",
    "%load_ext autoreload\n",
    "%autoreload 2\n",
    "\n",
    "# Work on local computer... add path to source directory\n",
    "sys.path.append('/home/benjamin/Documents/18heur-2020-master/src')"
   ]
  },
  {
   "cell_type": "code",
   "execution_count": 2,
   "metadata": {},
   "outputs": [],
   "source": [
    "import numpy as np\n",
    "import pandas as pd\n",
    "from tqdm.notebook import tqdm\n",
    "\n",
    "import matplotlib\n",
    "%matplotlib notebook\n",
    "import matplotlib.pyplot as plt\n",
    "import seaborn as sns\n",
    "sns.set()"
   ]
  },
  {
   "cell_type": "code",
   "execution_count": 3,
   "metadata": {},
   "outputs": [],
   "source": [
    "from objfun_tsp import TSPGrid\n",
    "tsp = TSPGrid(3, 3)"
   ]
  },
  {
   "cell_type": "code",
   "execution_count": 4,
   "metadata": {},
   "outputs": [],
   "source": [
    "from heur_go import Crossover, UniformMultipoint, RandomCombination # crossover\n",
    "from heur_go import MatchCrossoverMax, MatchCrossoverRnd, MisMatchCrossoverMax, MisMatchCrossoverRnd # new crossovers\n",
    "from heur_go import GeneticOptimization # heuristics \n",
    "from heur_aux import Correction, MirrorCorrection, ExtensionCorrection # corrections \n",
    "from heur_aux import CauchyMutation # mutation"
   ]
  },
  {
   "cell_type": "code",
   "execution_count": 5,
   "metadata": {},
   "outputs": [],
   "source": [
    "# tu podoplnat nove crossovers, corrections, ...\n",
    "\n",
    "multipoints = [1, 2, 3]\n",
    "crossovers = [\n",
    "    {'crossover': MatchCrossoverMax(), 'name': 'MCM'},\n",
    "    {'crossover': MatchCrossoverRnd(), 'name': 'MCR'},\n",
    "    {'crossover': MisMatchCrossoverMax(), 'name': 'MMCM'},\n",
    "    {'crossover': MisMatchCrossoverRnd(), 'name': 'MMCR'},\n",
    "    {'crossover': Crossover(), 'name': 'mix'},\n",
    "    {'crossover': RandomCombination(), 'name': 'rnd'}]\n",
    "for multipoint in multipoints:\n",
    "    crossover = {'crossover': UniformMultipoint(multipoint), 'name': 'uni{}'.format(multipoint)}\n",
    "    crossovers.append(crossover)\n",
    "\n",
    "corrections = [\n",
    "    {'correction': Correction(tsp), 'name': 'vanilla'},\n",
    "    {'correction': MirrorCorrection(tsp), 'name': 'mirror'},\n",
    "    {'correction': ExtensionCorrection(tsp), 'name': 'extension'}]\n",
    "\n",
    "parameters = [2, 3, 1]\n",
    "mutations = []\n",
    "for parameter in parameters:\n",
    "    for correction in corrections:\n",
    "        mutation = {'mutation': CauchyMutation(r=parameter, correction = correction['correction']), 'name': 'cauchy{}_'\n",
    "                   .format(parameter)+correction['name']}\n",
    "        mutations.append(mutation)"
   ]
  },
  {
   "cell_type": "code",
   "execution_count": 6,
   "metadata": {},
   "outputs": [],
   "source": [
    "NUM_RUNS = 1000\n",
    "maxeval = 100"
   ]
  },
  {
   "cell_type": "code",
   "execution_count": 7,
   "metadata": {},
   "outputs": [
    {
     "data": {
      "application/vnd.jupyter.widget-view+json": {
       "model_id": "6bc32459b9f647f895cfbe6999afa91d",
       "version_major": 2,
       "version_minor": 0
      },
      "text/plain": [
       "HBox(children=(FloatProgress(value=0.0, description='Testing GO_mut:(cauchy2_vanilla)_cro:MCM', max=1000.0, st…"
      ]
     },
     "metadata": {},
     "output_type": "display_data"
    },
    {
     "name": "stdout",
     "output_type": "stream",
     "text": [
      "\n"
     ]
    },
    {
     "data": {
      "application/vnd.jupyter.widget-view+json": {
       "model_id": "75e5ed7cdccb49ee8a474e7e25d74cfe",
       "version_major": 2,
       "version_minor": 0
      },
      "text/plain": [
       "HBox(children=(FloatProgress(value=0.0, description='Testing GO_mut:(cauchy2_mirror)_cro:MCM', max=1000.0, sty…"
      ]
     },
     "metadata": {},
     "output_type": "display_data"
    },
    {
     "name": "stdout",
     "output_type": "stream",
     "text": [
      "\n"
     ]
    },
    {
     "data": {
      "application/vnd.jupyter.widget-view+json": {
       "model_id": "61225cc1b3134df198e17da212e5b3e0",
       "version_major": 2,
       "version_minor": 0
      },
      "text/plain": [
       "HBox(children=(FloatProgress(value=0.0, description='Testing GO_mut:(cauchy2_extension)_cro:MCM', max=1000.0, …"
      ]
     },
     "metadata": {},
     "output_type": "display_data"
    },
    {
     "name": "stdout",
     "output_type": "stream",
     "text": [
      "\n"
     ]
    },
    {
     "data": {
      "application/vnd.jupyter.widget-view+json": {
       "model_id": "d069e349b20c45fd9a5bb30b5cd3b539",
       "version_major": 2,
       "version_minor": 0
      },
      "text/plain": [
       "HBox(children=(FloatProgress(value=0.0, description='Testing GO_mut:(cauchy3_vanilla)_cro:MCM', max=1000.0, st…"
      ]
     },
     "metadata": {},
     "output_type": "display_data"
    },
    {
     "name": "stdout",
     "output_type": "stream",
     "text": [
      "\n"
     ]
    },
    {
     "data": {
      "application/vnd.jupyter.widget-view+json": {
       "model_id": "58d949e8eca0492da02ca808ceafaa9f",
       "version_major": 2,
       "version_minor": 0
      },
      "text/plain": [
       "HBox(children=(FloatProgress(value=0.0, description='Testing GO_mut:(cauchy3_mirror)_cro:MCM', max=1000.0, sty…"
      ]
     },
     "metadata": {},
     "output_type": "display_data"
    },
    {
     "name": "stdout",
     "output_type": "stream",
     "text": [
      "\n"
     ]
    },
    {
     "data": {
      "application/vnd.jupyter.widget-view+json": {
       "model_id": "47a8e7aba9d5465692413688146e797b",
       "version_major": 2,
       "version_minor": 0
      },
      "text/plain": [
       "HBox(children=(FloatProgress(value=0.0, description='Testing GO_mut:(cauchy3_extension)_cro:MCM', max=1000.0, …"
      ]
     },
     "metadata": {},
     "output_type": "display_data"
    },
    {
     "name": "stdout",
     "output_type": "stream",
     "text": [
      "\n"
     ]
    },
    {
     "data": {
      "application/vnd.jupyter.widget-view+json": {
       "model_id": "3e3e4757d2fa4109bc750f23729a98e3",
       "version_major": 2,
       "version_minor": 0
      },
      "text/plain": [
       "HBox(children=(FloatProgress(value=0.0, description='Testing GO_mut:(cauchy1_vanilla)_cro:MCM', max=1000.0, st…"
      ]
     },
     "metadata": {},
     "output_type": "display_data"
    },
    {
     "name": "stdout",
     "output_type": "stream",
     "text": [
      "\n"
     ]
    },
    {
     "data": {
      "application/vnd.jupyter.widget-view+json": {
       "model_id": "befae803a5204d72a54fcf76b410aa91",
       "version_major": 2,
       "version_minor": 0
      },
      "text/plain": [
       "HBox(children=(FloatProgress(value=0.0, description='Testing GO_mut:(cauchy1_mirror)_cro:MCM', max=1000.0, sty…"
      ]
     },
     "metadata": {},
     "output_type": "display_data"
    },
    {
     "name": "stdout",
     "output_type": "stream",
     "text": [
      "\n"
     ]
    },
    {
     "data": {
      "application/vnd.jupyter.widget-view+json": {
       "model_id": "74d59899f3774a029d1730c58e6ea709",
       "version_major": 2,
       "version_minor": 0
      },
      "text/plain": [
       "HBox(children=(FloatProgress(value=0.0, description='Testing GO_mut:(cauchy1_extension)_cro:MCM', max=1000.0, …"
      ]
     },
     "metadata": {},
     "output_type": "display_data"
    },
    {
     "name": "stdout",
     "output_type": "stream",
     "text": [
      "\n"
     ]
    },
    {
     "data": {
      "application/vnd.jupyter.widget-view+json": {
       "model_id": "ec91a7405c714a3a85f77b2986e84ba1",
       "version_major": 2,
       "version_minor": 0
      },
      "text/plain": [
       "HBox(children=(FloatProgress(value=0.0, description='Testing GO_mut:(cauchy2_vanilla)_cro:MCR', max=1000.0, st…"
      ]
     },
     "metadata": {},
     "output_type": "display_data"
    },
    {
     "name": "stdout",
     "output_type": "stream",
     "text": [
      "\n"
     ]
    },
    {
     "data": {
      "application/vnd.jupyter.widget-view+json": {
       "model_id": "aa8ab208a30b44a6a597fa5e3d848384",
       "version_major": 2,
       "version_minor": 0
      },
      "text/plain": [
       "HBox(children=(FloatProgress(value=0.0, description='Testing GO_mut:(cauchy2_mirror)_cro:MCR', max=1000.0, sty…"
      ]
     },
     "metadata": {},
     "output_type": "display_data"
    },
    {
     "name": "stdout",
     "output_type": "stream",
     "text": [
      "\n"
     ]
    },
    {
     "data": {
      "application/vnd.jupyter.widget-view+json": {
       "model_id": "5323abbcc260456d8d321083ac8f7c2e",
       "version_major": 2,
       "version_minor": 0
      },
      "text/plain": [
       "HBox(children=(FloatProgress(value=0.0, description='Testing GO_mut:(cauchy2_extension)_cro:MCR', max=1000.0, …"
      ]
     },
     "metadata": {},
     "output_type": "display_data"
    },
    {
     "name": "stdout",
     "output_type": "stream",
     "text": [
      "\n"
     ]
    },
    {
     "data": {
      "application/vnd.jupyter.widget-view+json": {
       "model_id": "d66391408c8e4194be04a9a96b4efe35",
       "version_major": 2,
       "version_minor": 0
      },
      "text/plain": [
       "HBox(children=(FloatProgress(value=0.0, description='Testing GO_mut:(cauchy3_vanilla)_cro:MCR', max=1000.0, st…"
      ]
     },
     "metadata": {},
     "output_type": "display_data"
    },
    {
     "name": "stdout",
     "output_type": "stream",
     "text": [
      "\n"
     ]
    },
    {
     "data": {
      "application/vnd.jupyter.widget-view+json": {
       "model_id": "749fb098f1854143b7abc689921d7e06",
       "version_major": 2,
       "version_minor": 0
      },
      "text/plain": [
       "HBox(children=(FloatProgress(value=0.0, description='Testing GO_mut:(cauchy3_mirror)_cro:MCR', max=1000.0, sty…"
      ]
     },
     "metadata": {},
     "output_type": "display_data"
    },
    {
     "name": "stdout",
     "output_type": "stream",
     "text": [
      "\n"
     ]
    },
    {
     "data": {
      "application/vnd.jupyter.widget-view+json": {
       "model_id": "57ed8dfa7c6547fca3b9a3714007b82c",
       "version_major": 2,
       "version_minor": 0
      },
      "text/plain": [
       "HBox(children=(FloatProgress(value=0.0, description='Testing GO_mut:(cauchy3_extension)_cro:MCR', max=1000.0, …"
      ]
     },
     "metadata": {},
     "output_type": "display_data"
    },
    {
     "name": "stdout",
     "output_type": "stream",
     "text": [
      "\n"
     ]
    },
    {
     "data": {
      "application/vnd.jupyter.widget-view+json": {
       "model_id": "c76acd8ea97b4baf95fe6de9fd4ff572",
       "version_major": 2,
       "version_minor": 0
      },
      "text/plain": [
       "HBox(children=(FloatProgress(value=0.0, description='Testing GO_mut:(cauchy1_vanilla)_cro:MCR', max=1000.0, st…"
      ]
     },
     "metadata": {},
     "output_type": "display_data"
    },
    {
     "name": "stdout",
     "output_type": "stream",
     "text": [
      "\n"
     ]
    },
    {
     "data": {
      "application/vnd.jupyter.widget-view+json": {
       "model_id": "de9cc64c299c49c4bd1477fe3e0ea44c",
       "version_major": 2,
       "version_minor": 0
      },
      "text/plain": [
       "HBox(children=(FloatProgress(value=0.0, description='Testing GO_mut:(cauchy1_mirror)_cro:MCR', max=1000.0, sty…"
      ]
     },
     "metadata": {},
     "output_type": "display_data"
    },
    {
     "name": "stdout",
     "output_type": "stream",
     "text": [
      "\n"
     ]
    },
    {
     "data": {
      "application/vnd.jupyter.widget-view+json": {
       "model_id": "7d223d9adc444582aa0276c045d981c7",
       "version_major": 2,
       "version_minor": 0
      },
      "text/plain": [
       "HBox(children=(FloatProgress(value=0.0, description='Testing GO_mut:(cauchy1_extension)_cro:MCR', max=1000.0, …"
      ]
     },
     "metadata": {},
     "output_type": "display_data"
    },
    {
     "name": "stdout",
     "output_type": "stream",
     "text": [
      "\n"
     ]
    },
    {
     "data": {
      "application/vnd.jupyter.widget-view+json": {
       "model_id": "9312ff6c1cf74688856e05e2bb58b449",
       "version_major": 2,
       "version_minor": 0
      },
      "text/plain": [
       "HBox(children=(FloatProgress(value=0.0, description='Testing GO_mut:(cauchy2_vanilla)_cro:MMCM', max=1000.0, s…"
      ]
     },
     "metadata": {},
     "output_type": "display_data"
    },
    {
     "name": "stdout",
     "output_type": "stream",
     "text": [
      "\n"
     ]
    },
    {
     "data": {
      "application/vnd.jupyter.widget-view+json": {
       "model_id": "6701e4e39a5a4ee8b37a78a9b80b2230",
       "version_major": 2,
       "version_minor": 0
      },
      "text/plain": [
       "HBox(children=(FloatProgress(value=0.0, description='Testing GO_mut:(cauchy2_mirror)_cro:MMCM', max=1000.0, st…"
      ]
     },
     "metadata": {},
     "output_type": "display_data"
    },
    {
     "name": "stdout",
     "output_type": "stream",
     "text": [
      "\n"
     ]
    },
    {
     "data": {
      "application/vnd.jupyter.widget-view+json": {
       "model_id": "62159e6333274574a907f71489cb8219",
       "version_major": 2,
       "version_minor": 0
      },
      "text/plain": [
       "HBox(children=(FloatProgress(value=0.0, description='Testing GO_mut:(cauchy2_extension)_cro:MMCM', max=1000.0,…"
      ]
     },
     "metadata": {},
     "output_type": "display_data"
    },
    {
     "name": "stdout",
     "output_type": "stream",
     "text": [
      "\n"
     ]
    },
    {
     "data": {
      "application/vnd.jupyter.widget-view+json": {
       "model_id": "ea7108b7ed6f42e8bf5c0084b4762dc7",
       "version_major": 2,
       "version_minor": 0
      },
      "text/plain": [
       "HBox(children=(FloatProgress(value=0.0, description='Testing GO_mut:(cauchy3_vanilla)_cro:MMCM', max=1000.0, s…"
      ]
     },
     "metadata": {},
     "output_type": "display_data"
    },
    {
     "name": "stdout",
     "output_type": "stream",
     "text": [
      "\n"
     ]
    },
    {
     "data": {
      "application/vnd.jupyter.widget-view+json": {
       "model_id": "b917731ef0454701bea1be6effadc5ee",
       "version_major": 2,
       "version_minor": 0
      },
      "text/plain": [
       "HBox(children=(FloatProgress(value=0.0, description='Testing GO_mut:(cauchy3_mirror)_cro:MMCM', max=1000.0, st…"
      ]
     },
     "metadata": {},
     "output_type": "display_data"
    },
    {
     "name": "stdout",
     "output_type": "stream",
     "text": [
      "\n"
     ]
    },
    {
     "data": {
      "application/vnd.jupyter.widget-view+json": {
       "model_id": "813ba3a4f29f48b5800c92bc90ba3b08",
       "version_major": 2,
       "version_minor": 0
      },
      "text/plain": [
       "HBox(children=(FloatProgress(value=0.0, description='Testing GO_mut:(cauchy3_extension)_cro:MMCM', max=1000.0,…"
      ]
     },
     "metadata": {},
     "output_type": "display_data"
    },
    {
     "name": "stdout",
     "output_type": "stream",
     "text": [
      "\n"
     ]
    },
    {
     "data": {
      "application/vnd.jupyter.widget-view+json": {
       "model_id": "56e6c44d1aa54bec85ff1831dd0a4fae",
       "version_major": 2,
       "version_minor": 0
      },
      "text/plain": [
       "HBox(children=(FloatProgress(value=0.0, description='Testing GO_mut:(cauchy1_vanilla)_cro:MMCM', max=1000.0, s…"
      ]
     },
     "metadata": {},
     "output_type": "display_data"
    },
    {
     "name": "stdout",
     "output_type": "stream",
     "text": [
      "\n"
     ]
    },
    {
     "data": {
      "application/vnd.jupyter.widget-view+json": {
       "model_id": "bf22b156ff164a8b9b785b84d3a45c8f",
       "version_major": 2,
       "version_minor": 0
      },
      "text/plain": [
       "HBox(children=(FloatProgress(value=0.0, description='Testing GO_mut:(cauchy1_mirror)_cro:MMCM', max=1000.0, st…"
      ]
     },
     "metadata": {},
     "output_type": "display_data"
    },
    {
     "name": "stdout",
     "output_type": "stream",
     "text": [
      "\n"
     ]
    },
    {
     "data": {
      "application/vnd.jupyter.widget-view+json": {
       "model_id": "e98a73f2bab94cb0b0a43e5319ae2a92",
       "version_major": 2,
       "version_minor": 0
      },
      "text/plain": [
       "HBox(children=(FloatProgress(value=0.0, description='Testing GO_mut:(cauchy1_extension)_cro:MMCM', max=1000.0,…"
      ]
     },
     "metadata": {},
     "output_type": "display_data"
    },
    {
     "name": "stdout",
     "output_type": "stream",
     "text": [
      "\n"
     ]
    },
    {
     "data": {
      "application/vnd.jupyter.widget-view+json": {
       "model_id": "d0fc60b71bf648c79464d7fca4455474",
       "version_major": 2,
       "version_minor": 0
      },
      "text/plain": [
       "HBox(children=(FloatProgress(value=0.0, description='Testing GO_mut:(cauchy2_vanilla)_cro:MMCR', max=1000.0, s…"
      ]
     },
     "metadata": {},
     "output_type": "display_data"
    },
    {
     "name": "stdout",
     "output_type": "stream",
     "text": [
      "\n"
     ]
    },
    {
     "data": {
      "application/vnd.jupyter.widget-view+json": {
       "model_id": "6df05f3bf66a4fb092a65c147f275bcf",
       "version_major": 2,
       "version_minor": 0
      },
      "text/plain": [
       "HBox(children=(FloatProgress(value=0.0, description='Testing GO_mut:(cauchy2_mirror)_cro:MMCR', max=1000.0, st…"
      ]
     },
     "metadata": {},
     "output_type": "display_data"
    },
    {
     "name": "stdout",
     "output_type": "stream",
     "text": [
      "\n"
     ]
    },
    {
     "data": {
      "application/vnd.jupyter.widget-view+json": {
       "model_id": "0237385538f74e4f860485f3d4df0ef6",
       "version_major": 2,
       "version_minor": 0
      },
      "text/plain": [
       "HBox(children=(FloatProgress(value=0.0, description='Testing GO_mut:(cauchy2_extension)_cro:MMCR', max=1000.0,…"
      ]
     },
     "metadata": {},
     "output_type": "display_data"
    },
    {
     "name": "stdout",
     "output_type": "stream",
     "text": [
      "\n"
     ]
    },
    {
     "data": {
      "application/vnd.jupyter.widget-view+json": {
       "model_id": "5e5ced3873374a0f874e169669de7a7d",
       "version_major": 2,
       "version_minor": 0
      },
      "text/plain": [
       "HBox(children=(FloatProgress(value=0.0, description='Testing GO_mut:(cauchy3_vanilla)_cro:MMCR', max=1000.0, s…"
      ]
     },
     "metadata": {},
     "output_type": "display_data"
    },
    {
     "name": "stdout",
     "output_type": "stream",
     "text": [
      "\n"
     ]
    },
    {
     "data": {
      "application/vnd.jupyter.widget-view+json": {
       "model_id": "c83ad7aab4f84b00a822a75a81518d04",
       "version_major": 2,
       "version_minor": 0
      },
      "text/plain": [
       "HBox(children=(FloatProgress(value=0.0, description='Testing GO_mut:(cauchy3_mirror)_cro:MMCR', max=1000.0, st…"
      ]
     },
     "metadata": {},
     "output_type": "display_data"
    },
    {
     "name": "stdout",
     "output_type": "stream",
     "text": [
      "\n"
     ]
    },
    {
     "data": {
      "application/vnd.jupyter.widget-view+json": {
       "model_id": "849d8015344a41e9a031363d6769cbaa",
       "version_major": 2,
       "version_minor": 0
      },
      "text/plain": [
       "HBox(children=(FloatProgress(value=0.0, description='Testing GO_mut:(cauchy3_extension)_cro:MMCR', max=1000.0,…"
      ]
     },
     "metadata": {},
     "output_type": "display_data"
    },
    {
     "name": "stdout",
     "output_type": "stream",
     "text": [
      "\n"
     ]
    },
    {
     "data": {
      "application/vnd.jupyter.widget-view+json": {
       "model_id": "9f4f27c7d78844f99b2a62e340754032",
       "version_major": 2,
       "version_minor": 0
      },
      "text/plain": [
       "HBox(children=(FloatProgress(value=0.0, description='Testing GO_mut:(cauchy1_vanilla)_cro:MMCR', max=1000.0, s…"
      ]
     },
     "metadata": {},
     "output_type": "display_data"
    },
    {
     "name": "stdout",
     "output_type": "stream",
     "text": [
      "\n"
     ]
    },
    {
     "data": {
      "application/vnd.jupyter.widget-view+json": {
       "model_id": "871248d19eee405f80d3098df40a4f33",
       "version_major": 2,
       "version_minor": 0
      },
      "text/plain": [
       "HBox(children=(FloatProgress(value=0.0, description='Testing GO_mut:(cauchy1_mirror)_cro:MMCR', max=1000.0, st…"
      ]
     },
     "metadata": {},
     "output_type": "display_data"
    },
    {
     "name": "stdout",
     "output_type": "stream",
     "text": [
      "\n"
     ]
    },
    {
     "data": {
      "application/vnd.jupyter.widget-view+json": {
       "model_id": "a872a89a87b44ec383e5f227477828b3",
       "version_major": 2,
       "version_minor": 0
      },
      "text/plain": [
       "HBox(children=(FloatProgress(value=0.0, description='Testing GO_mut:(cauchy1_extension)_cro:MMCR', max=1000.0,…"
      ]
     },
     "metadata": {},
     "output_type": "display_data"
    },
    {
     "name": "stdout",
     "output_type": "stream",
     "text": [
      "\n"
     ]
    },
    {
     "data": {
      "application/vnd.jupyter.widget-view+json": {
       "model_id": "74e802c6048443508cc02afa360b7fcf",
       "version_major": 2,
       "version_minor": 0
      },
      "text/plain": [
       "HBox(children=(FloatProgress(value=0.0, description='Testing GO_mut:(cauchy2_vanilla)_cro:mix', max=1000.0, st…"
      ]
     },
     "metadata": {},
     "output_type": "display_data"
    },
    {
     "name": "stdout",
     "output_type": "stream",
     "text": [
      "\n"
     ]
    },
    {
     "data": {
      "application/vnd.jupyter.widget-view+json": {
       "model_id": "e155959a7a974dfbb4d6a1d09b0262cf",
       "version_major": 2,
       "version_minor": 0
      },
      "text/plain": [
       "HBox(children=(FloatProgress(value=0.0, description='Testing GO_mut:(cauchy2_mirror)_cro:mix', max=1000.0, sty…"
      ]
     },
     "metadata": {},
     "output_type": "display_data"
    },
    {
     "name": "stdout",
     "output_type": "stream",
     "text": [
      "\n"
     ]
    },
    {
     "data": {
      "application/vnd.jupyter.widget-view+json": {
       "model_id": "6a1a2dd4297c42c8b1ae486d36612c20",
       "version_major": 2,
       "version_minor": 0
      },
      "text/plain": [
       "HBox(children=(FloatProgress(value=0.0, description='Testing GO_mut:(cauchy2_extension)_cro:mix', max=1000.0, …"
      ]
     },
     "metadata": {},
     "output_type": "display_data"
    },
    {
     "name": "stdout",
     "output_type": "stream",
     "text": [
      "\n"
     ]
    },
    {
     "data": {
      "application/vnd.jupyter.widget-view+json": {
       "model_id": "6f16c425f429440a92ee77b57747226b",
       "version_major": 2,
       "version_minor": 0
      },
      "text/plain": [
       "HBox(children=(FloatProgress(value=0.0, description='Testing GO_mut:(cauchy3_vanilla)_cro:mix', max=1000.0, st…"
      ]
     },
     "metadata": {},
     "output_type": "display_data"
    },
    {
     "name": "stdout",
     "output_type": "stream",
     "text": [
      "\n"
     ]
    },
    {
     "data": {
      "application/vnd.jupyter.widget-view+json": {
       "model_id": "b2ab81a7bf28446d99202bf6494e1207",
       "version_major": 2,
       "version_minor": 0
      },
      "text/plain": [
       "HBox(children=(FloatProgress(value=0.0, description='Testing GO_mut:(cauchy3_mirror)_cro:mix', max=1000.0, sty…"
      ]
     },
     "metadata": {},
     "output_type": "display_data"
    },
    {
     "name": "stdout",
     "output_type": "stream",
     "text": [
      "\n"
     ]
    },
    {
     "data": {
      "application/vnd.jupyter.widget-view+json": {
       "model_id": "6aeb4096d22941f695e759dbc026cc74",
       "version_major": 2,
       "version_minor": 0
      },
      "text/plain": [
       "HBox(children=(FloatProgress(value=0.0, description='Testing GO_mut:(cauchy3_extension)_cro:mix', max=1000.0, …"
      ]
     },
     "metadata": {},
     "output_type": "display_data"
    },
    {
     "name": "stdout",
     "output_type": "stream",
     "text": [
      "\n"
     ]
    },
    {
     "data": {
      "application/vnd.jupyter.widget-view+json": {
       "model_id": "e4afd314a99d4c00a30f4a179bd9138e",
       "version_major": 2,
       "version_minor": 0
      },
      "text/plain": [
       "HBox(children=(FloatProgress(value=0.0, description='Testing GO_mut:(cauchy1_vanilla)_cro:mix', max=1000.0, st…"
      ]
     },
     "metadata": {},
     "output_type": "display_data"
    },
    {
     "name": "stdout",
     "output_type": "stream",
     "text": [
      "\n"
     ]
    },
    {
     "data": {
      "application/vnd.jupyter.widget-view+json": {
       "model_id": "028bc78b9e024773aad900517ebc50ea",
       "version_major": 2,
       "version_minor": 0
      },
      "text/plain": [
       "HBox(children=(FloatProgress(value=0.0, description='Testing GO_mut:(cauchy1_mirror)_cro:mix', max=1000.0, sty…"
      ]
     },
     "metadata": {},
     "output_type": "display_data"
    },
    {
     "name": "stdout",
     "output_type": "stream",
     "text": [
      "\n"
     ]
    },
    {
     "data": {
      "application/vnd.jupyter.widget-view+json": {
       "model_id": "3ca0ec733a104fc088a834dd21e47fa8",
       "version_major": 2,
       "version_minor": 0
      },
      "text/plain": [
       "HBox(children=(FloatProgress(value=0.0, description='Testing GO_mut:(cauchy1_extension)_cro:mix', max=1000.0, …"
      ]
     },
     "metadata": {},
     "output_type": "display_data"
    },
    {
     "name": "stdout",
     "output_type": "stream",
     "text": [
      "\n"
     ]
    },
    {
     "data": {
      "application/vnd.jupyter.widget-view+json": {
       "model_id": "6d0e4fbd3b0a409e9b4f36cd5a36562a",
       "version_major": 2,
       "version_minor": 0
      },
      "text/plain": [
       "HBox(children=(FloatProgress(value=0.0, description='Testing GO_mut:(cauchy2_vanilla)_cro:rnd', max=1000.0, st…"
      ]
     },
     "metadata": {},
     "output_type": "display_data"
    },
    {
     "name": "stdout",
     "output_type": "stream",
     "text": [
      "\n"
     ]
    },
    {
     "data": {
      "application/vnd.jupyter.widget-view+json": {
       "model_id": "f6d86b7950574febaa67e417df29903c",
       "version_major": 2,
       "version_minor": 0
      },
      "text/plain": [
       "HBox(children=(FloatProgress(value=0.0, description='Testing GO_mut:(cauchy2_mirror)_cro:rnd', max=1000.0, sty…"
      ]
     },
     "metadata": {},
     "output_type": "display_data"
    },
    {
     "name": "stdout",
     "output_type": "stream",
     "text": [
      "\n"
     ]
    },
    {
     "data": {
      "application/vnd.jupyter.widget-view+json": {
       "model_id": "d271e3352bcc43139c7488507469433e",
       "version_major": 2,
       "version_minor": 0
      },
      "text/plain": [
       "HBox(children=(FloatProgress(value=0.0, description='Testing GO_mut:(cauchy2_extension)_cro:rnd', max=1000.0, …"
      ]
     },
     "metadata": {},
     "output_type": "display_data"
    },
    {
     "name": "stdout",
     "output_type": "stream",
     "text": [
      "\n"
     ]
    },
    {
     "data": {
      "application/vnd.jupyter.widget-view+json": {
       "model_id": "5bc30732771f419e95c5a39ee429db89",
       "version_major": 2,
       "version_minor": 0
      },
      "text/plain": [
       "HBox(children=(FloatProgress(value=0.0, description='Testing GO_mut:(cauchy3_vanilla)_cro:rnd', max=1000.0, st…"
      ]
     },
     "metadata": {},
     "output_type": "display_data"
    },
    {
     "name": "stdout",
     "output_type": "stream",
     "text": [
      "\n"
     ]
    },
    {
     "data": {
      "application/vnd.jupyter.widget-view+json": {
       "model_id": "0b8ab19f27004517b071e5e6afc797c8",
       "version_major": 2,
       "version_minor": 0
      },
      "text/plain": [
       "HBox(children=(FloatProgress(value=0.0, description='Testing GO_mut:(cauchy3_mirror)_cro:rnd', max=1000.0, sty…"
      ]
     },
     "metadata": {},
     "output_type": "display_data"
    },
    {
     "name": "stdout",
     "output_type": "stream",
     "text": [
      "\n"
     ]
    },
    {
     "data": {
      "application/vnd.jupyter.widget-view+json": {
       "model_id": "1dd0d3bc26d54e5682379102fcb3cde7",
       "version_major": 2,
       "version_minor": 0
      },
      "text/plain": [
       "HBox(children=(FloatProgress(value=0.0, description='Testing GO_mut:(cauchy3_extension)_cro:rnd', max=1000.0, …"
      ]
     },
     "metadata": {},
     "output_type": "display_data"
    },
    {
     "name": "stdout",
     "output_type": "stream",
     "text": [
      "\n"
     ]
    },
    {
     "data": {
      "application/vnd.jupyter.widget-view+json": {
       "model_id": "03c4348b033948b7a3354087fedc9a2d",
       "version_major": 2,
       "version_minor": 0
      },
      "text/plain": [
       "HBox(children=(FloatProgress(value=0.0, description='Testing GO_mut:(cauchy1_vanilla)_cro:rnd', max=1000.0, st…"
      ]
     },
     "metadata": {},
     "output_type": "display_data"
    },
    {
     "name": "stdout",
     "output_type": "stream",
     "text": [
      "\n"
     ]
    },
    {
     "data": {
      "application/vnd.jupyter.widget-view+json": {
       "model_id": "6e57a6686d294067b297e7a7fad724ae",
       "version_major": 2,
       "version_minor": 0
      },
      "text/plain": [
       "HBox(children=(FloatProgress(value=0.0, description='Testing GO_mut:(cauchy1_mirror)_cro:rnd', max=1000.0, sty…"
      ]
     },
     "metadata": {},
     "output_type": "display_data"
    },
    {
     "name": "stdout",
     "output_type": "stream",
     "text": [
      "\n"
     ]
    },
    {
     "data": {
      "application/vnd.jupyter.widget-view+json": {
       "model_id": "0e8b7efc957146e2a8dc0a750ae30685",
       "version_major": 2,
       "version_minor": 0
      },
      "text/plain": [
       "HBox(children=(FloatProgress(value=0.0, description='Testing GO_mut:(cauchy1_extension)_cro:rnd', max=1000.0, …"
      ]
     },
     "metadata": {},
     "output_type": "display_data"
    },
    {
     "name": "stdout",
     "output_type": "stream",
     "text": [
      "\n"
     ]
    },
    {
     "data": {
      "application/vnd.jupyter.widget-view+json": {
       "model_id": "8eed87b2204142b4b3fef75f3b8f302c",
       "version_major": 2,
       "version_minor": 0
      },
      "text/plain": [
       "HBox(children=(FloatProgress(value=0.0, description='Testing GO_mut:(cauchy2_vanilla)_cro:uni1', max=1000.0, s…"
      ]
     },
     "metadata": {},
     "output_type": "display_data"
    },
    {
     "name": "stdout",
     "output_type": "stream",
     "text": [
      "\n"
     ]
    },
    {
     "data": {
      "application/vnd.jupyter.widget-view+json": {
       "model_id": "aa4bba11172e47c78d7cb7e0341438e6",
       "version_major": 2,
       "version_minor": 0
      },
      "text/plain": [
       "HBox(children=(FloatProgress(value=0.0, description='Testing GO_mut:(cauchy2_mirror)_cro:uni1', max=1000.0, st…"
      ]
     },
     "metadata": {},
     "output_type": "display_data"
    },
    {
     "name": "stdout",
     "output_type": "stream",
     "text": [
      "\n"
     ]
    },
    {
     "data": {
      "application/vnd.jupyter.widget-view+json": {
       "model_id": "19eb3846d6c0478b9d623b235d6eb99f",
       "version_major": 2,
       "version_minor": 0
      },
      "text/plain": [
       "HBox(children=(FloatProgress(value=0.0, description='Testing GO_mut:(cauchy2_extension)_cro:uni1', max=1000.0,…"
      ]
     },
     "metadata": {},
     "output_type": "display_data"
    },
    {
     "name": "stdout",
     "output_type": "stream",
     "text": [
      "\n"
     ]
    },
    {
     "data": {
      "application/vnd.jupyter.widget-view+json": {
       "model_id": "976ebfbdd6b04f3ca09afb114404aabe",
       "version_major": 2,
       "version_minor": 0
      },
      "text/plain": [
       "HBox(children=(FloatProgress(value=0.0, description='Testing GO_mut:(cauchy3_vanilla)_cro:uni1', max=1000.0, s…"
      ]
     },
     "metadata": {},
     "output_type": "display_data"
    },
    {
     "name": "stdout",
     "output_type": "stream",
     "text": [
      "\n"
     ]
    },
    {
     "data": {
      "application/vnd.jupyter.widget-view+json": {
       "model_id": "659ad73f7b934526816a61992aa8b8e6",
       "version_major": 2,
       "version_minor": 0
      },
      "text/plain": [
       "HBox(children=(FloatProgress(value=0.0, description='Testing GO_mut:(cauchy3_mirror)_cro:uni1', max=1000.0, st…"
      ]
     },
     "metadata": {},
     "output_type": "display_data"
    },
    {
     "name": "stdout",
     "output_type": "stream",
     "text": [
      "\n"
     ]
    },
    {
     "data": {
      "application/vnd.jupyter.widget-view+json": {
       "model_id": "06f7e5f45d9d45d5b283be9faf3a21a5",
       "version_major": 2,
       "version_minor": 0
      },
      "text/plain": [
       "HBox(children=(FloatProgress(value=0.0, description='Testing GO_mut:(cauchy3_extension)_cro:uni1', max=1000.0,…"
      ]
     },
     "metadata": {},
     "output_type": "display_data"
    },
    {
     "name": "stdout",
     "output_type": "stream",
     "text": [
      "\n"
     ]
    },
    {
     "data": {
      "application/vnd.jupyter.widget-view+json": {
       "model_id": "cfd03e6d3ca54224ab7030e3dbc3763e",
       "version_major": 2,
       "version_minor": 0
      },
      "text/plain": [
       "HBox(children=(FloatProgress(value=0.0, description='Testing GO_mut:(cauchy1_vanilla)_cro:uni1', max=1000.0, s…"
      ]
     },
     "metadata": {},
     "output_type": "display_data"
    },
    {
     "name": "stdout",
     "output_type": "stream",
     "text": [
      "\n"
     ]
    },
    {
     "data": {
      "application/vnd.jupyter.widget-view+json": {
       "model_id": "78c9c3cc536f4096ab62a000e6dc1943",
       "version_major": 2,
       "version_minor": 0
      },
      "text/plain": [
       "HBox(children=(FloatProgress(value=0.0, description='Testing GO_mut:(cauchy1_mirror)_cro:uni1', max=1000.0, st…"
      ]
     },
     "metadata": {},
     "output_type": "display_data"
    },
    {
     "name": "stdout",
     "output_type": "stream",
     "text": [
      "\n"
     ]
    },
    {
     "data": {
      "application/vnd.jupyter.widget-view+json": {
       "model_id": "308e09e577dc4fa59a0e112e29d2a412",
       "version_major": 2,
       "version_minor": 0
      },
      "text/plain": [
       "HBox(children=(FloatProgress(value=0.0, description='Testing GO_mut:(cauchy1_extension)_cro:uni1', max=1000.0,…"
      ]
     },
     "metadata": {},
     "output_type": "display_data"
    },
    {
     "name": "stdout",
     "output_type": "stream",
     "text": [
      "\n"
     ]
    },
    {
     "data": {
      "application/vnd.jupyter.widget-view+json": {
       "model_id": "b500c346a0a849bfbd9a1e4e37ad8bdb",
       "version_major": 2,
       "version_minor": 0
      },
      "text/plain": [
       "HBox(children=(FloatProgress(value=0.0, description='Testing GO_mut:(cauchy2_vanilla)_cro:uni2', max=1000.0, s…"
      ]
     },
     "metadata": {},
     "output_type": "display_data"
    },
    {
     "name": "stdout",
     "output_type": "stream",
     "text": [
      "\n"
     ]
    },
    {
     "data": {
      "application/vnd.jupyter.widget-view+json": {
       "model_id": "f27ddf8e4d5b4c70adc02accf1b3436e",
       "version_major": 2,
       "version_minor": 0
      },
      "text/plain": [
       "HBox(children=(FloatProgress(value=0.0, description='Testing GO_mut:(cauchy2_mirror)_cro:uni2', max=1000.0, st…"
      ]
     },
     "metadata": {},
     "output_type": "display_data"
    },
    {
     "name": "stdout",
     "output_type": "stream",
     "text": [
      "\n"
     ]
    },
    {
     "data": {
      "application/vnd.jupyter.widget-view+json": {
       "model_id": "9d2d364512a5447a8deb5129e9c94076",
       "version_major": 2,
       "version_minor": 0
      },
      "text/plain": [
       "HBox(children=(FloatProgress(value=0.0, description='Testing GO_mut:(cauchy2_extension)_cro:uni2', max=1000.0,…"
      ]
     },
     "metadata": {},
     "output_type": "display_data"
    },
    {
     "name": "stdout",
     "output_type": "stream",
     "text": [
      "\n"
     ]
    },
    {
     "data": {
      "application/vnd.jupyter.widget-view+json": {
       "model_id": "5ad026e23b54470ab53c3979fe2765cd",
       "version_major": 2,
       "version_minor": 0
      },
      "text/plain": [
       "HBox(children=(FloatProgress(value=0.0, description='Testing GO_mut:(cauchy3_vanilla)_cro:uni2', max=1000.0, s…"
      ]
     },
     "metadata": {},
     "output_type": "display_data"
    },
    {
     "name": "stdout",
     "output_type": "stream",
     "text": [
      "\n"
     ]
    },
    {
     "data": {
      "application/vnd.jupyter.widget-view+json": {
       "model_id": "75bb7e8914214b58b962a2206549c77e",
       "version_major": 2,
       "version_minor": 0
      },
      "text/plain": [
       "HBox(children=(FloatProgress(value=0.0, description='Testing GO_mut:(cauchy3_mirror)_cro:uni2', max=1000.0, st…"
      ]
     },
     "metadata": {},
     "output_type": "display_data"
    },
    {
     "name": "stdout",
     "output_type": "stream",
     "text": [
      "\n"
     ]
    },
    {
     "data": {
      "application/vnd.jupyter.widget-view+json": {
       "model_id": "3ad59079a8b94ba1a019d75f05397828",
       "version_major": 2,
       "version_minor": 0
      },
      "text/plain": [
       "HBox(children=(FloatProgress(value=0.0, description='Testing GO_mut:(cauchy3_extension)_cro:uni2', max=1000.0,…"
      ]
     },
     "metadata": {},
     "output_type": "display_data"
    },
    {
     "name": "stdout",
     "output_type": "stream",
     "text": [
      "\n"
     ]
    },
    {
     "data": {
      "application/vnd.jupyter.widget-view+json": {
       "model_id": "f5a58da29deb487d998793036781cc12",
       "version_major": 2,
       "version_minor": 0
      },
      "text/plain": [
       "HBox(children=(FloatProgress(value=0.0, description='Testing GO_mut:(cauchy1_vanilla)_cro:uni2', max=1000.0, s…"
      ]
     },
     "metadata": {},
     "output_type": "display_data"
    },
    {
     "name": "stdout",
     "output_type": "stream",
     "text": [
      "\n"
     ]
    },
    {
     "data": {
      "application/vnd.jupyter.widget-view+json": {
       "model_id": "3091b2af4bee40679d84c0864e7552cc",
       "version_major": 2,
       "version_minor": 0
      },
      "text/plain": [
       "HBox(children=(FloatProgress(value=0.0, description='Testing GO_mut:(cauchy1_mirror)_cro:uni2', max=1000.0, st…"
      ]
     },
     "metadata": {},
     "output_type": "display_data"
    },
    {
     "name": "stdout",
     "output_type": "stream",
     "text": [
      "\n"
     ]
    },
    {
     "data": {
      "application/vnd.jupyter.widget-view+json": {
       "model_id": "3b0542c8fc124daeb151b2d95ff41690",
       "version_major": 2,
       "version_minor": 0
      },
      "text/plain": [
       "HBox(children=(FloatProgress(value=0.0, description='Testing GO_mut:(cauchy1_extension)_cro:uni2', max=1000.0,…"
      ]
     },
     "metadata": {},
     "output_type": "display_data"
    },
    {
     "name": "stdout",
     "output_type": "stream",
     "text": [
      "\n"
     ]
    },
    {
     "data": {
      "application/vnd.jupyter.widget-view+json": {
       "model_id": "011e5f85a13b45e984ece740c9608194",
       "version_major": 2,
       "version_minor": 0
      },
      "text/plain": [
       "HBox(children=(FloatProgress(value=0.0, description='Testing GO_mut:(cauchy2_vanilla)_cro:uni3', max=1000.0, s…"
      ]
     },
     "metadata": {},
     "output_type": "display_data"
    },
    {
     "name": "stdout",
     "output_type": "stream",
     "text": [
      "\n"
     ]
    },
    {
     "data": {
      "application/vnd.jupyter.widget-view+json": {
       "model_id": "36d196d38d1b4e8e9362396ec28bed1c",
       "version_major": 2,
       "version_minor": 0
      },
      "text/plain": [
       "HBox(children=(FloatProgress(value=0.0, description='Testing GO_mut:(cauchy2_mirror)_cro:uni3', max=1000.0, st…"
      ]
     },
     "metadata": {},
     "output_type": "display_data"
    },
    {
     "name": "stdout",
     "output_type": "stream",
     "text": [
      "\n"
     ]
    },
    {
     "data": {
      "application/vnd.jupyter.widget-view+json": {
       "model_id": "88a0eb9e1dda4c4f811f8801987ee02b",
       "version_major": 2,
       "version_minor": 0
      },
      "text/plain": [
       "HBox(children=(FloatProgress(value=0.0, description='Testing GO_mut:(cauchy2_extension)_cro:uni3', max=1000.0,…"
      ]
     },
     "metadata": {},
     "output_type": "display_data"
    },
    {
     "name": "stdout",
     "output_type": "stream",
     "text": [
      "\n"
     ]
    },
    {
     "data": {
      "application/vnd.jupyter.widget-view+json": {
       "model_id": "e9617ee29cb44e1e8608cbb30274dafb",
       "version_major": 2,
       "version_minor": 0
      },
      "text/plain": [
       "HBox(children=(FloatProgress(value=0.0, description='Testing GO_mut:(cauchy3_vanilla)_cro:uni3', max=1000.0, s…"
      ]
     },
     "metadata": {},
     "output_type": "display_data"
    },
    {
     "name": "stdout",
     "output_type": "stream",
     "text": [
      "\n"
     ]
    },
    {
     "data": {
      "application/vnd.jupyter.widget-view+json": {
       "model_id": "e8e7d539a59149b9830c2b8d74097787",
       "version_major": 2,
       "version_minor": 0
      },
      "text/plain": [
       "HBox(children=(FloatProgress(value=0.0, description='Testing GO_mut:(cauchy3_mirror)_cro:uni3', max=1000.0, st…"
      ]
     },
     "metadata": {},
     "output_type": "display_data"
    },
    {
     "name": "stdout",
     "output_type": "stream",
     "text": [
      "\n"
     ]
    },
    {
     "data": {
      "application/vnd.jupyter.widget-view+json": {
       "model_id": "8c2fdadda3e040488b0701334e985ae0",
       "version_major": 2,
       "version_minor": 0
      },
      "text/plain": [
       "HBox(children=(FloatProgress(value=0.0, description='Testing GO_mut:(cauchy3_extension)_cro:uni3', max=1000.0,…"
      ]
     },
     "metadata": {},
     "output_type": "display_data"
    },
    {
     "name": "stdout",
     "output_type": "stream",
     "text": [
      "\n"
     ]
    },
    {
     "data": {
      "application/vnd.jupyter.widget-view+json": {
       "model_id": "40b69a5878cb44a6b549db216d42ca6b",
       "version_major": 2,
       "version_minor": 0
      },
      "text/plain": [
       "HBox(children=(FloatProgress(value=0.0, description='Testing GO_mut:(cauchy1_vanilla)_cro:uni3', max=1000.0, s…"
      ]
     },
     "metadata": {},
     "output_type": "display_data"
    },
    {
     "name": "stdout",
     "output_type": "stream",
     "text": [
      "\n"
     ]
    },
    {
     "data": {
      "application/vnd.jupyter.widget-view+json": {
       "model_id": "b8bac9cd5ed740298c872ead73bbe386",
       "version_major": 2,
       "version_minor": 0
      },
      "text/plain": [
       "HBox(children=(FloatProgress(value=0.0, description='Testing GO_mut:(cauchy1_mirror)_cro:uni3', max=1000.0, st…"
      ]
     },
     "metadata": {},
     "output_type": "display_data"
    },
    {
     "name": "stdout",
     "output_type": "stream",
     "text": [
      "\n"
     ]
    },
    {
     "data": {
      "application/vnd.jupyter.widget-view+json": {
       "model_id": "c6d2e2cf62eb45e193e3a79f049279ab",
       "version_major": 2,
       "version_minor": 0
      },
      "text/plain": [
       "HBox(children=(FloatProgress(value=0.0, description='Testing GO_mut:(cauchy1_extension)_cro:uni3', max=1000.0,…"
      ]
     },
     "metadata": {},
     "output_type": "display_data"
    },
    {
     "name": "stdout",
     "output_type": "stream",
     "text": [
      "\n"
     ]
    }
   ],
   "source": [
    "results = pd.DataFrame()\n",
    "for crossover in crossovers:\n",
    "    for mutation in mutations:\n",
    "        heur_name = 'GO_mut:({})_cro:{}'.format(mutation['name'], crossover['name'])\n",
    "        runs = []\n",
    "        for i in tqdm(range(NUM_RUNS), 'Testing {}'.format(heur_name)):\n",
    "            run = GeneticOptimization(tsp, maxeval, N=5, M=15, Tsel1=1.0, Tsel2=0.5, \n",
    "                                      mutation=mutation['mutation'],\n",
    "                                      crossover=crossover['crossover']).search()\n",
    "            run['run'] = i\n",
    "            run['heur'] = heur_name\n",
    "            run['mutation'] = mutation['name']\n",
    "            run['crossover'] = crossover['name']\n",
    "            runs.append(run)\n",
    "\n",
    "        res_df = pd.DataFrame(runs, columns=['heur', 'run', 'mutation', 'crossover','best_x', 'best_y', 'neval'])\n",
    "        results = pd.concat([results, res_df], axis=0)"
   ]
  },
  {
   "cell_type": "code",
   "execution_count": 8,
   "metadata": {},
   "outputs": [],
   "source": [
    "def rel(x):\n",
    "    return len([n for n in x if n < np.inf])/len(x)\n",
    "def mne(x):\n",
    "    return np.mean([n for n in x if n < np.inf])\n",
    "def feo(x):\n",
    "    return mne(x)/rel(x)"
   ]
  },
  {
   "cell_type": "code",
   "execution_count": 11,
   "metadata": {},
   "outputs": [
    {
     "name": "stderr",
     "output_type": "stream",
     "text": [
      "/home/benjamin/anaconda3/lib/python3.7/site-packages/numpy/core/fromnumeric.py:3335: RuntimeWarning: Mean of empty slice.\n",
      "  out=out, **kwargs)\n",
      "/home/benjamin/anaconda3/lib/python3.7/site-packages/numpy/core/_methods.py:161: RuntimeWarning: invalid value encountered in double_scalars\n",
      "  ret = ret.dtype.type(ret / rcount)\n"
     ]
    },
    {
     "data": {
      "text/html": [
       "<div>\n",
       "<style scoped>\n",
       "    .dataframe tbody tr th:only-of-type {\n",
       "        vertical-align: middle;\n",
       "    }\n",
       "\n",
       "    .dataframe tbody tr th {\n",
       "        vertical-align: top;\n",
       "    }\n",
       "\n",
       "    .dataframe thead th {\n",
       "        text-align: right;\n",
       "    }\n",
       "</style>\n",
       "<table border=\"1\" class=\"dataframe\">\n",
       "  <thead>\n",
       "    <tr style=\"text-align: right;\">\n",
       "      <th></th>\n",
       "      <th>heur</th>\n",
       "      <th>mutation</th>\n",
       "      <th>crossover</th>\n",
       "      <th>feo</th>\n",
       "      <th>mne</th>\n",
       "      <th>rel</th>\n",
       "    </tr>\n",
       "  </thead>\n",
       "  <tbody>\n",
       "    <tr>\n",
       "      <th>24</th>\n",
       "      <td>GO_mut:(cauchy1_vanilla)_cro:uni1</td>\n",
       "      <td>cauchy1_vanilla</td>\n",
       "      <td>uni1</td>\n",
       "      <td>255.620485</td>\n",
       "      <td>56.747748</td>\n",
       "      <td>0.222</td>\n",
       "    </tr>\n",
       "    <tr>\n",
       "      <th>18</th>\n",
       "      <td>GO_mut:(cauchy1_vanilla)_cro:MCM</td>\n",
       "      <td>cauchy1_vanilla</td>\n",
       "      <td>MCM</td>\n",
       "      <td>263.863636</td>\n",
       "      <td>58.050000</td>\n",
       "      <td>0.220</td>\n",
       "    </tr>\n",
       "    <tr>\n",
       "      <th>26</th>\n",
       "      <td>GO_mut:(cauchy1_vanilla)_cro:uni3</td>\n",
       "      <td>cauchy1_vanilla</td>\n",
       "      <td>uni3</td>\n",
       "      <td>273.893219</td>\n",
       "      <td>57.791469</td>\n",
       "      <td>0.211</td>\n",
       "    </tr>\n",
       "    <tr>\n",
       "      <th>25</th>\n",
       "      <td>GO_mut:(cauchy1_vanilla)_cro:uni2</td>\n",
       "      <td>cauchy1_vanilla</td>\n",
       "      <td>uni2</td>\n",
       "      <td>285.782272</td>\n",
       "      <td>58.585366</td>\n",
       "      <td>0.205</td>\n",
       "    </tr>\n",
       "    <tr>\n",
       "      <th>23</th>\n",
       "      <td>GO_mut:(cauchy1_vanilla)_cro:rnd</td>\n",
       "      <td>cauchy1_vanilla</td>\n",
       "      <td>rnd</td>\n",
       "      <td>292.567016</td>\n",
       "      <td>58.805970</td>\n",
       "      <td>0.201</td>\n",
       "    </tr>\n",
       "    <tr>\n",
       "      <th>76</th>\n",
       "      <td>GO_mut:(cauchy3_vanilla)_cro:mix</td>\n",
       "      <td>cauchy3_vanilla</td>\n",
       "      <td>mix</td>\n",
       "      <td>294.246219</td>\n",
       "      <td>54.141304</td>\n",
       "      <td>0.184</td>\n",
       "    </tr>\n",
       "    <tr>\n",
       "      <th>22</th>\n",
       "      <td>GO_mut:(cauchy1_vanilla)_cro:mix</td>\n",
       "      <td>cauchy1_vanilla</td>\n",
       "      <td>mix</td>\n",
       "      <td>298.384395</td>\n",
       "      <td>58.781726</td>\n",
       "      <td>0.197</td>\n",
       "    </tr>\n",
       "    <tr>\n",
       "      <th>51</th>\n",
       "      <td>GO_mut:(cauchy2_vanilla)_cro:uni1</td>\n",
       "      <td>cauchy2_vanilla</td>\n",
       "      <td>uni1</td>\n",
       "      <td>314.847241</td>\n",
       "      <td>57.302198</td>\n",
       "      <td>0.182</td>\n",
       "    </tr>\n",
       "    <tr>\n",
       "      <th>45</th>\n",
       "      <td>GO_mut:(cauchy2_vanilla)_cro:MCM</td>\n",
       "      <td>cauchy2_vanilla</td>\n",
       "      <td>MCM</td>\n",
       "      <td>323.553097</td>\n",
       "      <td>54.680473</td>\n",
       "      <td>0.169</td>\n",
       "    </tr>\n",
       "    <tr>\n",
       "      <th>78</th>\n",
       "      <td>GO_mut:(cauchy3_vanilla)_cro:uni1</td>\n",
       "      <td>cauchy3_vanilla</td>\n",
       "      <td>uni1</td>\n",
       "      <td>328.567281</td>\n",
       "      <td>54.542169</td>\n",
       "      <td>0.166</td>\n",
       "    </tr>\n",
       "    <tr>\n",
       "      <th>50</th>\n",
       "      <td>GO_mut:(cauchy2_vanilla)_cro:rnd</td>\n",
       "      <td>cauchy2_vanilla</td>\n",
       "      <td>rnd</td>\n",
       "      <td>329.256786</td>\n",
       "      <td>54.656627</td>\n",
       "      <td>0.166</td>\n",
       "    </tr>\n",
       "    <tr>\n",
       "      <th>72</th>\n",
       "      <td>GO_mut:(cauchy3_vanilla)_cro:MCM</td>\n",
       "      <td>cauchy3_vanilla</td>\n",
       "      <td>MCM</td>\n",
       "      <td>335.156250</td>\n",
       "      <td>53.625000</td>\n",
       "      <td>0.160</td>\n",
       "    </tr>\n",
       "    <tr>\n",
       "      <th>74</th>\n",
       "      <td>GO_mut:(cauchy3_vanilla)_cro:MMCM</td>\n",
       "      <td>cauchy3_vanilla</td>\n",
       "      <td>MMCM</td>\n",
       "      <td>335.716634</td>\n",
       "      <td>52.371795</td>\n",
       "      <td>0.156</td>\n",
       "    </tr>\n",
       "    <tr>\n",
       "      <th>53</th>\n",
       "      <td>GO_mut:(cauchy2_vanilla)_cro:uni3</td>\n",
       "      <td>cauchy2_vanilla</td>\n",
       "      <td>uni3</td>\n",
       "      <td>340.709359</td>\n",
       "      <td>57.579882</td>\n",
       "      <td>0.169</td>\n",
       "    </tr>\n",
       "    <tr>\n",
       "      <th>46</th>\n",
       "      <td>GO_mut:(cauchy2_vanilla)_cro:MCR</td>\n",
       "      <td>cauchy2_vanilla</td>\n",
       "      <td>MCR</td>\n",
       "      <td>343.258026</td>\n",
       "      <td>49.772414</td>\n",
       "      <td>0.145</td>\n",
       "    </tr>\n",
       "    <tr>\n",
       "      <th>80</th>\n",
       "      <td>GO_mut:(cauchy3_vanilla)_cro:uni3</td>\n",
       "      <td>cauchy3_vanilla</td>\n",
       "      <td>uni3</td>\n",
       "      <td>346.030572</td>\n",
       "      <td>53.980769</td>\n",
       "      <td>0.156</td>\n",
       "    </tr>\n",
       "    <tr>\n",
       "      <th>19</th>\n",
       "      <td>GO_mut:(cauchy1_vanilla)_cro:MCR</td>\n",
       "      <td>cauchy1_vanilla</td>\n",
       "      <td>MCR</td>\n",
       "      <td>354.050874</td>\n",
       "      <td>55.585987</td>\n",
       "      <td>0.157</td>\n",
       "    </tr>\n",
       "    <tr>\n",
       "      <th>49</th>\n",
       "      <td>GO_mut:(cauchy2_vanilla)_cro:mix</td>\n",
       "      <td>cauchy2_vanilla</td>\n",
       "      <td>mix</td>\n",
       "      <td>360.538540</td>\n",
       "      <td>59.849398</td>\n",
       "      <td>0.166</td>\n",
       "    </tr>\n",
       "    <tr>\n",
       "      <th>77</th>\n",
       "      <td>GO_mut:(cauchy3_vanilla)_cro:rnd</td>\n",
       "      <td>cauchy3_vanilla</td>\n",
       "      <td>rnd</td>\n",
       "      <td>375.608741</td>\n",
       "      <td>58.219355</td>\n",
       "      <td>0.155</td>\n",
       "    </tr>\n",
       "    <tr>\n",
       "      <th>52</th>\n",
       "      <td>GO_mut:(cauchy2_vanilla)_cro:uni2</td>\n",
       "      <td>cauchy2_vanilla</td>\n",
       "      <td>uni2</td>\n",
       "      <td>377.922021</td>\n",
       "      <td>57.066225</td>\n",
       "      <td>0.151</td>\n",
       "    </tr>\n",
       "    <tr>\n",
       "      <th>73</th>\n",
       "      <td>GO_mut:(cauchy3_vanilla)_cro:MCR</td>\n",
       "      <td>cauchy3_vanilla</td>\n",
       "      <td>MCR</td>\n",
       "      <td>388.315810</td>\n",
       "      <td>55.140845</td>\n",
       "      <td>0.142</td>\n",
       "    </tr>\n",
       "    <tr>\n",
       "      <th>79</th>\n",
       "      <td>GO_mut:(cauchy3_vanilla)_cro:uni2</td>\n",
       "      <td>cauchy3_vanilla</td>\n",
       "      <td>uni2</td>\n",
       "      <td>413.076434</td>\n",
       "      <td>59.069930</td>\n",
       "      <td>0.143</td>\n",
       "    </tr>\n",
       "    <tr>\n",
       "      <th>47</th>\n",
       "      <td>GO_mut:(cauchy2_vanilla)_cro:MMCM</td>\n",
       "      <td>cauchy2_vanilla</td>\n",
       "      <td>MMCM</td>\n",
       "      <td>432.501671</td>\n",
       "      <td>57.955224</td>\n",
       "      <td>0.134</td>\n",
       "    </tr>\n",
       "    <tr>\n",
       "      <th>20</th>\n",
       "      <td>GO_mut:(cauchy1_vanilla)_cro:MMCM</td>\n",
       "      <td>cauchy1_vanilla</td>\n",
       "      <td>MMCM</td>\n",
       "      <td>486.180556</td>\n",
       "      <td>58.341667</td>\n",
       "      <td>0.120</td>\n",
       "    </tr>\n",
       "    <tr>\n",
       "      <th>75</th>\n",
       "      <td>GO_mut:(cauchy3_vanilla)_cro:MMCR</td>\n",
       "      <td>cauchy3_vanilla</td>\n",
       "      <td>MMCR</td>\n",
       "      <td>500.255076</td>\n",
       "      <td>49.525253</td>\n",
       "      <td>0.099</td>\n",
       "    </tr>\n",
       "    <tr>\n",
       "      <th>21</th>\n",
       "      <td>GO_mut:(cauchy1_vanilla)_cro:MMCR</td>\n",
       "      <td>cauchy1_vanilla</td>\n",
       "      <td>MMCR</td>\n",
       "      <td>682.291667</td>\n",
       "      <td>49.125000</td>\n",
       "      <td>0.072</td>\n",
       "    </tr>\n",
       "    <tr>\n",
       "      <th>48</th>\n",
       "      <td>GO_mut:(cauchy2_vanilla)_cro:MMCR</td>\n",
       "      <td>cauchy2_vanilla</td>\n",
       "      <td>MMCR</td>\n",
       "      <td>808.174740</td>\n",
       "      <td>54.955882</td>\n",
       "      <td>0.068</td>\n",
       "    </tr>\n",
       "    <tr>\n",
       "      <th>0</th>\n",
       "      <td>GO_mut:(cauchy1_extension)_cro:MCM</td>\n",
       "      <td>cauchy1_extension</td>\n",
       "      <td>MCM</td>\n",
       "      <td>829.615695</td>\n",
       "      <td>50.606557</td>\n",
       "      <td>0.061</td>\n",
       "    </tr>\n",
       "    <tr>\n",
       "      <th>34</th>\n",
       "      <td>GO_mut:(cauchy2_extension)_cro:uni2</td>\n",
       "      <td>cauchy2_extension</td>\n",
       "      <td>uni2</td>\n",
       "      <td>838.750315</td>\n",
       "      <td>52.841270</td>\n",
       "      <td>0.063</td>\n",
       "    </tr>\n",
       "    <tr>\n",
       "      <th>1</th>\n",
       "      <td>GO_mut:(cauchy1_extension)_cro:MCR</td>\n",
       "      <td>cauchy1_extension</td>\n",
       "      <td>MCR</td>\n",
       "      <td>843.336411</td>\n",
       "      <td>48.070175</td>\n",
       "      <td>0.057</td>\n",
       "    </tr>\n",
       "    <tr>\n",
       "      <th>9</th>\n",
       "      <td>GO_mut:(cauchy1_mirror)_cro:MCM</td>\n",
       "      <td>cauchy1_mirror</td>\n",
       "      <td>MCM</td>\n",
       "      <td>872.427984</td>\n",
       "      <td>47.111111</td>\n",
       "      <td>0.054</td>\n",
       "    </tr>\n",
       "    <tr>\n",
       "      <th>5</th>\n",
       "      <td>GO_mut:(cauchy1_extension)_cro:rnd</td>\n",
       "      <td>cauchy1_extension</td>\n",
       "      <td>rnd</td>\n",
       "      <td>877.685547</td>\n",
       "      <td>56.171875</td>\n",
       "      <td>0.064</td>\n",
       "    </tr>\n",
       "    <tr>\n",
       "      <th>7</th>\n",
       "      <td>GO_mut:(cauchy1_extension)_cro:uni2</td>\n",
       "      <td>cauchy1_extension</td>\n",
       "      <td>uni2</td>\n",
       "      <td>884.260355</td>\n",
       "      <td>57.476923</td>\n",
       "      <td>0.065</td>\n",
       "    </tr>\n",
       "    <tr>\n",
       "      <th>8</th>\n",
       "      <td>GO_mut:(cauchy1_extension)_cro:uni3</td>\n",
       "      <td>cauchy1_extension</td>\n",
       "      <td>uni3</td>\n",
       "      <td>895.000000</td>\n",
       "      <td>53.700000</td>\n",
       "      <td>0.060</td>\n",
       "    </tr>\n",
       "    <tr>\n",
       "      <th>33</th>\n",
       "      <td>GO_mut:(cauchy2_extension)_cro:uni1</td>\n",
       "      <td>cauchy2_extension</td>\n",
       "      <td>uni1</td>\n",
       "      <td>971.876112</td>\n",
       "      <td>51.509434</td>\n",
       "      <td>0.053</td>\n",
       "    </tr>\n",
       "    <tr>\n",
       "      <th>6</th>\n",
       "      <td>GO_mut:(cauchy1_extension)_cro:uni1</td>\n",
       "      <td>cauchy1_extension</td>\n",
       "      <td>uni1</td>\n",
       "      <td>986.288265</td>\n",
       "      <td>55.232143</td>\n",
       "      <td>0.056</td>\n",
       "    </tr>\n",
       "    <tr>\n",
       "      <th>27</th>\n",
       "      <td>GO_mut:(cauchy2_extension)_cro:MCM</td>\n",
       "      <td>cauchy2_extension</td>\n",
       "      <td>MCM</td>\n",
       "      <td>1007.689350</td>\n",
       "      <td>51.392157</td>\n",
       "      <td>0.051</td>\n",
       "    </tr>\n",
       "    <tr>\n",
       "      <th>61</th>\n",
       "      <td>GO_mut:(cauchy3_extension)_cro:uni2</td>\n",
       "      <td>cauchy3_extension</td>\n",
       "      <td>uni2</td>\n",
       "      <td>1019.376181</td>\n",
       "      <td>46.891304</td>\n",
       "      <td>0.046</td>\n",
       "    </tr>\n",
       "    <tr>\n",
       "      <th>30</th>\n",
       "      <td>GO_mut:(cauchy2_extension)_cro:MMCR</td>\n",
       "      <td>cauchy2_extension</td>\n",
       "      <td>MMCR</td>\n",
       "      <td>1064.359113</td>\n",
       "      <td>45.767442</td>\n",
       "      <td>0.043</td>\n",
       "    </tr>\n",
       "    <tr>\n",
       "      <th>10</th>\n",
       "      <td>GO_mut:(cauchy1_mirror)_cro:MCR</td>\n",
       "      <td>cauchy1_mirror</td>\n",
       "      <td>MCR</td>\n",
       "      <td>1067.600000</td>\n",
       "      <td>53.380000</td>\n",
       "      <td>0.050</td>\n",
       "    </tr>\n",
       "    <tr>\n",
       "      <th>59</th>\n",
       "      <td>GO_mut:(cauchy3_extension)_cro:rnd</td>\n",
       "      <td>cauchy3_extension</td>\n",
       "      <td>rnd</td>\n",
       "      <td>1108.471074</td>\n",
       "      <td>48.772727</td>\n",
       "      <td>0.044</td>\n",
       "    </tr>\n",
       "    <tr>\n",
       "      <th>29</th>\n",
       "      <td>GO_mut:(cauchy2_extension)_cro:MMCM</td>\n",
       "      <td>cauchy2_extension</td>\n",
       "      <td>MMCM</td>\n",
       "      <td>1112.433076</td>\n",
       "      <td>45.609756</td>\n",
       "      <td>0.041</td>\n",
       "    </tr>\n",
       "    <tr>\n",
       "      <th>4</th>\n",
       "      <td>GO_mut:(cauchy1_extension)_cro:mix</td>\n",
       "      <td>cauchy1_extension</td>\n",
       "      <td>mix</td>\n",
       "      <td>1135.206612</td>\n",
       "      <td>62.436364</td>\n",
       "      <td>0.055</td>\n",
       "    </tr>\n",
       "    <tr>\n",
       "      <th>17</th>\n",
       "      <td>GO_mut:(cauchy1_mirror)_cro:uni3</td>\n",
       "      <td>cauchy1_mirror</td>\n",
       "      <td>uni3</td>\n",
       "      <td>1146.220009</td>\n",
       "      <td>53.872340</td>\n",
       "      <td>0.047</td>\n",
       "    </tr>\n",
       "    <tr>\n",
       "      <th>3</th>\n",
       "      <td>GO_mut:(cauchy1_extension)_cro:MMCR</td>\n",
       "      <td>cauchy1_extension</td>\n",
       "      <td>MMCR</td>\n",
       "      <td>1154.567901</td>\n",
       "      <td>51.955556</td>\n",
       "      <td>0.045</td>\n",
       "    </tr>\n",
       "    <tr>\n",
       "      <th>15</th>\n",
       "      <td>GO_mut:(cauchy1_mirror)_cro:uni1</td>\n",
       "      <td>cauchy1_mirror</td>\n",
       "      <td>uni1</td>\n",
       "      <td>1170.604915</td>\n",
       "      <td>53.847826</td>\n",
       "      <td>0.046</td>\n",
       "    </tr>\n",
       "    <tr>\n",
       "      <th>62</th>\n",
       "      <td>GO_mut:(cauchy3_extension)_cro:uni3</td>\n",
       "      <td>cauchy3_extension</td>\n",
       "      <td>uni3</td>\n",
       "      <td>1171.444024</td>\n",
       "      <td>50.372093</td>\n",
       "      <td>0.043</td>\n",
       "    </tr>\n",
       "    <tr>\n",
       "      <th>56</th>\n",
       "      <td>GO_mut:(cauchy3_extension)_cro:MMCM</td>\n",
       "      <td>cauchy3_extension</td>\n",
       "      <td>MMCM</td>\n",
       "      <td>1174.895895</td>\n",
       "      <td>48.170732</td>\n",
       "      <td>0.041</td>\n",
       "    </tr>\n",
       "    <tr>\n",
       "      <th>58</th>\n",
       "      <td>GO_mut:(cauchy3_extension)_cro:mix</td>\n",
       "      <td>cauchy3_extension</td>\n",
       "      <td>mix</td>\n",
       "      <td>1232.741617</td>\n",
       "      <td>48.076923</td>\n",
       "      <td>0.039</td>\n",
       "    </tr>\n",
       "    <tr>\n",
       "      <th>2</th>\n",
       "      <td>GO_mut:(cauchy1_extension)_cro:MMCM</td>\n",
       "      <td>cauchy1_extension</td>\n",
       "      <td>MMCM</td>\n",
       "      <td>1256.354786</td>\n",
       "      <td>54.023256</td>\n",
       "      <td>0.043</td>\n",
       "    </tr>\n",
       "    <tr>\n",
       "      <th>28</th>\n",
       "      <td>GO_mut:(cauchy2_extension)_cro:MCR</td>\n",
       "      <td>cauchy2_extension</td>\n",
       "      <td>MCR</td>\n",
       "      <td>1273.922571</td>\n",
       "      <td>47.135135</td>\n",
       "      <td>0.037</td>\n",
       "    </tr>\n",
       "    <tr>\n",
       "      <th>68</th>\n",
       "      <td>GO_mut:(cauchy3_mirror)_cro:rnd</td>\n",
       "      <td>cauchy3_mirror</td>\n",
       "      <td>rnd</td>\n",
       "      <td>1278.549383</td>\n",
       "      <td>46.027778</td>\n",
       "      <td>0.036</td>\n",
       "    </tr>\n",
       "    <tr>\n",
       "      <th>35</th>\n",
       "      <td>GO_mut:(cauchy2_extension)_cro:uni3</td>\n",
       "      <td>cauchy2_extension</td>\n",
       "      <td>uni3</td>\n",
       "      <td>1303.125000</td>\n",
       "      <td>52.125000</td>\n",
       "      <td>0.040</td>\n",
       "    </tr>\n",
       "    <tr>\n",
       "      <th>14</th>\n",
       "      <td>GO_mut:(cauchy1_mirror)_cro:rnd</td>\n",
       "      <td>cauchy1_mirror</td>\n",
       "      <td>rnd</td>\n",
       "      <td>1313.580247</td>\n",
       "      <td>59.111111</td>\n",
       "      <td>0.045</td>\n",
       "    </tr>\n",
       "    <tr>\n",
       "      <th>55</th>\n",
       "      <td>GO_mut:(cauchy3_extension)_cro:MCR</td>\n",
       "      <td>cauchy3_extension</td>\n",
       "      <td>MCR</td>\n",
       "      <td>1389.660494</td>\n",
       "      <td>50.027778</td>\n",
       "      <td>0.036</td>\n",
       "    </tr>\n",
       "    <tr>\n",
       "      <th>13</th>\n",
       "      <td>GO_mut:(cauchy1_mirror)_cro:mix</td>\n",
       "      <td>cauchy1_mirror</td>\n",
       "      <td>mix</td>\n",
       "      <td>1444.598338</td>\n",
       "      <td>54.894737</td>\n",
       "      <td>0.038</td>\n",
       "    </tr>\n",
       "    <tr>\n",
       "      <th>54</th>\n",
       "      <td>GO_mut:(cauchy3_extension)_cro:MCM</td>\n",
       "      <td>cauchy3_extension</td>\n",
       "      <td>MCM</td>\n",
       "      <td>1487.500000</td>\n",
       "      <td>59.500000</td>\n",
       "      <td>0.040</td>\n",
       "    </tr>\n",
       "    <tr>\n",
       "      <th>63</th>\n",
       "      <td>GO_mut:(cauchy3_mirror)_cro:MCM</td>\n",
       "      <td>cauchy3_mirror</td>\n",
       "      <td>MCM</td>\n",
       "      <td>1496.539792</td>\n",
       "      <td>50.882353</td>\n",
       "      <td>0.034</td>\n",
       "    </tr>\n",
       "    <tr>\n",
       "      <th>44</th>\n",
       "      <td>GO_mut:(cauchy2_mirror)_cro:uni3</td>\n",
       "      <td>cauchy2_mirror</td>\n",
       "      <td>uni3</td>\n",
       "      <td>1541.022592</td>\n",
       "      <td>44.689655</td>\n",
       "      <td>0.029</td>\n",
       "    </tr>\n",
       "    <tr>\n",
       "      <th>32</th>\n",
       "      <td>GO_mut:(cauchy2_extension)_cro:rnd</td>\n",
       "      <td>cauchy2_extension</td>\n",
       "      <td>rnd</td>\n",
       "      <td>1554.687500</td>\n",
       "      <td>49.750000</td>\n",
       "      <td>0.032</td>\n",
       "    </tr>\n",
       "    <tr>\n",
       "      <th>38</th>\n",
       "      <td>GO_mut:(cauchy2_mirror)_cro:MMCM</td>\n",
       "      <td>cauchy2_mirror</td>\n",
       "      <td>MMCM</td>\n",
       "      <td>1585.555556</td>\n",
       "      <td>47.566667</td>\n",
       "      <td>0.030</td>\n",
       "    </tr>\n",
       "    <tr>\n",
       "      <th>31</th>\n",
       "      <td>GO_mut:(cauchy2_extension)_cro:mix</td>\n",
       "      <td>cauchy2_extension</td>\n",
       "      <td>mix</td>\n",
       "      <td>1598.367347</td>\n",
       "      <td>55.942857</td>\n",
       "      <td>0.035</td>\n",
       "    </tr>\n",
       "    <tr>\n",
       "      <th>16</th>\n",
       "      <td>GO_mut:(cauchy1_mirror)_cro:uni2</td>\n",
       "      <td>cauchy1_mirror</td>\n",
       "      <td>uni2</td>\n",
       "      <td>1612.654321</td>\n",
       "      <td>58.055556</td>\n",
       "      <td>0.036</td>\n",
       "    </tr>\n",
       "    <tr>\n",
       "      <th>70</th>\n",
       "      <td>GO_mut:(cauchy3_mirror)_cro:uni2</td>\n",
       "      <td>cauchy3_mirror</td>\n",
       "      <td>uni2</td>\n",
       "      <td>1667.063020</td>\n",
       "      <td>48.344828</td>\n",
       "      <td>0.029</td>\n",
       "    </tr>\n",
       "    <tr>\n",
       "      <th>71</th>\n",
       "      <td>GO_mut:(cauchy3_mirror)_cro:uni3</td>\n",
       "      <td>cauchy3_mirror</td>\n",
       "      <td>uni3</td>\n",
       "      <td>1682.520809</td>\n",
       "      <td>48.793103</td>\n",
       "      <td>0.029</td>\n",
       "    </tr>\n",
       "    <tr>\n",
       "      <th>57</th>\n",
       "      <td>GO_mut:(cauchy3_extension)_cro:MMCR</td>\n",
       "      <td>cauchy3_extension</td>\n",
       "      <td>MMCR</td>\n",
       "      <td>1706.054688</td>\n",
       "      <td>54.593750</td>\n",
       "      <td>0.032</td>\n",
       "    </tr>\n",
       "    <tr>\n",
       "      <th>39</th>\n",
       "      <td>GO_mut:(cauchy2_mirror)_cro:MMCR</td>\n",
       "      <td>cauchy2_mirror</td>\n",
       "      <td>MMCR</td>\n",
       "      <td>1711.805556</td>\n",
       "      <td>41.083333</td>\n",
       "      <td>0.024</td>\n",
       "    </tr>\n",
       "    <tr>\n",
       "      <th>67</th>\n",
       "      <td>GO_mut:(cauchy3_mirror)_cro:mix</td>\n",
       "      <td>cauchy3_mirror</td>\n",
       "      <td>mix</td>\n",
       "      <td>1719.726562</td>\n",
       "      <td>55.031250</td>\n",
       "      <td>0.032</td>\n",
       "    </tr>\n",
       "    <tr>\n",
       "      <th>12</th>\n",
       "      <td>GO_mut:(cauchy1_mirror)_cro:MMCR</td>\n",
       "      <td>cauchy1_mirror</td>\n",
       "      <td>MMCR</td>\n",
       "      <td>1730.867347</td>\n",
       "      <td>48.464286</td>\n",
       "      <td>0.028</td>\n",
       "    </tr>\n",
       "    <tr>\n",
       "      <th>41</th>\n",
       "      <td>GO_mut:(cauchy2_mirror)_cro:rnd</td>\n",
       "      <td>cauchy2_mirror</td>\n",
       "      <td>rnd</td>\n",
       "      <td>1979.423868</td>\n",
       "      <td>53.444444</td>\n",
       "      <td>0.027</td>\n",
       "    </tr>\n",
       "    <tr>\n",
       "      <th>42</th>\n",
       "      <td>GO_mut:(cauchy2_mirror)_cro:uni1</td>\n",
       "      <td>cauchy2_mirror</td>\n",
       "      <td>uni1</td>\n",
       "      <td>2108.800000</td>\n",
       "      <td>52.720000</td>\n",
       "      <td>0.025</td>\n",
       "    </tr>\n",
       "    <tr>\n",
       "      <th>60</th>\n",
       "      <td>GO_mut:(cauchy3_extension)_cro:uni1</td>\n",
       "      <td>cauchy3_extension</td>\n",
       "      <td>uni1</td>\n",
       "      <td>2167.352538</td>\n",
       "      <td>58.518519</td>\n",
       "      <td>0.027</td>\n",
       "    </tr>\n",
       "    <tr>\n",
       "      <th>40</th>\n",
       "      <td>GO_mut:(cauchy2_mirror)_cro:mix</td>\n",
       "      <td>cauchy2_mirror</td>\n",
       "      <td>mix</td>\n",
       "      <td>2182.400000</td>\n",
       "      <td>54.560000</td>\n",
       "      <td>0.025</td>\n",
       "    </tr>\n",
       "    <tr>\n",
       "      <th>64</th>\n",
       "      <td>GO_mut:(cauchy3_mirror)_cro:MCR</td>\n",
       "      <td>cauchy3_mirror</td>\n",
       "      <td>MCR</td>\n",
       "      <td>2194.214876</td>\n",
       "      <td>48.272727</td>\n",
       "      <td>0.022</td>\n",
       "    </tr>\n",
       "    <tr>\n",
       "      <th>66</th>\n",
       "      <td>GO_mut:(cauchy3_mirror)_cro:MMCR</td>\n",
       "      <td>cauchy3_mirror</td>\n",
       "      <td>MMCR</td>\n",
       "      <td>2201.646091</td>\n",
       "      <td>59.444444</td>\n",
       "      <td>0.027</td>\n",
       "    </tr>\n",
       "    <tr>\n",
       "      <th>37</th>\n",
       "      <td>GO_mut:(cauchy2_mirror)_cro:MCR</td>\n",
       "      <td>cauchy2_mirror</td>\n",
       "      <td>MCR</td>\n",
       "      <td>2219.281664</td>\n",
       "      <td>51.043478</td>\n",
       "      <td>0.023</td>\n",
       "    </tr>\n",
       "    <tr>\n",
       "      <th>65</th>\n",
       "      <td>GO_mut:(cauchy3_mirror)_cro:MMCM</td>\n",
       "      <td>cauchy3_mirror</td>\n",
       "      <td>MMCM</td>\n",
       "      <td>2255.198488</td>\n",
       "      <td>51.869565</td>\n",
       "      <td>0.023</td>\n",
       "    </tr>\n",
       "    <tr>\n",
       "      <th>43</th>\n",
       "      <td>GO_mut:(cauchy2_mirror)_cro:uni2</td>\n",
       "      <td>cauchy2_mirror</td>\n",
       "      <td>uni2</td>\n",
       "      <td>2285.123967</td>\n",
       "      <td>50.272727</td>\n",
       "      <td>0.022</td>\n",
       "    </tr>\n",
       "    <tr>\n",
       "      <th>11</th>\n",
       "      <td>GO_mut:(cauchy1_mirror)_cro:MMCM</td>\n",
       "      <td>cauchy1_mirror</td>\n",
       "      <td>MMCM</td>\n",
       "      <td>2363.636364</td>\n",
       "      <td>52.000000</td>\n",
       "      <td>0.022</td>\n",
       "    </tr>\n",
       "    <tr>\n",
       "      <th>36</th>\n",
       "      <td>GO_mut:(cauchy2_mirror)_cro:MCM</td>\n",
       "      <td>cauchy2_mirror</td>\n",
       "      <td>MCM</td>\n",
       "      <td>2626.033058</td>\n",
       "      <td>57.772727</td>\n",
       "      <td>0.022</td>\n",
       "    </tr>\n",
       "    <tr>\n",
       "      <th>69</th>\n",
       "      <td>GO_mut:(cauchy3_mirror)_cro:uni1</td>\n",
       "      <td>cauchy3_mirror</td>\n",
       "      <td>uni1</td>\n",
       "      <td>2791.322314</td>\n",
       "      <td>61.409091</td>\n",
       "      <td>0.022</td>\n",
       "    </tr>\n",
       "  </tbody>\n",
       "</table>\n",
       "</div>"
      ],
      "text/plain": [
       "                                   heur           mutation crossover  \\\n",
       "24    GO_mut:(cauchy1_vanilla)_cro:uni1    cauchy1_vanilla      uni1   \n",
       "18     GO_mut:(cauchy1_vanilla)_cro:MCM    cauchy1_vanilla       MCM   \n",
       "26    GO_mut:(cauchy1_vanilla)_cro:uni3    cauchy1_vanilla      uni3   \n",
       "25    GO_mut:(cauchy1_vanilla)_cro:uni2    cauchy1_vanilla      uni2   \n",
       "23     GO_mut:(cauchy1_vanilla)_cro:rnd    cauchy1_vanilla       rnd   \n",
       "76     GO_mut:(cauchy3_vanilla)_cro:mix    cauchy3_vanilla       mix   \n",
       "22     GO_mut:(cauchy1_vanilla)_cro:mix    cauchy1_vanilla       mix   \n",
       "51    GO_mut:(cauchy2_vanilla)_cro:uni1    cauchy2_vanilla      uni1   \n",
       "45     GO_mut:(cauchy2_vanilla)_cro:MCM    cauchy2_vanilla       MCM   \n",
       "78    GO_mut:(cauchy3_vanilla)_cro:uni1    cauchy3_vanilla      uni1   \n",
       "50     GO_mut:(cauchy2_vanilla)_cro:rnd    cauchy2_vanilla       rnd   \n",
       "72     GO_mut:(cauchy3_vanilla)_cro:MCM    cauchy3_vanilla       MCM   \n",
       "74    GO_mut:(cauchy3_vanilla)_cro:MMCM    cauchy3_vanilla      MMCM   \n",
       "53    GO_mut:(cauchy2_vanilla)_cro:uni3    cauchy2_vanilla      uni3   \n",
       "46     GO_mut:(cauchy2_vanilla)_cro:MCR    cauchy2_vanilla       MCR   \n",
       "80    GO_mut:(cauchy3_vanilla)_cro:uni3    cauchy3_vanilla      uni3   \n",
       "19     GO_mut:(cauchy1_vanilla)_cro:MCR    cauchy1_vanilla       MCR   \n",
       "49     GO_mut:(cauchy2_vanilla)_cro:mix    cauchy2_vanilla       mix   \n",
       "77     GO_mut:(cauchy3_vanilla)_cro:rnd    cauchy3_vanilla       rnd   \n",
       "52    GO_mut:(cauchy2_vanilla)_cro:uni2    cauchy2_vanilla      uni2   \n",
       "73     GO_mut:(cauchy3_vanilla)_cro:MCR    cauchy3_vanilla       MCR   \n",
       "79    GO_mut:(cauchy3_vanilla)_cro:uni2    cauchy3_vanilla      uni2   \n",
       "47    GO_mut:(cauchy2_vanilla)_cro:MMCM    cauchy2_vanilla      MMCM   \n",
       "20    GO_mut:(cauchy1_vanilla)_cro:MMCM    cauchy1_vanilla      MMCM   \n",
       "75    GO_mut:(cauchy3_vanilla)_cro:MMCR    cauchy3_vanilla      MMCR   \n",
       "21    GO_mut:(cauchy1_vanilla)_cro:MMCR    cauchy1_vanilla      MMCR   \n",
       "48    GO_mut:(cauchy2_vanilla)_cro:MMCR    cauchy2_vanilla      MMCR   \n",
       "0    GO_mut:(cauchy1_extension)_cro:MCM  cauchy1_extension       MCM   \n",
       "34  GO_mut:(cauchy2_extension)_cro:uni2  cauchy2_extension      uni2   \n",
       "1    GO_mut:(cauchy1_extension)_cro:MCR  cauchy1_extension       MCR   \n",
       "9       GO_mut:(cauchy1_mirror)_cro:MCM     cauchy1_mirror       MCM   \n",
       "5    GO_mut:(cauchy1_extension)_cro:rnd  cauchy1_extension       rnd   \n",
       "7   GO_mut:(cauchy1_extension)_cro:uni2  cauchy1_extension      uni2   \n",
       "8   GO_mut:(cauchy1_extension)_cro:uni3  cauchy1_extension      uni3   \n",
       "33  GO_mut:(cauchy2_extension)_cro:uni1  cauchy2_extension      uni1   \n",
       "6   GO_mut:(cauchy1_extension)_cro:uni1  cauchy1_extension      uni1   \n",
       "27   GO_mut:(cauchy2_extension)_cro:MCM  cauchy2_extension       MCM   \n",
       "61  GO_mut:(cauchy3_extension)_cro:uni2  cauchy3_extension      uni2   \n",
       "30  GO_mut:(cauchy2_extension)_cro:MMCR  cauchy2_extension      MMCR   \n",
       "10      GO_mut:(cauchy1_mirror)_cro:MCR     cauchy1_mirror       MCR   \n",
       "59   GO_mut:(cauchy3_extension)_cro:rnd  cauchy3_extension       rnd   \n",
       "29  GO_mut:(cauchy2_extension)_cro:MMCM  cauchy2_extension      MMCM   \n",
       "4    GO_mut:(cauchy1_extension)_cro:mix  cauchy1_extension       mix   \n",
       "17     GO_mut:(cauchy1_mirror)_cro:uni3     cauchy1_mirror      uni3   \n",
       "3   GO_mut:(cauchy1_extension)_cro:MMCR  cauchy1_extension      MMCR   \n",
       "15     GO_mut:(cauchy1_mirror)_cro:uni1     cauchy1_mirror      uni1   \n",
       "62  GO_mut:(cauchy3_extension)_cro:uni3  cauchy3_extension      uni3   \n",
       "56  GO_mut:(cauchy3_extension)_cro:MMCM  cauchy3_extension      MMCM   \n",
       "58   GO_mut:(cauchy3_extension)_cro:mix  cauchy3_extension       mix   \n",
       "2   GO_mut:(cauchy1_extension)_cro:MMCM  cauchy1_extension      MMCM   \n",
       "28   GO_mut:(cauchy2_extension)_cro:MCR  cauchy2_extension       MCR   \n",
       "68      GO_mut:(cauchy3_mirror)_cro:rnd     cauchy3_mirror       rnd   \n",
       "35  GO_mut:(cauchy2_extension)_cro:uni3  cauchy2_extension      uni3   \n",
       "14      GO_mut:(cauchy1_mirror)_cro:rnd     cauchy1_mirror       rnd   \n",
       "55   GO_mut:(cauchy3_extension)_cro:MCR  cauchy3_extension       MCR   \n",
       "13      GO_mut:(cauchy1_mirror)_cro:mix     cauchy1_mirror       mix   \n",
       "54   GO_mut:(cauchy3_extension)_cro:MCM  cauchy3_extension       MCM   \n",
       "63      GO_mut:(cauchy3_mirror)_cro:MCM     cauchy3_mirror       MCM   \n",
       "44     GO_mut:(cauchy2_mirror)_cro:uni3     cauchy2_mirror      uni3   \n",
       "32   GO_mut:(cauchy2_extension)_cro:rnd  cauchy2_extension       rnd   \n",
       "38     GO_mut:(cauchy2_mirror)_cro:MMCM     cauchy2_mirror      MMCM   \n",
       "31   GO_mut:(cauchy2_extension)_cro:mix  cauchy2_extension       mix   \n",
       "16     GO_mut:(cauchy1_mirror)_cro:uni2     cauchy1_mirror      uni2   \n",
       "70     GO_mut:(cauchy3_mirror)_cro:uni2     cauchy3_mirror      uni2   \n",
       "71     GO_mut:(cauchy3_mirror)_cro:uni3     cauchy3_mirror      uni3   \n",
       "57  GO_mut:(cauchy3_extension)_cro:MMCR  cauchy3_extension      MMCR   \n",
       "39     GO_mut:(cauchy2_mirror)_cro:MMCR     cauchy2_mirror      MMCR   \n",
       "67      GO_mut:(cauchy3_mirror)_cro:mix     cauchy3_mirror       mix   \n",
       "12     GO_mut:(cauchy1_mirror)_cro:MMCR     cauchy1_mirror      MMCR   \n",
       "41      GO_mut:(cauchy2_mirror)_cro:rnd     cauchy2_mirror       rnd   \n",
       "42     GO_mut:(cauchy2_mirror)_cro:uni1     cauchy2_mirror      uni1   \n",
       "60  GO_mut:(cauchy3_extension)_cro:uni1  cauchy3_extension      uni1   \n",
       "40      GO_mut:(cauchy2_mirror)_cro:mix     cauchy2_mirror       mix   \n",
       "64      GO_mut:(cauchy3_mirror)_cro:MCR     cauchy3_mirror       MCR   \n",
       "66     GO_mut:(cauchy3_mirror)_cro:MMCR     cauchy3_mirror      MMCR   \n",
       "37      GO_mut:(cauchy2_mirror)_cro:MCR     cauchy2_mirror       MCR   \n",
       "65     GO_mut:(cauchy3_mirror)_cro:MMCM     cauchy3_mirror      MMCM   \n",
       "43     GO_mut:(cauchy2_mirror)_cro:uni2     cauchy2_mirror      uni2   \n",
       "11     GO_mut:(cauchy1_mirror)_cro:MMCM     cauchy1_mirror      MMCM   \n",
       "36      GO_mut:(cauchy2_mirror)_cro:MCM     cauchy2_mirror       MCM   \n",
       "69     GO_mut:(cauchy3_mirror)_cro:uni1     cauchy3_mirror      uni1   \n",
       "\n",
       "            feo        mne    rel  \n",
       "24   255.620485  56.747748  0.222  \n",
       "18   263.863636  58.050000  0.220  \n",
       "26   273.893219  57.791469  0.211  \n",
       "25   285.782272  58.585366  0.205  \n",
       "23   292.567016  58.805970  0.201  \n",
       "76   294.246219  54.141304  0.184  \n",
       "22   298.384395  58.781726  0.197  \n",
       "51   314.847241  57.302198  0.182  \n",
       "45   323.553097  54.680473  0.169  \n",
       "78   328.567281  54.542169  0.166  \n",
       "50   329.256786  54.656627  0.166  \n",
       "72   335.156250  53.625000  0.160  \n",
       "74   335.716634  52.371795  0.156  \n",
       "53   340.709359  57.579882  0.169  \n",
       "46   343.258026  49.772414  0.145  \n",
       "80   346.030572  53.980769  0.156  \n",
       "19   354.050874  55.585987  0.157  \n",
       "49   360.538540  59.849398  0.166  \n",
       "77   375.608741  58.219355  0.155  \n",
       "52   377.922021  57.066225  0.151  \n",
       "73   388.315810  55.140845  0.142  \n",
       "79   413.076434  59.069930  0.143  \n",
       "47   432.501671  57.955224  0.134  \n",
       "20   486.180556  58.341667  0.120  \n",
       "75   500.255076  49.525253  0.099  \n",
       "21   682.291667  49.125000  0.072  \n",
       "48   808.174740  54.955882  0.068  \n",
       "0    829.615695  50.606557  0.061  \n",
       "34   838.750315  52.841270  0.063  \n",
       "1    843.336411  48.070175  0.057  \n",
       "9    872.427984  47.111111  0.054  \n",
       "5    877.685547  56.171875  0.064  \n",
       "7    884.260355  57.476923  0.065  \n",
       "8    895.000000  53.700000  0.060  \n",
       "33   971.876112  51.509434  0.053  \n",
       "6    986.288265  55.232143  0.056  \n",
       "27  1007.689350  51.392157  0.051  \n",
       "61  1019.376181  46.891304  0.046  \n",
       "30  1064.359113  45.767442  0.043  \n",
       "10  1067.600000  53.380000  0.050  \n",
       "59  1108.471074  48.772727  0.044  \n",
       "29  1112.433076  45.609756  0.041  \n",
       "4   1135.206612  62.436364  0.055  \n",
       "17  1146.220009  53.872340  0.047  \n",
       "3   1154.567901  51.955556  0.045  \n",
       "15  1170.604915  53.847826  0.046  \n",
       "62  1171.444024  50.372093  0.043  \n",
       "56  1174.895895  48.170732  0.041  \n",
       "58  1232.741617  48.076923  0.039  \n",
       "2   1256.354786  54.023256  0.043  \n",
       "28  1273.922571  47.135135  0.037  \n",
       "68  1278.549383  46.027778  0.036  \n",
       "35  1303.125000  52.125000  0.040  \n",
       "14  1313.580247  59.111111  0.045  \n",
       "55  1389.660494  50.027778  0.036  \n",
       "13  1444.598338  54.894737  0.038  \n",
       "54  1487.500000  59.500000  0.040  \n",
       "63  1496.539792  50.882353  0.034  \n",
       "44  1541.022592  44.689655  0.029  \n",
       "32  1554.687500  49.750000  0.032  \n",
       "38  1585.555556  47.566667  0.030  \n",
       "31  1598.367347  55.942857  0.035  \n",
       "16  1612.654321  58.055556  0.036  \n",
       "70  1667.063020  48.344828  0.029  \n",
       "71  1682.520809  48.793103  0.029  \n",
       "57  1706.054688  54.593750  0.032  \n",
       "39  1711.805556  41.083333  0.024  \n",
       "67  1719.726562  55.031250  0.032  \n",
       "12  1730.867347  48.464286  0.028  \n",
       "41  1979.423868  53.444444  0.027  \n",
       "42  2108.800000  52.720000  0.025  \n",
       "60  2167.352538  58.518519  0.027  \n",
       "40  2182.400000  54.560000  0.025  \n",
       "64  2194.214876  48.272727  0.022  \n",
       "66  2201.646091  59.444444  0.027  \n",
       "37  2219.281664  51.043478  0.023  \n",
       "65  2255.198488  51.869565  0.023  \n",
       "43  2285.123967  50.272727  0.022  \n",
       "11  2363.636364  52.000000  0.022  \n",
       "36  2626.033058  57.772727  0.022  \n",
       "69  2791.322314  61.409091  0.022  "
      ]
     },
     "execution_count": 11,
     "metadata": {},
     "output_type": "execute_result"
    }
   ],
   "source": [
    "results_pivot = results.pivot_table(\n",
    "    index=['heur', 'mutation', 'crossover'],\n",
    "    values=['neval'],\n",
    "    aggfunc=(rel, mne, feo)\n",
    ")['neval']\n",
    "results_pivot = results_pivot.reset_index()\n",
    "pd.set_option('display.max_rows', 500)\n",
    "results_pivot.sort_values(by='feo')\n"
   ]
  },
  {
   "cell_type": "markdown",
   "metadata": {},
   "source": [
    "vsetky vanilla correction su lepsie nez extension a mirror, takze pri dalsom skumani uvazujeme iba tie\n",
    "\n",
    "MCM lepsie ako MCR, MMCM lepsie ako MMCR\n",
    "\n",
    "pre uni*, MCM, rnd je to cauchy1\n",
    "pre MMCM, mix je to cauchy3"
   ]
  },
  {
   "cell_type": "code",
   "execution_count": 12,
   "metadata": {},
   "outputs": [],
   "source": [
    "N = [3, 5, 10, 15]\n",
    "T1 = [0.5, 1, 5]\n",
    "T2 = [0.1, 0.4]"
   ]
  },
  {
   "cell_type": "code",
   "execution_count": 13,
   "metadata": {},
   "outputs": [],
   "source": [
    "crossovers_mutations = [\n",
    "    {'crossover': UniformMultipoint(1), 'mutation': CauchyMutation(r=1, correction = Correction(tsp)), 'name':\n",
    "    'uni1_cauchy1'},\n",
    "    {'crossover': MatchCrossoverMax(), 'mutation': CauchyMutation(r=1, correction = Correction(tsp)), 'name':\n",
    "    'MCM_cauchy1'},\n",
    "    {'crossover': MisMatchCrossoverMax(), 'mutation': CauchyMutation(r=3, correction = Correction(tsp)), 'name':\n",
    "    'MMCM_cauchy3'},\n",
    "    {'crossover': RandomCombination(), 'mutation': CauchyMutation(r=1, correction = Correction(tsp)), 'name':\n",
    "    'rnd_cauchy1'}\n",
    "]"
   ]
  },
  {
   "cell_type": "code",
   "execution_count": 14,
   "metadata": {},
   "outputs": [
    {
     "data": {
      "application/vnd.jupyter.widget-view+json": {
       "model_id": "f30e61e008784ac2a9bbc77151fa9d28",
       "version_major": 2,
       "version_minor": 0
      },
      "text/plain": [
       "HBox(children=(FloatProgress(value=0.0, description='Testing GO_uni1_cauchy1_N:3_T1:0.5_T2:0.1', max=1000.0, s…"
      ]
     },
     "metadata": {},
     "output_type": "display_data"
    },
    {
     "name": "stdout",
     "output_type": "stream",
     "text": [
      "\n"
     ]
    },
    {
     "data": {
      "application/vnd.jupyter.widget-view+json": {
       "model_id": "b86f332ff3754dce87d415ee75376a20",
       "version_major": 2,
       "version_minor": 0
      },
      "text/plain": [
       "HBox(children=(FloatProgress(value=0.0, description='Testing GO_MCM_cauchy1_N:3_T1:0.5_T2:0.1', max=1000.0, st…"
      ]
     },
     "metadata": {},
     "output_type": "display_data"
    },
    {
     "name": "stdout",
     "output_type": "stream",
     "text": [
      "\n"
     ]
    },
    {
     "data": {
      "application/vnd.jupyter.widget-view+json": {
       "model_id": "80e7ecb8bbb745e8a5b7a37962fc2195",
       "version_major": 2,
       "version_minor": 0
      },
      "text/plain": [
       "HBox(children=(FloatProgress(value=0.0, description='Testing GO_MMCM_cauchy3_N:3_T1:0.5_T2:0.1', max=1000.0, s…"
      ]
     },
     "metadata": {},
     "output_type": "display_data"
    },
    {
     "name": "stdout",
     "output_type": "stream",
     "text": [
      "\n"
     ]
    },
    {
     "data": {
      "application/vnd.jupyter.widget-view+json": {
       "model_id": "7ba7f8b2301e4fb880d23e6bea13cc22",
       "version_major": 2,
       "version_minor": 0
      },
      "text/plain": [
       "HBox(children=(FloatProgress(value=0.0, description='Testing GO_rnd_cauchy1_N:3_T1:0.5_T2:0.1', max=1000.0, st…"
      ]
     },
     "metadata": {},
     "output_type": "display_data"
    },
    {
     "name": "stdout",
     "output_type": "stream",
     "text": [
      "\n"
     ]
    },
    {
     "data": {
      "application/vnd.jupyter.widget-view+json": {
       "model_id": "c64b1e7a11bf405a86626fffd0a93a78",
       "version_major": 2,
       "version_minor": 0
      },
      "text/plain": [
       "HBox(children=(FloatProgress(value=0.0, description='Testing GO_uni1_cauchy1_N:3_T1:0.5_T2:0.4', max=1000.0, s…"
      ]
     },
     "metadata": {},
     "output_type": "display_data"
    },
    {
     "name": "stdout",
     "output_type": "stream",
     "text": [
      "\n"
     ]
    },
    {
     "data": {
      "application/vnd.jupyter.widget-view+json": {
       "model_id": "dd03e225130d439cac300cd84bcc95da",
       "version_major": 2,
       "version_minor": 0
      },
      "text/plain": [
       "HBox(children=(FloatProgress(value=0.0, description='Testing GO_MCM_cauchy1_N:3_T1:0.5_T2:0.4', max=1000.0, st…"
      ]
     },
     "metadata": {},
     "output_type": "display_data"
    },
    {
     "name": "stdout",
     "output_type": "stream",
     "text": [
      "\n"
     ]
    },
    {
     "data": {
      "application/vnd.jupyter.widget-view+json": {
       "model_id": "7298654f061e4662beadd0152a3b9cdf",
       "version_major": 2,
       "version_minor": 0
      },
      "text/plain": [
       "HBox(children=(FloatProgress(value=0.0, description='Testing GO_MMCM_cauchy3_N:3_T1:0.5_T2:0.4', max=1000.0, s…"
      ]
     },
     "metadata": {},
     "output_type": "display_data"
    },
    {
     "name": "stdout",
     "output_type": "stream",
     "text": [
      "\n"
     ]
    },
    {
     "data": {
      "application/vnd.jupyter.widget-view+json": {
       "model_id": "d61e3a93e3ac4b1a99795c6ddd35da0e",
       "version_major": 2,
       "version_minor": 0
      },
      "text/plain": [
       "HBox(children=(FloatProgress(value=0.0, description='Testing GO_rnd_cauchy1_N:3_T1:0.5_T2:0.4', max=1000.0, st…"
      ]
     },
     "metadata": {},
     "output_type": "display_data"
    },
    {
     "name": "stdout",
     "output_type": "stream",
     "text": [
      "\n"
     ]
    },
    {
     "data": {
      "application/vnd.jupyter.widget-view+json": {
       "model_id": "28a055a749574874a723085ab5569313",
       "version_major": 2,
       "version_minor": 0
      },
      "text/plain": [
       "HBox(children=(FloatProgress(value=0.0, description='Testing GO_uni1_cauchy1_N:3_T1:1_T2:0.1', max=1000.0, sty…"
      ]
     },
     "metadata": {},
     "output_type": "display_data"
    },
    {
     "name": "stdout",
     "output_type": "stream",
     "text": [
      "\n"
     ]
    },
    {
     "data": {
      "application/vnd.jupyter.widget-view+json": {
       "model_id": "4d6152bc891f4797a26d033f9211e4f3",
       "version_major": 2,
       "version_minor": 0
      },
      "text/plain": [
       "HBox(children=(FloatProgress(value=0.0, description='Testing GO_MCM_cauchy1_N:3_T1:1_T2:0.1', max=1000.0, styl…"
      ]
     },
     "metadata": {},
     "output_type": "display_data"
    },
    {
     "name": "stdout",
     "output_type": "stream",
     "text": [
      "\n"
     ]
    },
    {
     "data": {
      "application/vnd.jupyter.widget-view+json": {
       "model_id": "a730110939a34b54ae3a5d2c33d9a3d9",
       "version_major": 2,
       "version_minor": 0
      },
      "text/plain": [
       "HBox(children=(FloatProgress(value=0.0, description='Testing GO_MMCM_cauchy3_N:3_T1:1_T2:0.1', max=1000.0, sty…"
      ]
     },
     "metadata": {},
     "output_type": "display_data"
    },
    {
     "name": "stdout",
     "output_type": "stream",
     "text": [
      "\n"
     ]
    },
    {
     "data": {
      "application/vnd.jupyter.widget-view+json": {
       "model_id": "ff3334248d0b4da487eeed0403295d63",
       "version_major": 2,
       "version_minor": 0
      },
      "text/plain": [
       "HBox(children=(FloatProgress(value=0.0, description='Testing GO_rnd_cauchy1_N:3_T1:1_T2:0.1', max=1000.0, styl…"
      ]
     },
     "metadata": {},
     "output_type": "display_data"
    },
    {
     "name": "stdout",
     "output_type": "stream",
     "text": [
      "\n"
     ]
    },
    {
     "data": {
      "application/vnd.jupyter.widget-view+json": {
       "model_id": "4c7e58d2469c4adc947534bdeb78575a",
       "version_major": 2,
       "version_minor": 0
      },
      "text/plain": [
       "HBox(children=(FloatProgress(value=0.0, description='Testing GO_uni1_cauchy1_N:3_T1:1_T2:0.4', max=1000.0, sty…"
      ]
     },
     "metadata": {},
     "output_type": "display_data"
    },
    {
     "name": "stdout",
     "output_type": "stream",
     "text": [
      "\n"
     ]
    },
    {
     "data": {
      "application/vnd.jupyter.widget-view+json": {
       "model_id": "9c34f71cba964cb6ade065ed6e62a6a5",
       "version_major": 2,
       "version_minor": 0
      },
      "text/plain": [
       "HBox(children=(FloatProgress(value=0.0, description='Testing GO_MCM_cauchy1_N:3_T1:1_T2:0.4', max=1000.0, styl…"
      ]
     },
     "metadata": {},
     "output_type": "display_data"
    },
    {
     "name": "stdout",
     "output_type": "stream",
     "text": [
      "\n"
     ]
    },
    {
     "data": {
      "application/vnd.jupyter.widget-view+json": {
       "model_id": "b3f7c8a1ee0d4b6ebc6992c7a19dc0c2",
       "version_major": 2,
       "version_minor": 0
      },
      "text/plain": [
       "HBox(children=(FloatProgress(value=0.0, description='Testing GO_MMCM_cauchy3_N:3_T1:1_T2:0.4', max=1000.0, sty…"
      ]
     },
     "metadata": {},
     "output_type": "display_data"
    },
    {
     "name": "stdout",
     "output_type": "stream",
     "text": [
      "\n"
     ]
    },
    {
     "data": {
      "application/vnd.jupyter.widget-view+json": {
       "model_id": "b26dc53f6fc64b6885afc8995b2ccf65",
       "version_major": 2,
       "version_minor": 0
      },
      "text/plain": [
       "HBox(children=(FloatProgress(value=0.0, description='Testing GO_rnd_cauchy1_N:3_T1:1_T2:0.4', max=1000.0, styl…"
      ]
     },
     "metadata": {},
     "output_type": "display_data"
    },
    {
     "name": "stdout",
     "output_type": "stream",
     "text": [
      "\n"
     ]
    },
    {
     "data": {
      "application/vnd.jupyter.widget-view+json": {
       "model_id": "0ea83435b2124c7aab6dfb6ecc8ec510",
       "version_major": 2,
       "version_minor": 0
      },
      "text/plain": [
       "HBox(children=(FloatProgress(value=0.0, description='Testing GO_uni1_cauchy1_N:3_T1:5_T2:0.1', max=1000.0, sty…"
      ]
     },
     "metadata": {},
     "output_type": "display_data"
    },
    {
     "name": "stdout",
     "output_type": "stream",
     "text": [
      "\n"
     ]
    },
    {
     "data": {
      "application/vnd.jupyter.widget-view+json": {
       "model_id": "4b281f0abc94451f8c57e2f89e512098",
       "version_major": 2,
       "version_minor": 0
      },
      "text/plain": [
       "HBox(children=(FloatProgress(value=0.0, description='Testing GO_MCM_cauchy1_N:3_T1:5_T2:0.1', max=1000.0, styl…"
      ]
     },
     "metadata": {},
     "output_type": "display_data"
    },
    {
     "name": "stdout",
     "output_type": "stream",
     "text": [
      "\n"
     ]
    },
    {
     "data": {
      "application/vnd.jupyter.widget-view+json": {
       "model_id": "30808e29c816419e837ca96721bc9390",
       "version_major": 2,
       "version_minor": 0
      },
      "text/plain": [
       "HBox(children=(FloatProgress(value=0.0, description='Testing GO_MMCM_cauchy3_N:3_T1:5_T2:0.1', max=1000.0, sty…"
      ]
     },
     "metadata": {},
     "output_type": "display_data"
    },
    {
     "name": "stdout",
     "output_type": "stream",
     "text": [
      "\n"
     ]
    },
    {
     "data": {
      "application/vnd.jupyter.widget-view+json": {
       "model_id": "7e724ae5c8904d18aabb60ff0d220819",
       "version_major": 2,
       "version_minor": 0
      },
      "text/plain": [
       "HBox(children=(FloatProgress(value=0.0, description='Testing GO_rnd_cauchy1_N:3_T1:5_T2:0.1', max=1000.0, styl…"
      ]
     },
     "metadata": {},
     "output_type": "display_data"
    },
    {
     "name": "stdout",
     "output_type": "stream",
     "text": [
      "\n"
     ]
    },
    {
     "data": {
      "application/vnd.jupyter.widget-view+json": {
       "model_id": "93e0ee97c94144fa88e48f4e124e089c",
       "version_major": 2,
       "version_minor": 0
      },
      "text/plain": [
       "HBox(children=(FloatProgress(value=0.0, description='Testing GO_uni1_cauchy1_N:3_T1:5_T2:0.4', max=1000.0, sty…"
      ]
     },
     "metadata": {},
     "output_type": "display_data"
    },
    {
     "name": "stdout",
     "output_type": "stream",
     "text": [
      "\n"
     ]
    },
    {
     "data": {
      "application/vnd.jupyter.widget-view+json": {
       "model_id": "d046720d2f6744798fe226fcc1100546",
       "version_major": 2,
       "version_minor": 0
      },
      "text/plain": [
       "HBox(children=(FloatProgress(value=0.0, description='Testing GO_MCM_cauchy1_N:3_T1:5_T2:0.4', max=1000.0, styl…"
      ]
     },
     "metadata": {},
     "output_type": "display_data"
    },
    {
     "name": "stdout",
     "output_type": "stream",
     "text": [
      "\n"
     ]
    },
    {
     "data": {
      "application/vnd.jupyter.widget-view+json": {
       "model_id": "c72531dcb6884d6a9846988033b1d181",
       "version_major": 2,
       "version_minor": 0
      },
      "text/plain": [
       "HBox(children=(FloatProgress(value=0.0, description='Testing GO_MMCM_cauchy3_N:3_T1:5_T2:0.4', max=1000.0, sty…"
      ]
     },
     "metadata": {},
     "output_type": "display_data"
    },
    {
     "name": "stdout",
     "output_type": "stream",
     "text": [
      "\n"
     ]
    },
    {
     "data": {
      "application/vnd.jupyter.widget-view+json": {
       "model_id": "9cda4f67e23443a982a2c0f253854d3e",
       "version_major": 2,
       "version_minor": 0
      },
      "text/plain": [
       "HBox(children=(FloatProgress(value=0.0, description='Testing GO_rnd_cauchy1_N:3_T1:5_T2:0.4', max=1000.0, styl…"
      ]
     },
     "metadata": {},
     "output_type": "display_data"
    },
    {
     "name": "stdout",
     "output_type": "stream",
     "text": [
      "\n"
     ]
    },
    {
     "data": {
      "application/vnd.jupyter.widget-view+json": {
       "model_id": "005711b736ce48ec8ece0cec0c5a0130",
       "version_major": 2,
       "version_minor": 0
      },
      "text/plain": [
       "HBox(children=(FloatProgress(value=0.0, description='Testing GO_uni1_cauchy1_N:5_T1:0.5_T2:0.1', max=1000.0, s…"
      ]
     },
     "metadata": {},
     "output_type": "display_data"
    },
    {
     "name": "stdout",
     "output_type": "stream",
     "text": [
      "\n"
     ]
    },
    {
     "data": {
      "application/vnd.jupyter.widget-view+json": {
       "model_id": "f9b8a7943d5d41e3a392fbb18604adb8",
       "version_major": 2,
       "version_minor": 0
      },
      "text/plain": [
       "HBox(children=(FloatProgress(value=0.0, description='Testing GO_MCM_cauchy1_N:5_T1:0.5_T2:0.1', max=1000.0, st…"
      ]
     },
     "metadata": {},
     "output_type": "display_data"
    },
    {
     "name": "stdout",
     "output_type": "stream",
     "text": [
      "\n"
     ]
    },
    {
     "data": {
      "application/vnd.jupyter.widget-view+json": {
       "model_id": "cd5bcd369fdd41e8b5e5e846caae5cca",
       "version_major": 2,
       "version_minor": 0
      },
      "text/plain": [
       "HBox(children=(FloatProgress(value=0.0, description='Testing GO_MMCM_cauchy3_N:5_T1:0.5_T2:0.1', max=1000.0, s…"
      ]
     },
     "metadata": {},
     "output_type": "display_data"
    },
    {
     "name": "stdout",
     "output_type": "stream",
     "text": [
      "\n"
     ]
    },
    {
     "data": {
      "application/vnd.jupyter.widget-view+json": {
       "model_id": "87623b04d99b482288e3a869c5206f57",
       "version_major": 2,
       "version_minor": 0
      },
      "text/plain": [
       "HBox(children=(FloatProgress(value=0.0, description='Testing GO_rnd_cauchy1_N:5_T1:0.5_T2:0.1', max=1000.0, st…"
      ]
     },
     "metadata": {},
     "output_type": "display_data"
    },
    {
     "name": "stdout",
     "output_type": "stream",
     "text": [
      "\n"
     ]
    },
    {
     "data": {
      "application/vnd.jupyter.widget-view+json": {
       "model_id": "d4217109e8af4284a4329b8a14d0431e",
       "version_major": 2,
       "version_minor": 0
      },
      "text/plain": [
       "HBox(children=(FloatProgress(value=0.0, description='Testing GO_uni1_cauchy1_N:5_T1:0.5_T2:0.4', max=1000.0, s…"
      ]
     },
     "metadata": {},
     "output_type": "display_data"
    },
    {
     "name": "stdout",
     "output_type": "stream",
     "text": [
      "\n"
     ]
    },
    {
     "data": {
      "application/vnd.jupyter.widget-view+json": {
       "model_id": "1d74e9464fcb4203a3842b38281e24c6",
       "version_major": 2,
       "version_minor": 0
      },
      "text/plain": [
       "HBox(children=(FloatProgress(value=0.0, description='Testing GO_MCM_cauchy1_N:5_T1:0.5_T2:0.4', max=1000.0, st…"
      ]
     },
     "metadata": {},
     "output_type": "display_data"
    },
    {
     "name": "stdout",
     "output_type": "stream",
     "text": [
      "\n"
     ]
    },
    {
     "data": {
      "application/vnd.jupyter.widget-view+json": {
       "model_id": "90ab9f315d3d41daa7ad62d63fc76e31",
       "version_major": 2,
       "version_minor": 0
      },
      "text/plain": [
       "HBox(children=(FloatProgress(value=0.0, description='Testing GO_MMCM_cauchy3_N:5_T1:0.5_T2:0.4', max=1000.0, s…"
      ]
     },
     "metadata": {},
     "output_type": "display_data"
    },
    {
     "name": "stdout",
     "output_type": "stream",
     "text": [
      "\n"
     ]
    },
    {
     "data": {
      "application/vnd.jupyter.widget-view+json": {
       "model_id": "c56d5594fcd2438d8547daa411513136",
       "version_major": 2,
       "version_minor": 0
      },
      "text/plain": [
       "HBox(children=(FloatProgress(value=0.0, description='Testing GO_rnd_cauchy1_N:5_T1:0.5_T2:0.4', max=1000.0, st…"
      ]
     },
     "metadata": {},
     "output_type": "display_data"
    },
    {
     "name": "stdout",
     "output_type": "stream",
     "text": [
      "\n"
     ]
    },
    {
     "data": {
      "application/vnd.jupyter.widget-view+json": {
       "model_id": "d440e9c9312744feb866fb6bb844a5bf",
       "version_major": 2,
       "version_minor": 0
      },
      "text/plain": [
       "HBox(children=(FloatProgress(value=0.0, description='Testing GO_uni1_cauchy1_N:5_T1:1_T2:0.1', max=1000.0, sty…"
      ]
     },
     "metadata": {},
     "output_type": "display_data"
    },
    {
     "name": "stdout",
     "output_type": "stream",
     "text": [
      "\n"
     ]
    },
    {
     "data": {
      "application/vnd.jupyter.widget-view+json": {
       "model_id": "b4cb67a2c1164689a8db08f209124cbf",
       "version_major": 2,
       "version_minor": 0
      },
      "text/plain": [
       "HBox(children=(FloatProgress(value=0.0, description='Testing GO_MCM_cauchy1_N:5_T1:1_T2:0.1', max=1000.0, styl…"
      ]
     },
     "metadata": {},
     "output_type": "display_data"
    },
    {
     "name": "stdout",
     "output_type": "stream",
     "text": [
      "\n"
     ]
    },
    {
     "data": {
      "application/vnd.jupyter.widget-view+json": {
       "model_id": "9418b22c31b64bac81728df022ca962b",
       "version_major": 2,
       "version_minor": 0
      },
      "text/plain": [
       "HBox(children=(FloatProgress(value=0.0, description='Testing GO_MMCM_cauchy3_N:5_T1:1_T2:0.1', max=1000.0, sty…"
      ]
     },
     "metadata": {},
     "output_type": "display_data"
    },
    {
     "name": "stdout",
     "output_type": "stream",
     "text": [
      "\n"
     ]
    },
    {
     "data": {
      "application/vnd.jupyter.widget-view+json": {
       "model_id": "dcae9b701173443982d13a2491dc97cf",
       "version_major": 2,
       "version_minor": 0
      },
      "text/plain": [
       "HBox(children=(FloatProgress(value=0.0, description='Testing GO_rnd_cauchy1_N:5_T1:1_T2:0.1', max=1000.0, styl…"
      ]
     },
     "metadata": {},
     "output_type": "display_data"
    },
    {
     "name": "stdout",
     "output_type": "stream",
     "text": [
      "\n"
     ]
    },
    {
     "data": {
      "application/vnd.jupyter.widget-view+json": {
       "model_id": "c1c488bd9d6c46789cbbd1c6ff00ff51",
       "version_major": 2,
       "version_minor": 0
      },
      "text/plain": [
       "HBox(children=(FloatProgress(value=0.0, description='Testing GO_uni1_cauchy1_N:5_T1:1_T2:0.4', max=1000.0, sty…"
      ]
     },
     "metadata": {},
     "output_type": "display_data"
    },
    {
     "name": "stdout",
     "output_type": "stream",
     "text": [
      "\n"
     ]
    },
    {
     "data": {
      "application/vnd.jupyter.widget-view+json": {
       "model_id": "618dcc0619424e449cdb2b091a45ddd4",
       "version_major": 2,
       "version_minor": 0
      },
      "text/plain": [
       "HBox(children=(FloatProgress(value=0.0, description='Testing GO_MCM_cauchy1_N:5_T1:1_T2:0.4', max=1000.0, styl…"
      ]
     },
     "metadata": {},
     "output_type": "display_data"
    },
    {
     "name": "stdout",
     "output_type": "stream",
     "text": [
      "\n"
     ]
    },
    {
     "data": {
      "application/vnd.jupyter.widget-view+json": {
       "model_id": "43158ac30fb6478d9a9896fc3ac00abc",
       "version_major": 2,
       "version_minor": 0
      },
      "text/plain": [
       "HBox(children=(FloatProgress(value=0.0, description='Testing GO_MMCM_cauchy3_N:5_T1:1_T2:0.4', max=1000.0, sty…"
      ]
     },
     "metadata": {},
     "output_type": "display_data"
    },
    {
     "name": "stdout",
     "output_type": "stream",
     "text": [
      "\n"
     ]
    },
    {
     "data": {
      "application/vnd.jupyter.widget-view+json": {
       "model_id": "e7a24f07ae7244c4bc278502e9a5e876",
       "version_major": 2,
       "version_minor": 0
      },
      "text/plain": [
       "HBox(children=(FloatProgress(value=0.0, description='Testing GO_rnd_cauchy1_N:5_T1:1_T2:0.4', max=1000.0, styl…"
      ]
     },
     "metadata": {},
     "output_type": "display_data"
    },
    {
     "name": "stdout",
     "output_type": "stream",
     "text": [
      "\n"
     ]
    },
    {
     "data": {
      "application/vnd.jupyter.widget-view+json": {
       "model_id": "0d421d98739a4e45979ab0574513921b",
       "version_major": 2,
       "version_minor": 0
      },
      "text/plain": [
       "HBox(children=(FloatProgress(value=0.0, description='Testing GO_uni1_cauchy1_N:5_T1:5_T2:0.1', max=1000.0, sty…"
      ]
     },
     "metadata": {},
     "output_type": "display_data"
    },
    {
     "name": "stdout",
     "output_type": "stream",
     "text": [
      "\n"
     ]
    },
    {
     "data": {
      "application/vnd.jupyter.widget-view+json": {
       "model_id": "2c89103d2239434b86481aade239840d",
       "version_major": 2,
       "version_minor": 0
      },
      "text/plain": [
       "HBox(children=(FloatProgress(value=0.0, description='Testing GO_MCM_cauchy1_N:5_T1:5_T2:0.1', max=1000.0, styl…"
      ]
     },
     "metadata": {},
     "output_type": "display_data"
    },
    {
     "name": "stdout",
     "output_type": "stream",
     "text": [
      "\n"
     ]
    },
    {
     "data": {
      "application/vnd.jupyter.widget-view+json": {
       "model_id": "dc3e6f0a5139496f804a2fe598f6be84",
       "version_major": 2,
       "version_minor": 0
      },
      "text/plain": [
       "HBox(children=(FloatProgress(value=0.0, description='Testing GO_MMCM_cauchy3_N:5_T1:5_T2:0.1', max=1000.0, sty…"
      ]
     },
     "metadata": {},
     "output_type": "display_data"
    },
    {
     "name": "stdout",
     "output_type": "stream",
     "text": [
      "\n"
     ]
    },
    {
     "data": {
      "application/vnd.jupyter.widget-view+json": {
       "model_id": "ef092365dd2c4c12ae96b55d3ff90ee0",
       "version_major": 2,
       "version_minor": 0
      },
      "text/plain": [
       "HBox(children=(FloatProgress(value=0.0, description='Testing GO_rnd_cauchy1_N:5_T1:5_T2:0.1', max=1000.0, styl…"
      ]
     },
     "metadata": {},
     "output_type": "display_data"
    },
    {
     "name": "stdout",
     "output_type": "stream",
     "text": [
      "\n"
     ]
    },
    {
     "data": {
      "application/vnd.jupyter.widget-view+json": {
       "model_id": "811ec005e4284625be57f931c8e8e932",
       "version_major": 2,
       "version_minor": 0
      },
      "text/plain": [
       "HBox(children=(FloatProgress(value=0.0, description='Testing GO_uni1_cauchy1_N:5_T1:5_T2:0.4', max=1000.0, sty…"
      ]
     },
     "metadata": {},
     "output_type": "display_data"
    },
    {
     "name": "stdout",
     "output_type": "stream",
     "text": [
      "\n"
     ]
    },
    {
     "data": {
      "application/vnd.jupyter.widget-view+json": {
       "model_id": "e2b94c5ab7b840be91c95311d15505f3",
       "version_major": 2,
       "version_minor": 0
      },
      "text/plain": [
       "HBox(children=(FloatProgress(value=0.0, description='Testing GO_MCM_cauchy1_N:5_T1:5_T2:0.4', max=1000.0, styl…"
      ]
     },
     "metadata": {},
     "output_type": "display_data"
    },
    {
     "name": "stdout",
     "output_type": "stream",
     "text": [
      "\n"
     ]
    },
    {
     "data": {
      "application/vnd.jupyter.widget-view+json": {
       "model_id": "e75e1b76a3c74bc493b378ffeda840ae",
       "version_major": 2,
       "version_minor": 0
      },
      "text/plain": [
       "HBox(children=(FloatProgress(value=0.0, description='Testing GO_MMCM_cauchy3_N:5_T1:5_T2:0.4', max=1000.0, sty…"
      ]
     },
     "metadata": {},
     "output_type": "display_data"
    },
    {
     "name": "stdout",
     "output_type": "stream",
     "text": [
      "\n"
     ]
    },
    {
     "data": {
      "application/vnd.jupyter.widget-view+json": {
       "model_id": "3270fb3dea984c0f87141a7ed5c4538c",
       "version_major": 2,
       "version_minor": 0
      },
      "text/plain": [
       "HBox(children=(FloatProgress(value=0.0, description='Testing GO_rnd_cauchy1_N:5_T1:5_T2:0.4', max=1000.0, styl…"
      ]
     },
     "metadata": {},
     "output_type": "display_data"
    },
    {
     "name": "stdout",
     "output_type": "stream",
     "text": [
      "\n"
     ]
    },
    {
     "data": {
      "application/vnd.jupyter.widget-view+json": {
       "model_id": "a8e789266d194a67ab3e93af2e3a4492",
       "version_major": 2,
       "version_minor": 0
      },
      "text/plain": [
       "HBox(children=(FloatProgress(value=0.0, description='Testing GO_uni1_cauchy1_N:10_T1:0.5_T2:0.1', max=1000.0, …"
      ]
     },
     "metadata": {},
     "output_type": "display_data"
    },
    {
     "name": "stdout",
     "output_type": "stream",
     "text": [
      "\n"
     ]
    },
    {
     "data": {
      "application/vnd.jupyter.widget-view+json": {
       "model_id": "f4e8df5c836443118139f2102e7aee97",
       "version_major": 2,
       "version_minor": 0
      },
      "text/plain": [
       "HBox(children=(FloatProgress(value=0.0, description='Testing GO_MCM_cauchy1_N:10_T1:0.5_T2:0.1', max=1000.0, s…"
      ]
     },
     "metadata": {},
     "output_type": "display_data"
    },
    {
     "name": "stdout",
     "output_type": "stream",
     "text": [
      "\n"
     ]
    },
    {
     "data": {
      "application/vnd.jupyter.widget-view+json": {
       "model_id": "1eec9b9b7b8949c69a97d41826a9e205",
       "version_major": 2,
       "version_minor": 0
      },
      "text/plain": [
       "HBox(children=(FloatProgress(value=0.0, description='Testing GO_MMCM_cauchy3_N:10_T1:0.5_T2:0.1', max=1000.0, …"
      ]
     },
     "metadata": {},
     "output_type": "display_data"
    },
    {
     "name": "stdout",
     "output_type": "stream",
     "text": [
      "\n"
     ]
    },
    {
     "data": {
      "application/vnd.jupyter.widget-view+json": {
       "model_id": "46ae93b214e64528b3f1b99c2447ce2e",
       "version_major": 2,
       "version_minor": 0
      },
      "text/plain": [
       "HBox(children=(FloatProgress(value=0.0, description='Testing GO_rnd_cauchy1_N:10_T1:0.5_T2:0.1', max=1000.0, s…"
      ]
     },
     "metadata": {},
     "output_type": "display_data"
    },
    {
     "name": "stdout",
     "output_type": "stream",
     "text": [
      "\n"
     ]
    },
    {
     "data": {
      "application/vnd.jupyter.widget-view+json": {
       "model_id": "5b1cbb9cc45547b7ab5021af57c87916",
       "version_major": 2,
       "version_minor": 0
      },
      "text/plain": [
       "HBox(children=(FloatProgress(value=0.0, description='Testing GO_uni1_cauchy1_N:10_T1:0.5_T2:0.4', max=1000.0, …"
      ]
     },
     "metadata": {},
     "output_type": "display_data"
    },
    {
     "name": "stdout",
     "output_type": "stream",
     "text": [
      "\n"
     ]
    },
    {
     "data": {
      "application/vnd.jupyter.widget-view+json": {
       "model_id": "dec5d5098f0d4668bdaf61aaaf42b1d0",
       "version_major": 2,
       "version_minor": 0
      },
      "text/plain": [
       "HBox(children=(FloatProgress(value=0.0, description='Testing GO_MCM_cauchy1_N:10_T1:0.5_T2:0.4', max=1000.0, s…"
      ]
     },
     "metadata": {},
     "output_type": "display_data"
    },
    {
     "name": "stdout",
     "output_type": "stream",
     "text": [
      "\n"
     ]
    },
    {
     "data": {
      "application/vnd.jupyter.widget-view+json": {
       "model_id": "bdc0bb0fa2bc42f69d6124723c70f890",
       "version_major": 2,
       "version_minor": 0
      },
      "text/plain": [
       "HBox(children=(FloatProgress(value=0.0, description='Testing GO_MMCM_cauchy3_N:10_T1:0.5_T2:0.4', max=1000.0, …"
      ]
     },
     "metadata": {},
     "output_type": "display_data"
    },
    {
     "name": "stdout",
     "output_type": "stream",
     "text": [
      "\n"
     ]
    },
    {
     "data": {
      "application/vnd.jupyter.widget-view+json": {
       "model_id": "ff809d6789c94e659123c42ae70a1b65",
       "version_major": 2,
       "version_minor": 0
      },
      "text/plain": [
       "HBox(children=(FloatProgress(value=0.0, description='Testing GO_rnd_cauchy1_N:10_T1:0.5_T2:0.4', max=1000.0, s…"
      ]
     },
     "metadata": {},
     "output_type": "display_data"
    },
    {
     "name": "stdout",
     "output_type": "stream",
     "text": [
      "\n"
     ]
    },
    {
     "data": {
      "application/vnd.jupyter.widget-view+json": {
       "model_id": "f19af03badfc4dc7b11a6022be66646f",
       "version_major": 2,
       "version_minor": 0
      },
      "text/plain": [
       "HBox(children=(FloatProgress(value=0.0, description='Testing GO_uni1_cauchy1_N:10_T1:1_T2:0.1', max=1000.0, st…"
      ]
     },
     "metadata": {},
     "output_type": "display_data"
    },
    {
     "name": "stdout",
     "output_type": "stream",
     "text": [
      "\n"
     ]
    },
    {
     "data": {
      "application/vnd.jupyter.widget-view+json": {
       "model_id": "e743bd423b5a4cdf993e36bbf74722de",
       "version_major": 2,
       "version_minor": 0
      },
      "text/plain": [
       "HBox(children=(FloatProgress(value=0.0, description='Testing GO_MCM_cauchy1_N:10_T1:1_T2:0.1', max=1000.0, sty…"
      ]
     },
     "metadata": {},
     "output_type": "display_data"
    },
    {
     "name": "stdout",
     "output_type": "stream",
     "text": [
      "\n"
     ]
    },
    {
     "data": {
      "application/vnd.jupyter.widget-view+json": {
       "model_id": "e1571f3ec11c40c8b9d74effafbbbb31",
       "version_major": 2,
       "version_minor": 0
      },
      "text/plain": [
       "HBox(children=(FloatProgress(value=0.0, description='Testing GO_MMCM_cauchy3_N:10_T1:1_T2:0.1', max=1000.0, st…"
      ]
     },
     "metadata": {},
     "output_type": "display_data"
    },
    {
     "name": "stdout",
     "output_type": "stream",
     "text": [
      "\n"
     ]
    },
    {
     "data": {
      "application/vnd.jupyter.widget-view+json": {
       "model_id": "37b84a14939e4d6f9521fef0c1b6819e",
       "version_major": 2,
       "version_minor": 0
      },
      "text/plain": [
       "HBox(children=(FloatProgress(value=0.0, description='Testing GO_rnd_cauchy1_N:10_T1:1_T2:0.1', max=1000.0, sty…"
      ]
     },
     "metadata": {},
     "output_type": "display_data"
    },
    {
     "name": "stdout",
     "output_type": "stream",
     "text": [
      "\n"
     ]
    },
    {
     "data": {
      "application/vnd.jupyter.widget-view+json": {
       "model_id": "896754e3ee404acf84cca6c092868a0c",
       "version_major": 2,
       "version_minor": 0
      },
      "text/plain": [
       "HBox(children=(FloatProgress(value=0.0, description='Testing GO_uni1_cauchy1_N:10_T1:1_T2:0.4', max=1000.0, st…"
      ]
     },
     "metadata": {},
     "output_type": "display_data"
    },
    {
     "name": "stdout",
     "output_type": "stream",
     "text": [
      "\n"
     ]
    },
    {
     "data": {
      "application/vnd.jupyter.widget-view+json": {
       "model_id": "b062cc2b02b14f16b37982925fd5c012",
       "version_major": 2,
       "version_minor": 0
      },
      "text/plain": [
       "HBox(children=(FloatProgress(value=0.0, description='Testing GO_MCM_cauchy1_N:10_T1:1_T2:0.4', max=1000.0, sty…"
      ]
     },
     "metadata": {},
     "output_type": "display_data"
    },
    {
     "name": "stdout",
     "output_type": "stream",
     "text": [
      "\n"
     ]
    },
    {
     "data": {
      "application/vnd.jupyter.widget-view+json": {
       "model_id": "addab7304cdc4d829447a3343fa52991",
       "version_major": 2,
       "version_minor": 0
      },
      "text/plain": [
       "HBox(children=(FloatProgress(value=0.0, description='Testing GO_MMCM_cauchy3_N:10_T1:1_T2:0.4', max=1000.0, st…"
      ]
     },
     "metadata": {},
     "output_type": "display_data"
    },
    {
     "name": "stdout",
     "output_type": "stream",
     "text": [
      "\n"
     ]
    },
    {
     "data": {
      "application/vnd.jupyter.widget-view+json": {
       "model_id": "e25fc3adf8cc4526bf0ff4ad4f80bc88",
       "version_major": 2,
       "version_minor": 0
      },
      "text/plain": [
       "HBox(children=(FloatProgress(value=0.0, description='Testing GO_rnd_cauchy1_N:10_T1:1_T2:0.4', max=1000.0, sty…"
      ]
     },
     "metadata": {},
     "output_type": "display_data"
    },
    {
     "name": "stdout",
     "output_type": "stream",
     "text": [
      "\n"
     ]
    },
    {
     "data": {
      "application/vnd.jupyter.widget-view+json": {
       "model_id": "1bc49f77109845ff803e177c9f3aca0b",
       "version_major": 2,
       "version_minor": 0
      },
      "text/plain": [
       "HBox(children=(FloatProgress(value=0.0, description='Testing GO_uni1_cauchy1_N:10_T1:5_T2:0.1', max=1000.0, st…"
      ]
     },
     "metadata": {},
     "output_type": "display_data"
    },
    {
     "name": "stdout",
     "output_type": "stream",
     "text": [
      "\n"
     ]
    },
    {
     "data": {
      "application/vnd.jupyter.widget-view+json": {
       "model_id": "c93907241ff841309074914064950ff2",
       "version_major": 2,
       "version_minor": 0
      },
      "text/plain": [
       "HBox(children=(FloatProgress(value=0.0, description='Testing GO_MCM_cauchy1_N:10_T1:5_T2:0.1', max=1000.0, sty…"
      ]
     },
     "metadata": {},
     "output_type": "display_data"
    },
    {
     "name": "stdout",
     "output_type": "stream",
     "text": [
      "\n"
     ]
    },
    {
     "data": {
      "application/vnd.jupyter.widget-view+json": {
       "model_id": "84e897341b3e4e729ab76bbaf7a3f277",
       "version_major": 2,
       "version_minor": 0
      },
      "text/plain": [
       "HBox(children=(FloatProgress(value=0.0, description='Testing GO_MMCM_cauchy3_N:10_T1:5_T2:0.1', max=1000.0, st…"
      ]
     },
     "metadata": {},
     "output_type": "display_data"
    },
    {
     "name": "stdout",
     "output_type": "stream",
     "text": [
      "\n"
     ]
    },
    {
     "data": {
      "application/vnd.jupyter.widget-view+json": {
       "model_id": "b2f5e56739e0444aa44fda0beec7cf4f",
       "version_major": 2,
       "version_minor": 0
      },
      "text/plain": [
       "HBox(children=(FloatProgress(value=0.0, description='Testing GO_rnd_cauchy1_N:10_T1:5_T2:0.1', max=1000.0, sty…"
      ]
     },
     "metadata": {},
     "output_type": "display_data"
    },
    {
     "name": "stdout",
     "output_type": "stream",
     "text": [
      "\n"
     ]
    },
    {
     "data": {
      "application/vnd.jupyter.widget-view+json": {
       "model_id": "517e29d201114621ba3aa055be0de085",
       "version_major": 2,
       "version_minor": 0
      },
      "text/plain": [
       "HBox(children=(FloatProgress(value=0.0, description='Testing GO_uni1_cauchy1_N:10_T1:5_T2:0.4', max=1000.0, st…"
      ]
     },
     "metadata": {},
     "output_type": "display_data"
    },
    {
     "name": "stdout",
     "output_type": "stream",
     "text": [
      "\n"
     ]
    },
    {
     "data": {
      "application/vnd.jupyter.widget-view+json": {
       "model_id": "8c02ab28e4394418aa339c2ed4f2602a",
       "version_major": 2,
       "version_minor": 0
      },
      "text/plain": [
       "HBox(children=(FloatProgress(value=0.0, description='Testing GO_MCM_cauchy1_N:10_T1:5_T2:0.4', max=1000.0, sty…"
      ]
     },
     "metadata": {},
     "output_type": "display_data"
    },
    {
     "name": "stdout",
     "output_type": "stream",
     "text": [
      "\n"
     ]
    },
    {
     "data": {
      "application/vnd.jupyter.widget-view+json": {
       "model_id": "e2090a3b601747cd8669b6e2a1bbe3df",
       "version_major": 2,
       "version_minor": 0
      },
      "text/plain": [
       "HBox(children=(FloatProgress(value=0.0, description='Testing GO_MMCM_cauchy3_N:10_T1:5_T2:0.4', max=1000.0, st…"
      ]
     },
     "metadata": {},
     "output_type": "display_data"
    },
    {
     "name": "stdout",
     "output_type": "stream",
     "text": [
      "\n"
     ]
    },
    {
     "data": {
      "application/vnd.jupyter.widget-view+json": {
       "model_id": "ea779f968aef4d399f135d418cfdc30b",
       "version_major": 2,
       "version_minor": 0
      },
      "text/plain": [
       "HBox(children=(FloatProgress(value=0.0, description='Testing GO_rnd_cauchy1_N:10_T1:5_T2:0.4', max=1000.0, sty…"
      ]
     },
     "metadata": {},
     "output_type": "display_data"
    },
    {
     "name": "stdout",
     "output_type": "stream",
     "text": [
      "\n"
     ]
    },
    {
     "data": {
      "application/vnd.jupyter.widget-view+json": {
       "model_id": "fdb716df701942329e3f96a256d0f90a",
       "version_major": 2,
       "version_minor": 0
      },
      "text/plain": [
       "HBox(children=(FloatProgress(value=0.0, description='Testing GO_uni1_cauchy1_N:15_T1:0.5_T2:0.1', max=1000.0, …"
      ]
     },
     "metadata": {},
     "output_type": "display_data"
    },
    {
     "name": "stdout",
     "output_type": "stream",
     "text": [
      "\n"
     ]
    },
    {
     "data": {
      "application/vnd.jupyter.widget-view+json": {
       "model_id": "b3c1153152b14c97816358b6f29929a7",
       "version_major": 2,
       "version_minor": 0
      },
      "text/plain": [
       "HBox(children=(FloatProgress(value=0.0, description='Testing GO_MCM_cauchy1_N:15_T1:0.5_T2:0.1', max=1000.0, s…"
      ]
     },
     "metadata": {},
     "output_type": "display_data"
    },
    {
     "name": "stdout",
     "output_type": "stream",
     "text": [
      "\n"
     ]
    },
    {
     "data": {
      "application/vnd.jupyter.widget-view+json": {
       "model_id": "e98ad708ec9149639cb80d41c6bb0e85",
       "version_major": 2,
       "version_minor": 0
      },
      "text/plain": [
       "HBox(children=(FloatProgress(value=0.0, description='Testing GO_MMCM_cauchy3_N:15_T1:0.5_T2:0.1', max=1000.0, …"
      ]
     },
     "metadata": {},
     "output_type": "display_data"
    },
    {
     "name": "stdout",
     "output_type": "stream",
     "text": [
      "\n"
     ]
    },
    {
     "data": {
      "application/vnd.jupyter.widget-view+json": {
       "model_id": "419a2214d6324d62b2d54f30d6d5e2a7",
       "version_major": 2,
       "version_minor": 0
      },
      "text/plain": [
       "HBox(children=(FloatProgress(value=0.0, description='Testing GO_rnd_cauchy1_N:15_T1:0.5_T2:0.1', max=1000.0, s…"
      ]
     },
     "metadata": {},
     "output_type": "display_data"
    },
    {
     "name": "stdout",
     "output_type": "stream",
     "text": [
      "\n"
     ]
    },
    {
     "data": {
      "application/vnd.jupyter.widget-view+json": {
       "model_id": "83e48c574c8d4641a8263fceebf18ada",
       "version_major": 2,
       "version_minor": 0
      },
      "text/plain": [
       "HBox(children=(FloatProgress(value=0.0, description='Testing GO_uni1_cauchy1_N:15_T1:0.5_T2:0.4', max=1000.0, …"
      ]
     },
     "metadata": {},
     "output_type": "display_data"
    },
    {
     "name": "stdout",
     "output_type": "stream",
     "text": [
      "\n"
     ]
    },
    {
     "data": {
      "application/vnd.jupyter.widget-view+json": {
       "model_id": "e257b9c3f8534989993491d26381eef3",
       "version_major": 2,
       "version_minor": 0
      },
      "text/plain": [
       "HBox(children=(FloatProgress(value=0.0, description='Testing GO_MCM_cauchy1_N:15_T1:0.5_T2:0.4', max=1000.0, s…"
      ]
     },
     "metadata": {},
     "output_type": "display_data"
    },
    {
     "name": "stdout",
     "output_type": "stream",
     "text": [
      "\n"
     ]
    },
    {
     "data": {
      "application/vnd.jupyter.widget-view+json": {
       "model_id": "39ecff53c0834803b9b6d2d880da1f91",
       "version_major": 2,
       "version_minor": 0
      },
      "text/plain": [
       "HBox(children=(FloatProgress(value=0.0, description='Testing GO_MMCM_cauchy3_N:15_T1:0.5_T2:0.4', max=1000.0, …"
      ]
     },
     "metadata": {},
     "output_type": "display_data"
    },
    {
     "name": "stdout",
     "output_type": "stream",
     "text": [
      "\n"
     ]
    },
    {
     "data": {
      "application/vnd.jupyter.widget-view+json": {
       "model_id": "a5898fc6bf1540c49bff5707ff0a2173",
       "version_major": 2,
       "version_minor": 0
      },
      "text/plain": [
       "HBox(children=(FloatProgress(value=0.0, description='Testing GO_rnd_cauchy1_N:15_T1:0.5_T2:0.4', max=1000.0, s…"
      ]
     },
     "metadata": {},
     "output_type": "display_data"
    },
    {
     "name": "stdout",
     "output_type": "stream",
     "text": [
      "\n"
     ]
    },
    {
     "data": {
      "application/vnd.jupyter.widget-view+json": {
       "model_id": "dd98db5ad3f9417890e016497c75b126",
       "version_major": 2,
       "version_minor": 0
      },
      "text/plain": [
       "HBox(children=(FloatProgress(value=0.0, description='Testing GO_uni1_cauchy1_N:15_T1:1_T2:0.1', max=1000.0, st…"
      ]
     },
     "metadata": {},
     "output_type": "display_data"
    },
    {
     "name": "stdout",
     "output_type": "stream",
     "text": [
      "\n"
     ]
    },
    {
     "data": {
      "application/vnd.jupyter.widget-view+json": {
       "model_id": "c6973c333b4b486382132f07161e9348",
       "version_major": 2,
       "version_minor": 0
      },
      "text/plain": [
       "HBox(children=(FloatProgress(value=0.0, description='Testing GO_MCM_cauchy1_N:15_T1:1_T2:0.1', max=1000.0, sty…"
      ]
     },
     "metadata": {},
     "output_type": "display_data"
    },
    {
     "name": "stdout",
     "output_type": "stream",
     "text": [
      "\n"
     ]
    },
    {
     "data": {
      "application/vnd.jupyter.widget-view+json": {
       "model_id": "54223976e1dc4f61b70d6d016eb16b99",
       "version_major": 2,
       "version_minor": 0
      },
      "text/plain": [
       "HBox(children=(FloatProgress(value=0.0, description='Testing GO_MMCM_cauchy3_N:15_T1:1_T2:0.1', max=1000.0, st…"
      ]
     },
     "metadata": {},
     "output_type": "display_data"
    },
    {
     "name": "stdout",
     "output_type": "stream",
     "text": [
      "\n"
     ]
    },
    {
     "data": {
      "application/vnd.jupyter.widget-view+json": {
       "model_id": "dcd2f43c269b417cb7a5f9792957f152",
       "version_major": 2,
       "version_minor": 0
      },
      "text/plain": [
       "HBox(children=(FloatProgress(value=0.0, description='Testing GO_rnd_cauchy1_N:15_T1:1_T2:0.1', max=1000.0, sty…"
      ]
     },
     "metadata": {},
     "output_type": "display_data"
    },
    {
     "name": "stdout",
     "output_type": "stream",
     "text": [
      "\n"
     ]
    },
    {
     "data": {
      "application/vnd.jupyter.widget-view+json": {
       "model_id": "70c5f090405e4fc2b03f35fa23cb93fc",
       "version_major": 2,
       "version_minor": 0
      },
      "text/plain": [
       "HBox(children=(FloatProgress(value=0.0, description='Testing GO_uni1_cauchy1_N:15_T1:1_T2:0.4', max=1000.0, st…"
      ]
     },
     "metadata": {},
     "output_type": "display_data"
    },
    {
     "name": "stdout",
     "output_type": "stream",
     "text": [
      "\n"
     ]
    },
    {
     "data": {
      "application/vnd.jupyter.widget-view+json": {
       "model_id": "09969be9f4e6417c890cac276123b451",
       "version_major": 2,
       "version_minor": 0
      },
      "text/plain": [
       "HBox(children=(FloatProgress(value=0.0, description='Testing GO_MCM_cauchy1_N:15_T1:1_T2:0.4', max=1000.0, sty…"
      ]
     },
     "metadata": {},
     "output_type": "display_data"
    },
    {
     "name": "stdout",
     "output_type": "stream",
     "text": [
      "\n"
     ]
    },
    {
     "data": {
      "application/vnd.jupyter.widget-view+json": {
       "model_id": "0fa70f4e243e48f4a9f224800809645a",
       "version_major": 2,
       "version_minor": 0
      },
      "text/plain": [
       "HBox(children=(FloatProgress(value=0.0, description='Testing GO_MMCM_cauchy3_N:15_T1:1_T2:0.4', max=1000.0, st…"
      ]
     },
     "metadata": {},
     "output_type": "display_data"
    },
    {
     "name": "stdout",
     "output_type": "stream",
     "text": [
      "\n"
     ]
    },
    {
     "data": {
      "application/vnd.jupyter.widget-view+json": {
       "model_id": "90d8520455d847bd944c7cfda35ec7cb",
       "version_major": 2,
       "version_minor": 0
      },
      "text/plain": [
       "HBox(children=(FloatProgress(value=0.0, description='Testing GO_rnd_cauchy1_N:15_T1:1_T2:0.4', max=1000.0, sty…"
      ]
     },
     "metadata": {},
     "output_type": "display_data"
    },
    {
     "name": "stdout",
     "output_type": "stream",
     "text": [
      "\n"
     ]
    },
    {
     "data": {
      "application/vnd.jupyter.widget-view+json": {
       "model_id": "4f2c155adff84a0a8a769dd181b811ef",
       "version_major": 2,
       "version_minor": 0
      },
      "text/plain": [
       "HBox(children=(FloatProgress(value=0.0, description='Testing GO_uni1_cauchy1_N:15_T1:5_T2:0.1', max=1000.0, st…"
      ]
     },
     "metadata": {},
     "output_type": "display_data"
    },
    {
     "name": "stdout",
     "output_type": "stream",
     "text": [
      "\n"
     ]
    },
    {
     "data": {
      "application/vnd.jupyter.widget-view+json": {
       "model_id": "dfef0d8d1eb2492db73d10eea41ffb6a",
       "version_major": 2,
       "version_minor": 0
      },
      "text/plain": [
       "HBox(children=(FloatProgress(value=0.0, description='Testing GO_MCM_cauchy1_N:15_T1:5_T2:0.1', max=1000.0, sty…"
      ]
     },
     "metadata": {},
     "output_type": "display_data"
    },
    {
     "name": "stdout",
     "output_type": "stream",
     "text": [
      "\n"
     ]
    },
    {
     "data": {
      "application/vnd.jupyter.widget-view+json": {
       "model_id": "d97a9b9c73ca42d7a7aa8be8e779dd13",
       "version_major": 2,
       "version_minor": 0
      },
      "text/plain": [
       "HBox(children=(FloatProgress(value=0.0, description='Testing GO_MMCM_cauchy3_N:15_T1:5_T2:0.1', max=1000.0, st…"
      ]
     },
     "metadata": {},
     "output_type": "display_data"
    },
    {
     "name": "stdout",
     "output_type": "stream",
     "text": [
      "\n"
     ]
    },
    {
     "data": {
      "application/vnd.jupyter.widget-view+json": {
       "model_id": "4b543710eaf74db1a8b5bae3bb7f51f7",
       "version_major": 2,
       "version_minor": 0
      },
      "text/plain": [
       "HBox(children=(FloatProgress(value=0.0, description='Testing GO_rnd_cauchy1_N:15_T1:5_T2:0.1', max=1000.0, sty…"
      ]
     },
     "metadata": {},
     "output_type": "display_data"
    },
    {
     "name": "stdout",
     "output_type": "stream",
     "text": [
      "\n"
     ]
    },
    {
     "data": {
      "application/vnd.jupyter.widget-view+json": {
       "model_id": "d10eae458bcd4c359bc70fba95d408e2",
       "version_major": 2,
       "version_minor": 0
      },
      "text/plain": [
       "HBox(children=(FloatProgress(value=0.0, description='Testing GO_uni1_cauchy1_N:15_T1:5_T2:0.4', max=1000.0, st…"
      ]
     },
     "metadata": {},
     "output_type": "display_data"
    },
    {
     "name": "stdout",
     "output_type": "stream",
     "text": [
      "\n"
     ]
    },
    {
     "data": {
      "application/vnd.jupyter.widget-view+json": {
       "model_id": "23688d54fa6846d78776119e36a02c4f",
       "version_major": 2,
       "version_minor": 0
      },
      "text/plain": [
       "HBox(children=(FloatProgress(value=0.0, description='Testing GO_MCM_cauchy1_N:15_T1:5_T2:0.4', max=1000.0, sty…"
      ]
     },
     "metadata": {},
     "output_type": "display_data"
    },
    {
     "name": "stdout",
     "output_type": "stream",
     "text": [
      "\n"
     ]
    },
    {
     "data": {
      "application/vnd.jupyter.widget-view+json": {
       "model_id": "e5c16e3ca44242ca8971d754c4608431",
       "version_major": 2,
       "version_minor": 0
      },
      "text/plain": [
       "HBox(children=(FloatProgress(value=0.0, description='Testing GO_MMCM_cauchy3_N:15_T1:5_T2:0.4', max=1000.0, st…"
      ]
     },
     "metadata": {},
     "output_type": "display_data"
    },
    {
     "name": "stdout",
     "output_type": "stream",
     "text": [
      "\n"
     ]
    },
    {
     "data": {
      "application/vnd.jupyter.widget-view+json": {
       "model_id": "976cd80127ac476b9deae852d6250d2d",
       "version_major": 2,
       "version_minor": 0
      },
      "text/plain": [
       "HBox(children=(FloatProgress(value=0.0, description='Testing GO_rnd_cauchy1_N:15_T1:5_T2:0.4', max=1000.0, sty…"
      ]
     },
     "metadata": {},
     "output_type": "display_data"
    },
    {
     "name": "stdout",
     "output_type": "stream",
     "text": [
      "\n"
     ]
    }
   ],
   "source": [
    "results_2 = pd.DataFrame()\n",
    "for n in N:\n",
    "    for temp1 in T1:\n",
    "        for temp2 in T2:\n",
    "            for cr_mut in crossovers_mutations:\n",
    "                heur_name = 'GO_{}_N:{}_T1:{}_T2:{}'.format(cr_mut['name'], n, temp1, temp2)\n",
    "                runs = []\n",
    "                for i in tqdm(range(NUM_RUNS), 'Testing {}'.format(heur_name)):\n",
    "                    run = GeneticOptimization(tsp, maxeval, N=n, M=3*n, Tsel1=temp1, Tsel2=temp2, \n",
    "                                              mutation=cr_mut['mutation'],\n",
    "                                              crossover=cr_mut['crossover']).search()\n",
    "                    run['run'] = i\n",
    "                    run['heur'] = heur_name\n",
    "                    run['n'] = n\n",
    "                    run['temp1'] = temp1\n",
    "                    run['temp2'] = temp2\n",
    "                    runs.append(run)\n",
    "\n",
    "                res_df = pd.DataFrame(runs, columns=['heur', 'run', 'n','temp1', 'temp2', \n",
    "                                                     'best_x', 'best_y', 'neval'])\n",
    "                results_2 = pd.concat([results_2, res_df], axis=0)"
   ]
  },
  {
   "cell_type": "code",
   "execution_count": 16,
   "metadata": {},
   "outputs": [
    {
     "name": "stderr",
     "output_type": "stream",
     "text": [
      "/home/benjamin/anaconda3/lib/python3.7/site-packages/numpy/core/fromnumeric.py:3335: RuntimeWarning: Mean of empty slice.\n",
      "  out=out, **kwargs)\n",
      "/home/benjamin/anaconda3/lib/python3.7/site-packages/numpy/core/_methods.py:161: RuntimeWarning: invalid value encountered in double_scalars\n",
      "  ret = ret.dtype.type(ret / rcount)\n"
     ]
    },
    {
     "data": {
      "text/html": [
       "<div>\n",
       "<style scoped>\n",
       "    .dataframe tbody tr th:only-of-type {\n",
       "        vertical-align: middle;\n",
       "    }\n",
       "\n",
       "    .dataframe tbody tr th {\n",
       "        vertical-align: top;\n",
       "    }\n",
       "\n",
       "    .dataframe thead th {\n",
       "        text-align: right;\n",
       "    }\n",
       "</style>\n",
       "<table border=\"1\" class=\"dataframe\">\n",
       "  <thead>\n",
       "    <tr style=\"text-align: right;\">\n",
       "      <th></th>\n",
       "      <th>heur</th>\n",
       "      <th>n</th>\n",
       "      <th>temp1</th>\n",
       "      <th>temp2</th>\n",
       "      <th>feo</th>\n",
       "      <th>mne</th>\n",
       "      <th>rel</th>\n",
       "    </tr>\n",
       "  </thead>\n",
       "  <tbody>\n",
       "    <tr>\n",
       "      <th>18</th>\n",
       "      <td>GO_MCM_cauchy1_N:5_T1:0.5_T2:0.1</td>\n",
       "      <td>5</td>\n",
       "      <td>0.5</td>\n",
       "      <td>0.1</td>\n",
       "      <td>228.224000</td>\n",
       "      <td>57.056000</td>\n",
       "      <td>0.250</td>\n",
       "    </tr>\n",
       "    <tr>\n",
       "      <th>21</th>\n",
       "      <td>GO_MCM_cauchy1_N:5_T1:1_T2:0.4</td>\n",
       "      <td>5</td>\n",
       "      <td>1.0</td>\n",
       "      <td>0.4</td>\n",
       "      <td>243.343079</td>\n",
       "      <td>58.158996</td>\n",
       "      <td>0.239</td>\n",
       "    </tr>\n",
       "    <tr>\n",
       "      <th>61</th>\n",
       "      <td>GO_rnd_cauchy1_N:3_T1:0.5_T2:0.4</td>\n",
       "      <td>3</td>\n",
       "      <td>0.5</td>\n",
       "      <td>0.4</td>\n",
       "      <td>248.966942</td>\n",
       "      <td>54.772727</td>\n",
       "      <td>0.220</td>\n",
       "    </tr>\n",
       "    <tr>\n",
       "      <th>85</th>\n",
       "      <td>GO_uni1_cauchy1_N:3_T1:0.5_T2:0.4</td>\n",
       "      <td>3</td>\n",
       "      <td>0.5</td>\n",
       "      <td>0.4</td>\n",
       "      <td>254.167556</td>\n",
       "      <td>57.696035</td>\n",
       "      <td>0.227</td>\n",
       "    </tr>\n",
       "    <tr>\n",
       "      <th>14</th>\n",
       "      <td>GO_MCM_cauchy1_N:3_T1:1_T2:0.1</td>\n",
       "      <td>3</td>\n",
       "      <td>1.0</td>\n",
       "      <td>0.1</td>\n",
       "      <td>258.766465</td>\n",
       "      <td>54.858491</td>\n",
       "      <td>0.212</td>\n",
       "    </tr>\n",
       "    <tr>\n",
       "      <th>92</th>\n",
       "      <td>GO_uni1_cauchy1_N:5_T1:1_T2:0.1</td>\n",
       "      <td>5</td>\n",
       "      <td>1.0</td>\n",
       "      <td>0.1</td>\n",
       "      <td>263.234181</td>\n",
       "      <td>56.595349</td>\n",
       "      <td>0.215</td>\n",
       "    </tr>\n",
       "    <tr>\n",
       "      <th>20</th>\n",
       "      <td>GO_MCM_cauchy1_N:5_T1:1_T2:0.1</td>\n",
       "      <td>5</td>\n",
       "      <td>1.0</td>\n",
       "      <td>0.1</td>\n",
       "      <td>266.350617</td>\n",
       "      <td>59.928889</td>\n",
       "      <td>0.225</td>\n",
       "    </tr>\n",
       "    <tr>\n",
       "      <th>84</th>\n",
       "      <td>GO_uni1_cauchy1_N:3_T1:0.5_T2:0.1</td>\n",
       "      <td>3</td>\n",
       "      <td>0.5</td>\n",
       "      <td>0.1</td>\n",
       "      <td>269.499343</td>\n",
       "      <td>53.091371</td>\n",
       "      <td>0.197</td>\n",
       "    </tr>\n",
       "    <tr>\n",
       "      <th>15</th>\n",
       "      <td>GO_MCM_cauchy1_N:3_T1:1_T2:0.4</td>\n",
       "      <td>3</td>\n",
       "      <td>1.0</td>\n",
       "      <td>0.4</td>\n",
       "      <td>270.577037</td>\n",
       "      <td>55.468293</td>\n",
       "      <td>0.205</td>\n",
       "    </tr>\n",
       "    <tr>\n",
       "      <th>13</th>\n",
       "      <td>GO_MCM_cauchy1_N:3_T1:0.5_T2:0.4</td>\n",
       "      <td>3</td>\n",
       "      <td>0.5</td>\n",
       "      <td>0.4</td>\n",
       "      <td>271.286561</td>\n",
       "      <td>57.784038</td>\n",
       "      <td>0.213</td>\n",
       "    </tr>\n",
       "    <tr>\n",
       "      <th>19</th>\n",
       "      <td>GO_MCM_cauchy1_N:5_T1:0.5_T2:0.4</td>\n",
       "      <td>5</td>\n",
       "      <td>0.5</td>\n",
       "      <td>0.4</td>\n",
       "      <td>271.966984</td>\n",
       "      <td>58.200935</td>\n",
       "      <td>0.214</td>\n",
       "    </tr>\n",
       "    <tr>\n",
       "      <th>87</th>\n",
       "      <td>GO_uni1_cauchy1_N:3_T1:1_T2:0.4</td>\n",
       "      <td>3</td>\n",
       "      <td>1.0</td>\n",
       "      <td>0.4</td>\n",
       "      <td>274.309010</td>\n",
       "      <td>55.684729</td>\n",
       "      <td>0.203</td>\n",
       "    </tr>\n",
       "    <tr>\n",
       "      <th>93</th>\n",
       "      <td>GO_uni1_cauchy1_N:5_T1:1_T2:0.4</td>\n",
       "      <td>5</td>\n",
       "      <td>1.0</td>\n",
       "      <td>0.4</td>\n",
       "      <td>281.236029</td>\n",
       "      <td>54.841026</td>\n",
       "      <td>0.195</td>\n",
       "    </tr>\n",
       "    <tr>\n",
       "      <th>86</th>\n",
       "      <td>GO_uni1_cauchy1_N:3_T1:1_T2:0.1</td>\n",
       "      <td>3</td>\n",
       "      <td>1.0</td>\n",
       "      <td>0.1</td>\n",
       "      <td>283.134374</td>\n",
       "      <td>56.060606</td>\n",
       "      <td>0.198</td>\n",
       "    </tr>\n",
       "    <tr>\n",
       "      <th>90</th>\n",
       "      <td>GO_uni1_cauchy1_N:5_T1:0.5_T2:0.1</td>\n",
       "      <td>5</td>\n",
       "      <td>0.5</td>\n",
       "      <td>0.1</td>\n",
       "      <td>284.816424</td>\n",
       "      <td>57.817734</td>\n",
       "      <td>0.203</td>\n",
       "    </tr>\n",
       "    <tr>\n",
       "      <th>12</th>\n",
       "      <td>GO_MCM_cauchy1_N:3_T1:0.5_T2:0.1</td>\n",
       "      <td>3</td>\n",
       "      <td>0.5</td>\n",
       "      <td>0.1</td>\n",
       "      <td>285.630125</td>\n",
       "      <td>58.839806</td>\n",
       "      <td>0.206</td>\n",
       "    </tr>\n",
       "    <tr>\n",
       "      <th>66</th>\n",
       "      <td>GO_rnd_cauchy1_N:5_T1:0.5_T2:0.1</td>\n",
       "      <td>5</td>\n",
       "      <td>0.5</td>\n",
       "      <td>0.1</td>\n",
       "      <td>287.146012</td>\n",
       "      <td>58.290640</td>\n",
       "      <td>0.203</td>\n",
       "    </tr>\n",
       "    <tr>\n",
       "      <th>91</th>\n",
       "      <td>GO_uni1_cauchy1_N:5_T1:0.5_T2:0.4</td>\n",
       "      <td>5</td>\n",
       "      <td>0.5</td>\n",
       "      <td>0.4</td>\n",
       "      <td>289.522537</td>\n",
       "      <td>58.194030</td>\n",
       "      <td>0.201</td>\n",
       "    </tr>\n",
       "    <tr>\n",
       "      <th>73</th>\n",
       "      <td>GO_uni1_cauchy1_N:10_T1:0.5_T2:0.4</td>\n",
       "      <td>10</td>\n",
       "      <td>0.5</td>\n",
       "      <td>0.4</td>\n",
       "      <td>294.886582</td>\n",
       "      <td>60.156863</td>\n",
       "      <td>0.204</td>\n",
       "    </tr>\n",
       "    <tr>\n",
       "      <th>68</th>\n",
       "      <td>GO_rnd_cauchy1_N:5_T1:1_T2:0.1</td>\n",
       "      <td>5</td>\n",
       "      <td>1.0</td>\n",
       "      <td>0.1</td>\n",
       "      <td>300.450000</td>\n",
       "      <td>60.090000</td>\n",
       "      <td>0.200</td>\n",
       "    </tr>\n",
       "    <tr>\n",
       "      <th>60</th>\n",
       "      <td>GO_rnd_cauchy1_N:3_T1:0.5_T2:0.1</td>\n",
       "      <td>3</td>\n",
       "      <td>0.5</td>\n",
       "      <td>0.1</td>\n",
       "      <td>307.578911</td>\n",
       "      <td>57.209677</td>\n",
       "      <td>0.186</td>\n",
       "    </tr>\n",
       "    <tr>\n",
       "      <th>1</th>\n",
       "      <td>GO_MCM_cauchy1_N:10_T1:0.5_T2:0.4</td>\n",
       "      <td>10</td>\n",
       "      <td>0.5</td>\n",
       "      <td>0.4</td>\n",
       "      <td>307.659266</td>\n",
       "      <td>59.378238</td>\n",
       "      <td>0.193</td>\n",
       "    </tr>\n",
       "    <tr>\n",
       "      <th>72</th>\n",
       "      <td>GO_uni1_cauchy1_N:10_T1:0.5_T2:0.1</td>\n",
       "      <td>10</td>\n",
       "      <td>0.5</td>\n",
       "      <td>0.1</td>\n",
       "      <td>308.791769</td>\n",
       "      <td>62.684729</td>\n",
       "      <td>0.203</td>\n",
       "    </tr>\n",
       "    <tr>\n",
       "      <th>79</th>\n",
       "      <td>GO_uni1_cauchy1_N:15_T1:0.5_T2:0.4</td>\n",
       "      <td>15</td>\n",
       "      <td>0.5</td>\n",
       "      <td>0.4</td>\n",
       "      <td>309.749044</td>\n",
       "      <td>62.569307</td>\n",
       "      <td>0.202</td>\n",
       "    </tr>\n",
       "    <tr>\n",
       "      <th>63</th>\n",
       "      <td>GO_rnd_cauchy1_N:3_T1:1_T2:0.4</td>\n",
       "      <td>3</td>\n",
       "      <td>1.0</td>\n",
       "      <td>0.4</td>\n",
       "      <td>311.407136</td>\n",
       "      <td>57.298913</td>\n",
       "      <td>0.184</td>\n",
       "    </tr>\n",
       "    <tr>\n",
       "      <th>75</th>\n",
       "      <td>GO_uni1_cauchy1_N:10_T1:1_T2:0.4</td>\n",
       "      <td>10</td>\n",
       "      <td>1.0</td>\n",
       "      <td>0.4</td>\n",
       "      <td>311.886418</td>\n",
       "      <td>61.441624</td>\n",
       "      <td>0.197</td>\n",
       "    </tr>\n",
       "    <tr>\n",
       "      <th>3</th>\n",
       "      <td>GO_MCM_cauchy1_N:10_T1:1_T2:0.4</td>\n",
       "      <td>10</td>\n",
       "      <td>1.0</td>\n",
       "      <td>0.4</td>\n",
       "      <td>314.697266</td>\n",
       "      <td>60.421875</td>\n",
       "      <td>0.192</td>\n",
       "    </tr>\n",
       "    <tr>\n",
       "      <th>67</th>\n",
       "      <td>GO_rnd_cauchy1_N:5_T1:0.5_T2:0.4</td>\n",
       "      <td>5</td>\n",
       "      <td>0.5</td>\n",
       "      <td>0.4</td>\n",
       "      <td>317.014336</td>\n",
       "      <td>60.549738</td>\n",
       "      <td>0.191</td>\n",
       "    </tr>\n",
       "    <tr>\n",
       "      <th>51</th>\n",
       "      <td>GO_rnd_cauchy1_N:10_T1:1_T2:0.4</td>\n",
       "      <td>10</td>\n",
       "      <td>1.0</td>\n",
       "      <td>0.4</td>\n",
       "      <td>318.611111</td>\n",
       "      <td>57.350000</td>\n",
       "      <td>0.180</td>\n",
       "    </tr>\n",
       "    <tr>\n",
       "      <th>48</th>\n",
       "      <td>GO_rnd_cauchy1_N:10_T1:0.5_T2:0.1</td>\n",
       "      <td>10</td>\n",
       "      <td>0.5</td>\n",
       "      <td>0.1</td>\n",
       "      <td>322.770083</td>\n",
       "      <td>61.326316</td>\n",
       "      <td>0.190</td>\n",
       "    </tr>\n",
       "    <tr>\n",
       "      <th>74</th>\n",
       "      <td>GO_uni1_cauchy1_N:10_T1:1_T2:0.1</td>\n",
       "      <td>10</td>\n",
       "      <td>1.0</td>\n",
       "      <td>0.1</td>\n",
       "      <td>326.048210</td>\n",
       "      <td>60.318919</td>\n",
       "      <td>0.185</td>\n",
       "    </tr>\n",
       "    <tr>\n",
       "      <th>2</th>\n",
       "      <td>GO_MCM_cauchy1_N:10_T1:1_T2:0.1</td>\n",
       "      <td>10</td>\n",
       "      <td>1.0</td>\n",
       "      <td>0.1</td>\n",
       "      <td>327.693526</td>\n",
       "      <td>61.606383</td>\n",
       "      <td>0.188</td>\n",
       "    </tr>\n",
       "    <tr>\n",
       "      <th>62</th>\n",
       "      <td>GO_rnd_cauchy1_N:3_T1:1_T2:0.1</td>\n",
       "      <td>3</td>\n",
       "      <td>1.0</td>\n",
       "      <td>0.1</td>\n",
       "      <td>332.319824</td>\n",
       "      <td>57.491329</td>\n",
       "      <td>0.173</td>\n",
       "    </tr>\n",
       "    <tr>\n",
       "      <th>78</th>\n",
       "      <td>GO_uni1_cauchy1_N:15_T1:0.5_T2:0.1</td>\n",
       "      <td>15</td>\n",
       "      <td>0.5</td>\n",
       "      <td>0.1</td>\n",
       "      <td>332.417840</td>\n",
       "      <td>59.502793</td>\n",
       "      <td>0.179</td>\n",
       "    </tr>\n",
       "    <tr>\n",
       "      <th>38</th>\n",
       "      <td>GO_MMCM_cauchy3_N:3_T1:1_T2:0.1</td>\n",
       "      <td>3</td>\n",
       "      <td>1.0</td>\n",
       "      <td>0.1</td>\n",
       "      <td>334.828318</td>\n",
       "      <td>48.215278</td>\n",
       "      <td>0.144</td>\n",
       "    </tr>\n",
       "    <tr>\n",
       "      <th>55</th>\n",
       "      <td>GO_rnd_cauchy1_N:15_T1:0.5_T2:0.4</td>\n",
       "      <td>15</td>\n",
       "      <td>0.5</td>\n",
       "      <td>0.4</td>\n",
       "      <td>340.715393</td>\n",
       "      <td>59.965909</td>\n",
       "      <td>0.176</td>\n",
       "    </tr>\n",
       "    <tr>\n",
       "      <th>69</th>\n",
       "      <td>GO_rnd_cauchy1_N:5_T1:1_T2:0.4</td>\n",
       "      <td>5</td>\n",
       "      <td>1.0</td>\n",
       "      <td>0.4</td>\n",
       "      <td>341.748450</td>\n",
       "      <td>60.147727</td>\n",
       "      <td>0.176</td>\n",
       "    </tr>\n",
       "    <tr>\n",
       "      <th>43</th>\n",
       "      <td>GO_MMCM_cauchy3_N:5_T1:0.5_T2:0.4</td>\n",
       "      <td>5</td>\n",
       "      <td>0.5</td>\n",
       "      <td>0.4</td>\n",
       "      <td>344.572368</td>\n",
       "      <td>52.375000</td>\n",
       "      <td>0.152</td>\n",
       "    </tr>\n",
       "    <tr>\n",
       "      <th>0</th>\n",
       "      <td>GO_MCM_cauchy1_N:10_T1:0.5_T2:0.1</td>\n",
       "      <td>10</td>\n",
       "      <td>0.5</td>\n",
       "      <td>0.1</td>\n",
       "      <td>345.386750</td>\n",
       "      <td>64.241935</td>\n",
       "      <td>0.186</td>\n",
       "    </tr>\n",
       "    <tr>\n",
       "      <th>17</th>\n",
       "      <td>GO_MCM_cauchy1_N:3_T1:5_T2:0.4</td>\n",
       "      <td>3</td>\n",
       "      <td>5.0</td>\n",
       "      <td>0.4</td>\n",
       "      <td>346.381429</td>\n",
       "      <td>58.538462</td>\n",
       "      <td>0.169</td>\n",
       "    </tr>\n",
       "    <tr>\n",
       "      <th>23</th>\n",
       "      <td>GO_MCM_cauchy1_N:5_T1:5_T2:0.4</td>\n",
       "      <td>5</td>\n",
       "      <td>5.0</td>\n",
       "      <td>0.4</td>\n",
       "      <td>347.606877</td>\n",
       "      <td>58.745562</td>\n",
       "      <td>0.169</td>\n",
       "    </tr>\n",
       "    <tr>\n",
       "      <th>50</th>\n",
       "      <td>GO_rnd_cauchy1_N:10_T1:1_T2:0.1</td>\n",
       "      <td>10</td>\n",
       "      <td>1.0</td>\n",
       "      <td>0.1</td>\n",
       "      <td>356.729157</td>\n",
       "      <td>57.790123</td>\n",
       "      <td>0.162</td>\n",
       "    </tr>\n",
       "    <tr>\n",
       "      <th>16</th>\n",
       "      <td>GO_MCM_cauchy1_N:3_T1:5_T2:0.1</td>\n",
       "      <td>3</td>\n",
       "      <td>5.0</td>\n",
       "      <td>0.1</td>\n",
       "      <td>359.317417</td>\n",
       "      <td>56.772152</td>\n",
       "      <td>0.158</td>\n",
       "    </tr>\n",
       "    <tr>\n",
       "      <th>42</th>\n",
       "      <td>GO_MMCM_cauchy3_N:5_T1:0.5_T2:0.1</td>\n",
       "      <td>5</td>\n",
       "      <td>0.5</td>\n",
       "      <td>0.1</td>\n",
       "      <td>359.461565</td>\n",
       "      <td>54.638158</td>\n",
       "      <td>0.152</td>\n",
       "    </tr>\n",
       "    <tr>\n",
       "      <th>80</th>\n",
       "      <td>GO_uni1_cauchy1_N:15_T1:1_T2:0.1</td>\n",
       "      <td>15</td>\n",
       "      <td>1.0</td>\n",
       "      <td>0.1</td>\n",
       "      <td>361.208761</td>\n",
       "      <td>62.127907</td>\n",
       "      <td>0.172</td>\n",
       "    </tr>\n",
       "    <tr>\n",
       "      <th>45</th>\n",
       "      <td>GO_MMCM_cauchy3_N:5_T1:1_T2:0.4</td>\n",
       "      <td>5</td>\n",
       "      <td>1.0</td>\n",
       "      <td>0.4</td>\n",
       "      <td>362.924023</td>\n",
       "      <td>51.535211</td>\n",
       "      <td>0.142</td>\n",
       "    </tr>\n",
       "    <tr>\n",
       "      <th>54</th>\n",
       "      <td>GO_rnd_cauchy1_N:15_T1:0.5_T2:0.1</td>\n",
       "      <td>15</td>\n",
       "      <td>0.5</td>\n",
       "      <td>0.1</td>\n",
       "      <td>363.657143</td>\n",
       "      <td>63.640000</td>\n",
       "      <td>0.175</td>\n",
       "    </tr>\n",
       "    <tr>\n",
       "      <th>36</th>\n",
       "      <td>GO_MMCM_cauchy3_N:3_T1:0.5_T2:0.1</td>\n",
       "      <td>3</td>\n",
       "      <td>0.5</td>\n",
       "      <td>0.1</td>\n",
       "      <td>366.326531</td>\n",
       "      <td>51.285714</td>\n",
       "      <td>0.140</td>\n",
       "    </tr>\n",
       "    <tr>\n",
       "      <th>22</th>\n",
       "      <td>GO_MCM_cauchy1_N:5_T1:5_T2:0.1</td>\n",
       "      <td>5</td>\n",
       "      <td>5.0</td>\n",
       "      <td>0.1</td>\n",
       "      <td>369.023438</td>\n",
       "      <td>59.043750</td>\n",
       "      <td>0.160</td>\n",
       "    </tr>\n",
       "    <tr>\n",
       "      <th>9</th>\n",
       "      <td>GO_MCM_cauchy1_N:15_T1:1_T2:0.4</td>\n",
       "      <td>15</td>\n",
       "      <td>1.0</td>\n",
       "      <td>0.4</td>\n",
       "      <td>369.102195</td>\n",
       "      <td>57.949045</td>\n",
       "      <td>0.157</td>\n",
       "    </tr>\n",
       "    <tr>\n",
       "      <th>6</th>\n",
       "      <td>GO_MCM_cauchy1_N:15_T1:0.5_T2:0.1</td>\n",
       "      <td>15</td>\n",
       "      <td>0.5</td>\n",
       "      <td>0.1</td>\n",
       "      <td>369.696970</td>\n",
       "      <td>61.000000</td>\n",
       "      <td>0.165</td>\n",
       "    </tr>\n",
       "    <tr>\n",
       "      <th>49</th>\n",
       "      <td>GO_rnd_cauchy1_N:10_T1:0.5_T2:0.4</td>\n",
       "      <td>10</td>\n",
       "      <td>0.5</td>\n",
       "      <td>0.4</td>\n",
       "      <td>373.086735</td>\n",
       "      <td>62.678571</td>\n",
       "      <td>0.168</td>\n",
       "    </tr>\n",
       "    <tr>\n",
       "      <th>88</th>\n",
       "      <td>GO_uni1_cauchy1_N:3_T1:5_T2:0.1</td>\n",
       "      <td>3</td>\n",
       "      <td>5.0</td>\n",
       "      <td>0.1</td>\n",
       "      <td>373.697979</td>\n",
       "      <td>54.186207</td>\n",
       "      <td>0.145</td>\n",
       "    </tr>\n",
       "    <tr>\n",
       "      <th>46</th>\n",
       "      <td>GO_MMCM_cauchy3_N:5_T1:5_T2:0.1</td>\n",
       "      <td>5</td>\n",
       "      <td>5.0</td>\n",
       "      <td>0.1</td>\n",
       "      <td>373.890818</td>\n",
       "      <td>53.840278</td>\n",
       "      <td>0.144</td>\n",
       "    </tr>\n",
       "    <tr>\n",
       "      <th>8</th>\n",
       "      <td>GO_MCM_cauchy1_N:15_T1:1_T2:0.1</td>\n",
       "      <td>15</td>\n",
       "      <td>1.0</td>\n",
       "      <td>0.1</td>\n",
       "      <td>377.812500</td>\n",
       "      <td>60.450000</td>\n",
       "      <td>0.160</td>\n",
       "    </tr>\n",
       "    <tr>\n",
       "      <th>24</th>\n",
       "      <td>GO_MMCM_cauchy3_N:10_T1:0.5_T2:0.1</td>\n",
       "      <td>10</td>\n",
       "      <td>0.5</td>\n",
       "      <td>0.1</td>\n",
       "      <td>379.759569</td>\n",
       "      <td>53.546099</td>\n",
       "      <td>0.141</td>\n",
       "    </tr>\n",
       "    <tr>\n",
       "      <th>4</th>\n",
       "      <td>GO_MCM_cauchy1_N:10_T1:5_T2:0.1</td>\n",
       "      <td>10</td>\n",
       "      <td>5.0</td>\n",
       "      <td>0.1</td>\n",
       "      <td>379.989839</td>\n",
       "      <td>63.078313</td>\n",
       "      <td>0.166</td>\n",
       "    </tr>\n",
       "    <tr>\n",
       "      <th>39</th>\n",
       "      <td>GO_MMCM_cauchy3_N:3_T1:1_T2:0.4</td>\n",
       "      <td>3</td>\n",
       "      <td>1.0</td>\n",
       "      <td>0.4</td>\n",
       "      <td>386.337449</td>\n",
       "      <td>52.155556</td>\n",
       "      <td>0.135</td>\n",
       "    </tr>\n",
       "    <tr>\n",
       "      <th>41</th>\n",
       "      <td>GO_MMCM_cauchy3_N:3_T1:5_T2:0.4</td>\n",
       "      <td>3</td>\n",
       "      <td>5.0</td>\n",
       "      <td>0.4</td>\n",
       "      <td>391.122449</td>\n",
       "      <td>54.757143</td>\n",
       "      <td>0.140</td>\n",
       "    </tr>\n",
       "    <tr>\n",
       "      <th>81</th>\n",
       "      <td>GO_uni1_cauchy1_N:15_T1:1_T2:0.4</td>\n",
       "      <td>15</td>\n",
       "      <td>1.0</td>\n",
       "      <td>0.4</td>\n",
       "      <td>395.729851</td>\n",
       "      <td>62.525316</td>\n",
       "      <td>0.158</td>\n",
       "    </tr>\n",
       "    <tr>\n",
       "      <th>95</th>\n",
       "      <td>GO_uni1_cauchy1_N:5_T1:5_T2:0.4</td>\n",
       "      <td>5</td>\n",
       "      <td>5.0</td>\n",
       "      <td>0.4</td>\n",
       "      <td>396.121547</td>\n",
       "      <td>62.191083</td>\n",
       "      <td>0.157</td>\n",
       "    </tr>\n",
       "    <tr>\n",
       "      <th>31</th>\n",
       "      <td>GO_MMCM_cauchy3_N:15_T1:0.5_T2:0.4</td>\n",
       "      <td>15</td>\n",
       "      <td>0.5</td>\n",
       "      <td>0.4</td>\n",
       "      <td>401.734694</td>\n",
       "      <td>56.242857</td>\n",
       "      <td>0.140</td>\n",
       "    </tr>\n",
       "    <tr>\n",
       "      <th>89</th>\n",
       "      <td>GO_uni1_cauchy1_N:3_T1:5_T2:0.4</td>\n",
       "      <td>3</td>\n",
       "      <td>5.0</td>\n",
       "      <td>0.4</td>\n",
       "      <td>410.335251</td>\n",
       "      <td>58.267606</td>\n",
       "      <td>0.142</td>\n",
       "    </tr>\n",
       "    <tr>\n",
       "      <th>7</th>\n",
       "      <td>GO_MCM_cauchy1_N:15_T1:0.5_T2:0.4</td>\n",
       "      <td>15</td>\n",
       "      <td>0.5</td>\n",
       "      <td>0.4</td>\n",
       "      <td>412.188640</td>\n",
       "      <td>61.416107</td>\n",
       "      <td>0.149</td>\n",
       "    </tr>\n",
       "    <tr>\n",
       "      <th>25</th>\n",
       "      <td>GO_MMCM_cauchy3_N:10_T1:0.5_T2:0.4</td>\n",
       "      <td>10</td>\n",
       "      <td>0.5</td>\n",
       "      <td>0.4</td>\n",
       "      <td>415.633609</td>\n",
       "      <td>54.863636</td>\n",
       "      <td>0.132</td>\n",
       "    </tr>\n",
       "    <tr>\n",
       "      <th>57</th>\n",
       "      <td>GO_rnd_cauchy1_N:15_T1:1_T2:0.4</td>\n",
       "      <td>15</td>\n",
       "      <td>1.0</td>\n",
       "      <td>0.4</td>\n",
       "      <td>420.926985</td>\n",
       "      <td>62.718121</td>\n",
       "      <td>0.149</td>\n",
       "    </tr>\n",
       "    <tr>\n",
       "      <th>44</th>\n",
       "      <td>GO_MMCM_cauchy3_N:5_T1:1_T2:0.1</td>\n",
       "      <td>5</td>\n",
       "      <td>1.0</td>\n",
       "      <td>0.1</td>\n",
       "      <td>422.421475</td>\n",
       "      <td>56.604478</td>\n",
       "      <td>0.134</td>\n",
       "    </tr>\n",
       "    <tr>\n",
       "      <th>37</th>\n",
       "      <td>GO_MMCM_cauchy3_N:3_T1:0.5_T2:0.4</td>\n",
       "      <td>3</td>\n",
       "      <td>0.5</td>\n",
       "      <td>0.4</td>\n",
       "      <td>423.026846</td>\n",
       "      <td>53.724409</td>\n",
       "      <td>0.127</td>\n",
       "    </tr>\n",
       "    <tr>\n",
       "      <th>64</th>\n",
       "      <td>GO_rnd_cauchy1_N:3_T1:5_T2:0.1</td>\n",
       "      <td>3</td>\n",
       "      <td>5.0</td>\n",
       "      <td>0.1</td>\n",
       "      <td>423.440454</td>\n",
       "      <td>58.434783</td>\n",
       "      <td>0.138</td>\n",
       "    </tr>\n",
       "    <tr>\n",
       "      <th>40</th>\n",
       "      <td>GO_MMCM_cauchy3_N:3_T1:5_T2:0.1</td>\n",
       "      <td>3</td>\n",
       "      <td>5.0</td>\n",
       "      <td>0.1</td>\n",
       "      <td>426.597925</td>\n",
       "      <td>52.471545</td>\n",
       "      <td>0.123</td>\n",
       "    </tr>\n",
       "    <tr>\n",
       "      <th>5</th>\n",
       "      <td>GO_MCM_cauchy1_N:10_T1:5_T2:0.4</td>\n",
       "      <td>10</td>\n",
       "      <td>5.0</td>\n",
       "      <td>0.4</td>\n",
       "      <td>431.560019</td>\n",
       "      <td>65.165563</td>\n",
       "      <td>0.151</td>\n",
       "    </tr>\n",
       "    <tr>\n",
       "      <th>47</th>\n",
       "      <td>GO_MMCM_cauchy3_N:5_T1:5_T2:0.4</td>\n",
       "      <td>5</td>\n",
       "      <td>5.0</td>\n",
       "      <td>0.4</td>\n",
       "      <td>432.026106</td>\n",
       "      <td>56.595420</td>\n",
       "      <td>0.131</td>\n",
       "    </tr>\n",
       "    <tr>\n",
       "      <th>29</th>\n",
       "      <td>GO_MMCM_cauchy3_N:10_T1:5_T2:0.4</td>\n",
       "      <td>10</td>\n",
       "      <td>5.0</td>\n",
       "      <td>0.4</td>\n",
       "      <td>432.822866</td>\n",
       "      <td>54.968504</td>\n",
       "      <td>0.127</td>\n",
       "    </tr>\n",
       "    <tr>\n",
       "      <th>94</th>\n",
       "      <td>GO_uni1_cauchy1_N:5_T1:5_T2:0.1</td>\n",
       "      <td>5</td>\n",
       "      <td>5.0</td>\n",
       "      <td>0.1</td>\n",
       "      <td>435.555556</td>\n",
       "      <td>65.333333</td>\n",
       "      <td>0.150</td>\n",
       "    </tr>\n",
       "    <tr>\n",
       "      <th>26</th>\n",
       "      <td>GO_MMCM_cauchy3_N:10_T1:1_T2:0.1</td>\n",
       "      <td>10</td>\n",
       "      <td>1.0</td>\n",
       "      <td>0.1</td>\n",
       "      <td>445.917160</td>\n",
       "      <td>57.969231</td>\n",
       "      <td>0.130</td>\n",
       "    </tr>\n",
       "    <tr>\n",
       "      <th>70</th>\n",
       "      <td>GO_rnd_cauchy1_N:5_T1:5_T2:0.1</td>\n",
       "      <td>5</td>\n",
       "      <td>5.0</td>\n",
       "      <td>0.1</td>\n",
       "      <td>448.583866</td>\n",
       "      <td>59.661654</td>\n",
       "      <td>0.133</td>\n",
       "    </tr>\n",
       "    <tr>\n",
       "      <th>71</th>\n",
       "      <td>GO_rnd_cauchy1_N:5_T1:5_T2:0.4</td>\n",
       "      <td>5</td>\n",
       "      <td>5.0</td>\n",
       "      <td>0.4</td>\n",
       "      <td>451.919272</td>\n",
       "      <td>60.105263</td>\n",
       "      <td>0.133</td>\n",
       "    </tr>\n",
       "    <tr>\n",
       "      <th>56</th>\n",
       "      <td>GO_rnd_cauchy1_N:15_T1:1_T2:0.1</td>\n",
       "      <td>15</td>\n",
       "      <td>1.0</td>\n",
       "      <td>0.1</td>\n",
       "      <td>454.044118</td>\n",
       "      <td>61.750000</td>\n",
       "      <td>0.136</td>\n",
       "    </tr>\n",
       "    <tr>\n",
       "      <th>76</th>\n",
       "      <td>GO_uni1_cauchy1_N:10_T1:5_T2:0.1</td>\n",
       "      <td>10</td>\n",
       "      <td>5.0</td>\n",
       "      <td>0.1</td>\n",
       "      <td>454.438776</td>\n",
       "      <td>63.621429</td>\n",
       "      <td>0.140</td>\n",
       "    </tr>\n",
       "    <tr>\n",
       "      <th>32</th>\n",
       "      <td>GO_MMCM_cauchy3_N:15_T1:1_T2:0.1</td>\n",
       "      <td>15</td>\n",
       "      <td>1.0</td>\n",
       "      <td>0.1</td>\n",
       "      <td>454.799688</td>\n",
       "      <td>56.395161</td>\n",
       "      <td>0.124</td>\n",
       "    </tr>\n",
       "    <tr>\n",
       "      <th>33</th>\n",
       "      <td>GO_MMCM_cauchy3_N:15_T1:1_T2:0.4</td>\n",
       "      <td>15</td>\n",
       "      <td>1.0</td>\n",
       "      <td>0.4</td>\n",
       "      <td>463.786617</td>\n",
       "      <td>56.581967</td>\n",
       "      <td>0.122</td>\n",
       "    </tr>\n",
       "    <tr>\n",
       "      <th>53</th>\n",
       "      <td>GO_rnd_cauchy1_N:10_T1:5_T2:0.4</td>\n",
       "      <td>10</td>\n",
       "      <td>5.0</td>\n",
       "      <td>0.4</td>\n",
       "      <td>467.869822</td>\n",
       "      <td>60.823077</td>\n",
       "      <td>0.130</td>\n",
       "    </tr>\n",
       "    <tr>\n",
       "      <th>52</th>\n",
       "      <td>GO_rnd_cauchy1_N:10_T1:5_T2:0.1</td>\n",
       "      <td>10</td>\n",
       "      <td>5.0</td>\n",
       "      <td>0.1</td>\n",
       "      <td>472.270903</td>\n",
       "      <td>62.812030</td>\n",
       "      <td>0.133</td>\n",
       "    </tr>\n",
       "    <tr>\n",
       "      <th>83</th>\n",
       "      <td>GO_uni1_cauchy1_N:15_T1:5_T2:0.4</td>\n",
       "      <td>15</td>\n",
       "      <td>5.0</td>\n",
       "      <td>0.4</td>\n",
       "      <td>473.345017</td>\n",
       "      <td>62.954887</td>\n",
       "      <td>0.133</td>\n",
       "    </tr>\n",
       "    <tr>\n",
       "      <th>10</th>\n",
       "      <td>GO_MCM_cauchy1_N:15_T1:5_T2:0.1</td>\n",
       "      <td>15</td>\n",
       "      <td>5.0</td>\n",
       "      <td>0.1</td>\n",
       "      <td>477.683260</td>\n",
       "      <td>65.920290</td>\n",
       "      <td>0.138</td>\n",
       "    </tr>\n",
       "    <tr>\n",
       "      <th>27</th>\n",
       "      <td>GO_MMCM_cauchy3_N:10_T1:1_T2:0.4</td>\n",
       "      <td>10</td>\n",
       "      <td>1.0</td>\n",
       "      <td>0.4</td>\n",
       "      <td>486.406327</td>\n",
       "      <td>57.882353</td>\n",
       "      <td>0.119</td>\n",
       "    </tr>\n",
       "    <tr>\n",
       "      <th>82</th>\n",
       "      <td>GO_uni1_cauchy1_N:15_T1:5_T2:0.1</td>\n",
       "      <td>15</td>\n",
       "      <td>5.0</td>\n",
       "      <td>0.1</td>\n",
       "      <td>487.413678</td>\n",
       "      <td>65.313433</td>\n",
       "      <td>0.134</td>\n",
       "    </tr>\n",
       "    <tr>\n",
       "      <th>30</th>\n",
       "      <td>GO_MMCM_cauchy3_N:15_T1:0.5_T2:0.1</td>\n",
       "      <td>15</td>\n",
       "      <td>0.5</td>\n",
       "      <td>0.1</td>\n",
       "      <td>495.501791</td>\n",
       "      <td>53.018692</td>\n",
       "      <td>0.107</td>\n",
       "    </tr>\n",
       "    <tr>\n",
       "      <th>65</th>\n",
       "      <td>GO_rnd_cauchy1_N:3_T1:5_T2:0.4</td>\n",
       "      <td>3</td>\n",
       "      <td>5.0</td>\n",
       "      <td>0.4</td>\n",
       "      <td>507.507324</td>\n",
       "      <td>64.960938</td>\n",
       "      <td>0.128</td>\n",
       "    </tr>\n",
       "    <tr>\n",
       "      <th>11</th>\n",
       "      <td>GO_MCM_cauchy1_N:15_T1:5_T2:0.4</td>\n",
       "      <td>15</td>\n",
       "      <td>5.0</td>\n",
       "      <td>0.4</td>\n",
       "      <td>517.535609</td>\n",
       "      <td>63.139344</td>\n",
       "      <td>0.122</td>\n",
       "    </tr>\n",
       "    <tr>\n",
       "      <th>77</th>\n",
       "      <td>GO_uni1_cauchy1_N:10_T1:5_T2:0.4</td>\n",
       "      <td>10</td>\n",
       "      <td>5.0</td>\n",
       "      <td>0.4</td>\n",
       "      <td>520.191131</td>\n",
       "      <td>68.145038</td>\n",
       "      <td>0.131</td>\n",
       "    </tr>\n",
       "    <tr>\n",
       "      <th>28</th>\n",
       "      <td>GO_MMCM_cauchy3_N:10_T1:5_T2:0.1</td>\n",
       "      <td>10</td>\n",
       "      <td>5.0</td>\n",
       "      <td>0.1</td>\n",
       "      <td>582.500000</td>\n",
       "      <td>58.250000</td>\n",
       "      <td>0.100</td>\n",
       "    </tr>\n",
       "    <tr>\n",
       "      <th>58</th>\n",
       "      <td>GO_rnd_cauchy1_N:15_T1:5_T2:0.1</td>\n",
       "      <td>15</td>\n",
       "      <td>5.0</td>\n",
       "      <td>0.1</td>\n",
       "      <td>585.640939</td>\n",
       "      <td>63.834862</td>\n",
       "      <td>0.109</td>\n",
       "    </tr>\n",
       "    <tr>\n",
       "      <th>35</th>\n",
       "      <td>GO_MMCM_cauchy3_N:15_T1:5_T2:0.4</td>\n",
       "      <td>15</td>\n",
       "      <td>5.0</td>\n",
       "      <td>0.4</td>\n",
       "      <td>614.474826</td>\n",
       "      <td>58.989583</td>\n",
       "      <td>0.096</td>\n",
       "    </tr>\n",
       "    <tr>\n",
       "      <th>34</th>\n",
       "      <td>GO_MMCM_cauchy3_N:15_T1:5_T2:0.1</td>\n",
       "      <td>15</td>\n",
       "      <td>5.0</td>\n",
       "      <td>0.1</td>\n",
       "      <td>642.192972</td>\n",
       "      <td>58.439560</td>\n",
       "      <td>0.091</td>\n",
       "    </tr>\n",
       "    <tr>\n",
       "      <th>59</th>\n",
       "      <td>GO_rnd_cauchy1_N:15_T1:5_T2:0.4</td>\n",
       "      <td>15</td>\n",
       "      <td>5.0</td>\n",
       "      <td>0.4</td>\n",
       "      <td>679.024272</td>\n",
       "      <td>61.791209</td>\n",
       "      <td>0.091</td>\n",
       "    </tr>\n",
       "  </tbody>\n",
       "</table>\n",
       "</div>"
      ],
      "text/plain": [
       "                                  heur   n  temp1  temp2         feo  \\\n",
       "18    GO_MCM_cauchy1_N:5_T1:0.5_T2:0.1   5    0.5    0.1  228.224000   \n",
       "21      GO_MCM_cauchy1_N:5_T1:1_T2:0.4   5    1.0    0.4  243.343079   \n",
       "61    GO_rnd_cauchy1_N:3_T1:0.5_T2:0.4   3    0.5    0.4  248.966942   \n",
       "85   GO_uni1_cauchy1_N:3_T1:0.5_T2:0.4   3    0.5    0.4  254.167556   \n",
       "14      GO_MCM_cauchy1_N:3_T1:1_T2:0.1   3    1.0    0.1  258.766465   \n",
       "92     GO_uni1_cauchy1_N:5_T1:1_T2:0.1   5    1.0    0.1  263.234181   \n",
       "20      GO_MCM_cauchy1_N:5_T1:1_T2:0.1   5    1.0    0.1  266.350617   \n",
       "84   GO_uni1_cauchy1_N:3_T1:0.5_T2:0.1   3    0.5    0.1  269.499343   \n",
       "15      GO_MCM_cauchy1_N:3_T1:1_T2:0.4   3    1.0    0.4  270.577037   \n",
       "13    GO_MCM_cauchy1_N:3_T1:0.5_T2:0.4   3    0.5    0.4  271.286561   \n",
       "19    GO_MCM_cauchy1_N:5_T1:0.5_T2:0.4   5    0.5    0.4  271.966984   \n",
       "87     GO_uni1_cauchy1_N:3_T1:1_T2:0.4   3    1.0    0.4  274.309010   \n",
       "93     GO_uni1_cauchy1_N:5_T1:1_T2:0.4   5    1.0    0.4  281.236029   \n",
       "86     GO_uni1_cauchy1_N:3_T1:1_T2:0.1   3    1.0    0.1  283.134374   \n",
       "90   GO_uni1_cauchy1_N:5_T1:0.5_T2:0.1   5    0.5    0.1  284.816424   \n",
       "12    GO_MCM_cauchy1_N:3_T1:0.5_T2:0.1   3    0.5    0.1  285.630125   \n",
       "66    GO_rnd_cauchy1_N:5_T1:0.5_T2:0.1   5    0.5    0.1  287.146012   \n",
       "91   GO_uni1_cauchy1_N:5_T1:0.5_T2:0.4   5    0.5    0.4  289.522537   \n",
       "73  GO_uni1_cauchy1_N:10_T1:0.5_T2:0.4  10    0.5    0.4  294.886582   \n",
       "68      GO_rnd_cauchy1_N:5_T1:1_T2:0.1   5    1.0    0.1  300.450000   \n",
       "60    GO_rnd_cauchy1_N:3_T1:0.5_T2:0.1   3    0.5    0.1  307.578911   \n",
       "1    GO_MCM_cauchy1_N:10_T1:0.5_T2:0.4  10    0.5    0.4  307.659266   \n",
       "72  GO_uni1_cauchy1_N:10_T1:0.5_T2:0.1  10    0.5    0.1  308.791769   \n",
       "79  GO_uni1_cauchy1_N:15_T1:0.5_T2:0.4  15    0.5    0.4  309.749044   \n",
       "63      GO_rnd_cauchy1_N:3_T1:1_T2:0.4   3    1.0    0.4  311.407136   \n",
       "75    GO_uni1_cauchy1_N:10_T1:1_T2:0.4  10    1.0    0.4  311.886418   \n",
       "3      GO_MCM_cauchy1_N:10_T1:1_T2:0.4  10    1.0    0.4  314.697266   \n",
       "67    GO_rnd_cauchy1_N:5_T1:0.5_T2:0.4   5    0.5    0.4  317.014336   \n",
       "51     GO_rnd_cauchy1_N:10_T1:1_T2:0.4  10    1.0    0.4  318.611111   \n",
       "48   GO_rnd_cauchy1_N:10_T1:0.5_T2:0.1  10    0.5    0.1  322.770083   \n",
       "74    GO_uni1_cauchy1_N:10_T1:1_T2:0.1  10    1.0    0.1  326.048210   \n",
       "2      GO_MCM_cauchy1_N:10_T1:1_T2:0.1  10    1.0    0.1  327.693526   \n",
       "62      GO_rnd_cauchy1_N:3_T1:1_T2:0.1   3    1.0    0.1  332.319824   \n",
       "78  GO_uni1_cauchy1_N:15_T1:0.5_T2:0.1  15    0.5    0.1  332.417840   \n",
       "38     GO_MMCM_cauchy3_N:3_T1:1_T2:0.1   3    1.0    0.1  334.828318   \n",
       "55   GO_rnd_cauchy1_N:15_T1:0.5_T2:0.4  15    0.5    0.4  340.715393   \n",
       "69      GO_rnd_cauchy1_N:5_T1:1_T2:0.4   5    1.0    0.4  341.748450   \n",
       "43   GO_MMCM_cauchy3_N:5_T1:0.5_T2:0.4   5    0.5    0.4  344.572368   \n",
       "0    GO_MCM_cauchy1_N:10_T1:0.5_T2:0.1  10    0.5    0.1  345.386750   \n",
       "17      GO_MCM_cauchy1_N:3_T1:5_T2:0.4   3    5.0    0.4  346.381429   \n",
       "23      GO_MCM_cauchy1_N:5_T1:5_T2:0.4   5    5.0    0.4  347.606877   \n",
       "50     GO_rnd_cauchy1_N:10_T1:1_T2:0.1  10    1.0    0.1  356.729157   \n",
       "16      GO_MCM_cauchy1_N:3_T1:5_T2:0.1   3    5.0    0.1  359.317417   \n",
       "42   GO_MMCM_cauchy3_N:5_T1:0.5_T2:0.1   5    0.5    0.1  359.461565   \n",
       "80    GO_uni1_cauchy1_N:15_T1:1_T2:0.1  15    1.0    0.1  361.208761   \n",
       "45     GO_MMCM_cauchy3_N:5_T1:1_T2:0.4   5    1.0    0.4  362.924023   \n",
       "54   GO_rnd_cauchy1_N:15_T1:0.5_T2:0.1  15    0.5    0.1  363.657143   \n",
       "36   GO_MMCM_cauchy3_N:3_T1:0.5_T2:0.1   3    0.5    0.1  366.326531   \n",
       "22      GO_MCM_cauchy1_N:5_T1:5_T2:0.1   5    5.0    0.1  369.023438   \n",
       "9      GO_MCM_cauchy1_N:15_T1:1_T2:0.4  15    1.0    0.4  369.102195   \n",
       "6    GO_MCM_cauchy1_N:15_T1:0.5_T2:0.1  15    0.5    0.1  369.696970   \n",
       "49   GO_rnd_cauchy1_N:10_T1:0.5_T2:0.4  10    0.5    0.4  373.086735   \n",
       "88     GO_uni1_cauchy1_N:3_T1:5_T2:0.1   3    5.0    0.1  373.697979   \n",
       "46     GO_MMCM_cauchy3_N:5_T1:5_T2:0.1   5    5.0    0.1  373.890818   \n",
       "8      GO_MCM_cauchy1_N:15_T1:1_T2:0.1  15    1.0    0.1  377.812500   \n",
       "24  GO_MMCM_cauchy3_N:10_T1:0.5_T2:0.1  10    0.5    0.1  379.759569   \n",
       "4      GO_MCM_cauchy1_N:10_T1:5_T2:0.1  10    5.0    0.1  379.989839   \n",
       "39     GO_MMCM_cauchy3_N:3_T1:1_T2:0.4   3    1.0    0.4  386.337449   \n",
       "41     GO_MMCM_cauchy3_N:3_T1:5_T2:0.4   3    5.0    0.4  391.122449   \n",
       "81    GO_uni1_cauchy1_N:15_T1:1_T2:0.4  15    1.0    0.4  395.729851   \n",
       "95     GO_uni1_cauchy1_N:5_T1:5_T2:0.4   5    5.0    0.4  396.121547   \n",
       "31  GO_MMCM_cauchy3_N:15_T1:0.5_T2:0.4  15    0.5    0.4  401.734694   \n",
       "89     GO_uni1_cauchy1_N:3_T1:5_T2:0.4   3    5.0    0.4  410.335251   \n",
       "7    GO_MCM_cauchy1_N:15_T1:0.5_T2:0.4  15    0.5    0.4  412.188640   \n",
       "25  GO_MMCM_cauchy3_N:10_T1:0.5_T2:0.4  10    0.5    0.4  415.633609   \n",
       "57     GO_rnd_cauchy1_N:15_T1:1_T2:0.4  15    1.0    0.4  420.926985   \n",
       "44     GO_MMCM_cauchy3_N:5_T1:1_T2:0.1   5    1.0    0.1  422.421475   \n",
       "37   GO_MMCM_cauchy3_N:3_T1:0.5_T2:0.4   3    0.5    0.4  423.026846   \n",
       "64      GO_rnd_cauchy1_N:3_T1:5_T2:0.1   3    5.0    0.1  423.440454   \n",
       "40     GO_MMCM_cauchy3_N:3_T1:5_T2:0.1   3    5.0    0.1  426.597925   \n",
       "5      GO_MCM_cauchy1_N:10_T1:5_T2:0.4  10    5.0    0.4  431.560019   \n",
       "47     GO_MMCM_cauchy3_N:5_T1:5_T2:0.4   5    5.0    0.4  432.026106   \n",
       "29    GO_MMCM_cauchy3_N:10_T1:5_T2:0.4  10    5.0    0.4  432.822866   \n",
       "94     GO_uni1_cauchy1_N:5_T1:5_T2:0.1   5    5.0    0.1  435.555556   \n",
       "26    GO_MMCM_cauchy3_N:10_T1:1_T2:0.1  10    1.0    0.1  445.917160   \n",
       "70      GO_rnd_cauchy1_N:5_T1:5_T2:0.1   5    5.0    0.1  448.583866   \n",
       "71      GO_rnd_cauchy1_N:5_T1:5_T2:0.4   5    5.0    0.4  451.919272   \n",
       "56     GO_rnd_cauchy1_N:15_T1:1_T2:0.1  15    1.0    0.1  454.044118   \n",
       "76    GO_uni1_cauchy1_N:10_T1:5_T2:0.1  10    5.0    0.1  454.438776   \n",
       "32    GO_MMCM_cauchy3_N:15_T1:1_T2:0.1  15    1.0    0.1  454.799688   \n",
       "33    GO_MMCM_cauchy3_N:15_T1:1_T2:0.4  15    1.0    0.4  463.786617   \n",
       "53     GO_rnd_cauchy1_N:10_T1:5_T2:0.4  10    5.0    0.4  467.869822   \n",
       "52     GO_rnd_cauchy1_N:10_T1:5_T2:0.1  10    5.0    0.1  472.270903   \n",
       "83    GO_uni1_cauchy1_N:15_T1:5_T2:0.4  15    5.0    0.4  473.345017   \n",
       "10     GO_MCM_cauchy1_N:15_T1:5_T2:0.1  15    5.0    0.1  477.683260   \n",
       "27    GO_MMCM_cauchy3_N:10_T1:1_T2:0.4  10    1.0    0.4  486.406327   \n",
       "82    GO_uni1_cauchy1_N:15_T1:5_T2:0.1  15    5.0    0.1  487.413678   \n",
       "30  GO_MMCM_cauchy3_N:15_T1:0.5_T2:0.1  15    0.5    0.1  495.501791   \n",
       "65      GO_rnd_cauchy1_N:3_T1:5_T2:0.4   3    5.0    0.4  507.507324   \n",
       "11     GO_MCM_cauchy1_N:15_T1:5_T2:0.4  15    5.0    0.4  517.535609   \n",
       "77    GO_uni1_cauchy1_N:10_T1:5_T2:0.4  10    5.0    0.4  520.191131   \n",
       "28    GO_MMCM_cauchy3_N:10_T1:5_T2:0.1  10    5.0    0.1  582.500000   \n",
       "58     GO_rnd_cauchy1_N:15_T1:5_T2:0.1  15    5.0    0.1  585.640939   \n",
       "35    GO_MMCM_cauchy3_N:15_T1:5_T2:0.4  15    5.0    0.4  614.474826   \n",
       "34    GO_MMCM_cauchy3_N:15_T1:5_T2:0.1  15    5.0    0.1  642.192972   \n",
       "59     GO_rnd_cauchy1_N:15_T1:5_T2:0.4  15    5.0    0.4  679.024272   \n",
       "\n",
       "          mne    rel  \n",
       "18  57.056000  0.250  \n",
       "21  58.158996  0.239  \n",
       "61  54.772727  0.220  \n",
       "85  57.696035  0.227  \n",
       "14  54.858491  0.212  \n",
       "92  56.595349  0.215  \n",
       "20  59.928889  0.225  \n",
       "84  53.091371  0.197  \n",
       "15  55.468293  0.205  \n",
       "13  57.784038  0.213  \n",
       "19  58.200935  0.214  \n",
       "87  55.684729  0.203  \n",
       "93  54.841026  0.195  \n",
       "86  56.060606  0.198  \n",
       "90  57.817734  0.203  \n",
       "12  58.839806  0.206  \n",
       "66  58.290640  0.203  \n",
       "91  58.194030  0.201  \n",
       "73  60.156863  0.204  \n",
       "68  60.090000  0.200  \n",
       "60  57.209677  0.186  \n",
       "1   59.378238  0.193  \n",
       "72  62.684729  0.203  \n",
       "79  62.569307  0.202  \n",
       "63  57.298913  0.184  \n",
       "75  61.441624  0.197  \n",
       "3   60.421875  0.192  \n",
       "67  60.549738  0.191  \n",
       "51  57.350000  0.180  \n",
       "48  61.326316  0.190  \n",
       "74  60.318919  0.185  \n",
       "2   61.606383  0.188  \n",
       "62  57.491329  0.173  \n",
       "78  59.502793  0.179  \n",
       "38  48.215278  0.144  \n",
       "55  59.965909  0.176  \n",
       "69  60.147727  0.176  \n",
       "43  52.375000  0.152  \n",
       "0   64.241935  0.186  \n",
       "17  58.538462  0.169  \n",
       "23  58.745562  0.169  \n",
       "50  57.790123  0.162  \n",
       "16  56.772152  0.158  \n",
       "42  54.638158  0.152  \n",
       "80  62.127907  0.172  \n",
       "45  51.535211  0.142  \n",
       "54  63.640000  0.175  \n",
       "36  51.285714  0.140  \n",
       "22  59.043750  0.160  \n",
       "9   57.949045  0.157  \n",
       "6   61.000000  0.165  \n",
       "49  62.678571  0.168  \n",
       "88  54.186207  0.145  \n",
       "46  53.840278  0.144  \n",
       "8   60.450000  0.160  \n",
       "24  53.546099  0.141  \n",
       "4   63.078313  0.166  \n",
       "39  52.155556  0.135  \n",
       "41  54.757143  0.140  \n",
       "81  62.525316  0.158  \n",
       "95  62.191083  0.157  \n",
       "31  56.242857  0.140  \n",
       "89  58.267606  0.142  \n",
       "7   61.416107  0.149  \n",
       "25  54.863636  0.132  \n",
       "57  62.718121  0.149  \n",
       "44  56.604478  0.134  \n",
       "37  53.724409  0.127  \n",
       "64  58.434783  0.138  \n",
       "40  52.471545  0.123  \n",
       "5   65.165563  0.151  \n",
       "47  56.595420  0.131  \n",
       "29  54.968504  0.127  \n",
       "94  65.333333  0.150  \n",
       "26  57.969231  0.130  \n",
       "70  59.661654  0.133  \n",
       "71  60.105263  0.133  \n",
       "56  61.750000  0.136  \n",
       "76  63.621429  0.140  \n",
       "32  56.395161  0.124  \n",
       "33  56.581967  0.122  \n",
       "53  60.823077  0.130  \n",
       "52  62.812030  0.133  \n",
       "83  62.954887  0.133  \n",
       "10  65.920290  0.138  \n",
       "27  57.882353  0.119  \n",
       "82  65.313433  0.134  \n",
       "30  53.018692  0.107  \n",
       "65  64.960938  0.128  \n",
       "11  63.139344  0.122  \n",
       "77  68.145038  0.131  \n",
       "28  58.250000  0.100  \n",
       "58  63.834862  0.109  \n",
       "35  58.989583  0.096  \n",
       "34  58.439560  0.091  \n",
       "59  61.791209  0.091  "
      ]
     },
     "execution_count": 16,
     "metadata": {},
     "output_type": "execute_result"
    }
   ],
   "source": [
    "results_pivot = results_2.pivot_table(\n",
    "    index=['heur', 'n', 'temp1', 'temp2'],\n",
    "    values=['neval'],\n",
    "    aggfunc=(rel, mne, feo)\n",
    ")['neval']\n",
    "results_pivot = results_pivot.reset_index()\n",
    "results_pivot.sort_values(by='feo')"
   ]
  },
  {
   "cell_type": "code",
   "execution_count": null,
   "metadata": {},
   "outputs": [],
   "source": []
  }
 ],
 "metadata": {
  "kernelspec": {
   "display_name": "Python 3",
   "language": "python",
   "name": "python3"
  },
  "language_info": {
   "codemirror_mode": {
    "name": "ipython",
    "version": 3
   },
   "file_extension": ".py",
   "mimetype": "text/x-python",
   "name": "python",
   "nbconvert_exporter": "python",
   "pygments_lexer": "ipython3",
   "version": "3.7.6"
  }
 },
 "nbformat": 4,
 "nbformat_minor": 4
}
